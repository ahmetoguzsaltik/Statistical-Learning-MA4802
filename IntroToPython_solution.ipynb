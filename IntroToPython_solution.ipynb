{
 "cells": [
  {
   "cell_type": "markdown",
   "metadata": {
    "colab_type": "text",
    "id": "llMTHzOa8K0Y"
   },
   "source": [
    "# Sheet 1"
   ]
  },
  {
   "cell_type": "markdown",
   "metadata": {
    "colab_type": "text",
    "id": "a_B5lJK18K0a"
   },
   "source": [
    "Some of the following exercieses are based on the tutorial https://medium.com/codebagng/basic-analysis-of-the-iris-data-set-using-python-2995618a6342."
   ]
  },
  {
   "cell_type": "markdown",
   "metadata": {
    "colab_type": "text",
    "id": "dEC7weQy8K0a"
   },
   "source": [
    "# Exercise 1"
   ]
  },
  {
   "cell_type": "markdown",
   "metadata": {
    "colab_type": "text",
    "collapsed": true,
    "id": "uIzkH-Rk8K0b"
   },
   "source": [
    "## Load the data set"
   ]
  },
  {
   "cell_type": "markdown",
   "metadata": {
    "colab_type": "text",
    "id": "DMrgkY0m8K0d"
   },
   "source": [
    "Although the following data set is already built into Python under the name \"iris\", we will retrieve it here from the internet introducing the command \"read.csv\"."
   ]
  },
  {
   "cell_type": "code",
   "execution_count": 2,
   "metadata": {
    "colab": {},
    "colab_type": "code",
    "id": "DRe5zLvh8K0e"
   },
   "outputs": [],
   "source": [
    "# Import the `pandas` library as `pd`\n",
    "import pandas as pd\n",
    "names = ['Sepal_length', 'Sepal_width', 'Petal_length', 'Petal_width', 'Species']\n",
    "iris = pd.read_csv(\"http://archive.ics.uci.edu/ml/machine-learning-databases/iris/iris.data\", header = None, names = names)"
   ]
  },
  {
   "cell_type": "markdown",
   "metadata": {
    "colab_type": "text",
    "id": "MsDPkfs-8K0i"
   },
   "source": [
    "Get the first five rows of the data set."
   ]
  },
  {
   "cell_type": "code",
   "execution_count": 3,
   "metadata": {
    "colab": {
     "base_uri": "https://localhost:8080/",
     "height": 204
    },
    "colab_type": "code",
    "executionInfo": {
     "elapsed": 564,
     "status": "ok",
     "timestamp": 1587543115008,
     "user": {
      "displayName": "彭廷莹",
      "photoUrl": "https://lh3.googleusercontent.com/a-/AOh14Gg-TVZvcFXv_ddQnFSonh6P-VF0zYaqOPEA1p_l=s64",
      "userId": "00488430844757231586"
     },
     "user_tz": -120
    },
    "id": "VIyG7Fsr8K0j",
    "outputId": "f6073b86-f226-4d86-b4e8-5e1362c972e6",
    "scrolled": true
   },
   "outputs": [
    {
     "data": {
      "text/html": [
       "<div>\n",
       "<style scoped>\n",
       "    .dataframe tbody tr th:only-of-type {\n",
       "        vertical-align: middle;\n",
       "    }\n",
       "\n",
       "    .dataframe tbody tr th {\n",
       "        vertical-align: top;\n",
       "    }\n",
       "\n",
       "    .dataframe thead th {\n",
       "        text-align: right;\n",
       "    }\n",
       "</style>\n",
       "<table border=\"1\" class=\"dataframe\">\n",
       "  <thead>\n",
       "    <tr style=\"text-align: right;\">\n",
       "      <th></th>\n",
       "      <th>Sepal_length</th>\n",
       "      <th>Sepal_width</th>\n",
       "      <th>Petal_length</th>\n",
       "      <th>Petal_width</th>\n",
       "      <th>Species</th>\n",
       "    </tr>\n",
       "  </thead>\n",
       "  <tbody>\n",
       "    <tr>\n",
       "      <th>0</th>\n",
       "      <td>5.1</td>\n",
       "      <td>3.5</td>\n",
       "      <td>1.4</td>\n",
       "      <td>0.2</td>\n",
       "      <td>Iris-setosa</td>\n",
       "    </tr>\n",
       "    <tr>\n",
       "      <th>1</th>\n",
       "      <td>4.9</td>\n",
       "      <td>3.0</td>\n",
       "      <td>1.4</td>\n",
       "      <td>0.2</td>\n",
       "      <td>Iris-setosa</td>\n",
       "    </tr>\n",
       "    <tr>\n",
       "      <th>2</th>\n",
       "      <td>4.7</td>\n",
       "      <td>3.2</td>\n",
       "      <td>1.3</td>\n",
       "      <td>0.2</td>\n",
       "      <td>Iris-setosa</td>\n",
       "    </tr>\n",
       "    <tr>\n",
       "      <th>3</th>\n",
       "      <td>4.6</td>\n",
       "      <td>3.1</td>\n",
       "      <td>1.5</td>\n",
       "      <td>0.2</td>\n",
       "      <td>Iris-setosa</td>\n",
       "    </tr>\n",
       "    <tr>\n",
       "      <th>4</th>\n",
       "      <td>5.0</td>\n",
       "      <td>3.6</td>\n",
       "      <td>1.4</td>\n",
       "      <td>0.2</td>\n",
       "      <td>Iris-setosa</td>\n",
       "    </tr>\n",
       "  </tbody>\n",
       "</table>\n",
       "</div>"
      ],
      "text/plain": [
       "   Sepal_length  Sepal_width  Petal_length  Petal_width      Species\n",
       "0           5.1          3.5           1.4          0.2  Iris-setosa\n",
       "1           4.9          3.0           1.4          0.2  Iris-setosa\n",
       "2           4.7          3.2           1.3          0.2  Iris-setosa\n",
       "3           4.6          3.1           1.5          0.2  Iris-setosa\n",
       "4           5.0          3.6           1.4          0.2  Iris-setosa"
      ]
     },
     "execution_count": 3,
     "metadata": {},
     "output_type": "execute_result"
    }
   ],
   "source": [
    "iris.head(5)"
   ]
  },
  {
   "cell_type": "markdown",
   "metadata": {
    "colab_type": "text",
    "id": "qvKYh96J8K0q"
   },
   "source": [
    "Get a description of your data (type of variables, numbers, ...)."
   ]
  },
  {
   "cell_type": "code",
   "execution_count": 4,
   "metadata": {
    "colab": {
     "base_uri": "https://localhost:8080/",
     "height": 255
    },
    "colab_type": "code",
    "executionInfo": {
     "elapsed": 668,
     "status": "ok",
     "timestamp": 1587543118277,
     "user": {
      "displayName": "彭廷莹",
      "photoUrl": "https://lh3.googleusercontent.com/a-/AOh14Gg-TVZvcFXv_ddQnFSonh6P-VF0zYaqOPEA1p_l=s64",
      "userId": "00488430844757231586"
     },
     "user_tz": -120
    },
    "id": "23HA2Rb58K0r",
    "outputId": "ae02d482-3426-4622-98ee-a989589778b8"
   },
   "outputs": [
    {
     "data": {
      "text/plain": [
       "<bound method DataFrame.info of      Sepal_length  Sepal_width  Petal_length  Petal_width         Species\n",
       "0             5.1          3.5           1.4          0.2     Iris-setosa\n",
       "1             4.9          3.0           1.4          0.2     Iris-setosa\n",
       "2             4.7          3.2           1.3          0.2     Iris-setosa\n",
       "3             4.6          3.1           1.5          0.2     Iris-setosa\n",
       "4             5.0          3.6           1.4          0.2     Iris-setosa\n",
       "..            ...          ...           ...          ...             ...\n",
       "145           6.7          3.0           5.2          2.3  Iris-virginica\n",
       "146           6.3          2.5           5.0          1.9  Iris-virginica\n",
       "147           6.5          3.0           5.2          2.0  Iris-virginica\n",
       "148           6.2          3.4           5.4          2.3  Iris-virginica\n",
       "149           5.9          3.0           5.1          1.8  Iris-virginica\n",
       "\n",
       "[150 rows x 5 columns]>"
      ]
     },
     "execution_count": 4,
     "metadata": {},
     "output_type": "execute_result"
    }
   ],
   "source": [
    "iris.info"
   ]
  },
  {
   "cell_type": "markdown",
   "metadata": {
    "colab_type": "text",
    "id": "nBsE7Ft08K0v"
   },
   "source": [
    "Factor variables represent categorical variables. They can thus take on a limited number of different values. Here, \"Species\" can take 3 values.\n",
    "\n",
    "A quick look at the Species attribute through tells you that the number division of the species of flowers is 50-50-50."
   ]
  },
  {
   "cell_type": "code",
   "execution_count": 5,
   "metadata": {
    "colab": {
     "base_uri": "https://localhost:8080/",
     "height": 102
    },
    "colab_type": "code",
    "executionInfo": {
     "elapsed": 587,
     "status": "ok",
     "timestamp": 1587543120983,
     "user": {
      "displayName": "彭廷莹",
      "photoUrl": "https://lh3.googleusercontent.com/a-/AOh14Gg-TVZvcFXv_ddQnFSonh6P-VF0zYaqOPEA1p_l=s64",
      "userId": "00488430844757231586"
     },
     "user_tz": -120
    },
    "id": "6EpJ-Drx8K0v",
    "outputId": "6e03ebf6-f4a6-4304-88ce-e9b40fe062ac"
   },
   "outputs": [
    {
     "data": {
      "text/plain": [
       "Species\n",
       "Iris-setosa        50\n",
       "Iris-versicolor    50\n",
       "Iris-virginica     50\n",
       "dtype: int64"
      ]
     },
     "execution_count": 5,
     "metadata": {},
     "output_type": "execute_result"
    }
   ],
   "source": [
    "iris.groupby('Species').size() "
   ]
  },
  {
   "cell_type": "markdown",
   "metadata": {
    "colab_type": "text",
    "id": "CmFk5BYk8K00"
   },
   "source": [
    "Note: You can also directly inspect the data set as a whole by simply typing \"iris\"."
   ]
  },
  {
   "cell_type": "markdown",
   "metadata": {
    "colab_type": "text",
    "id": "1N7e25z88K00"
   },
   "source": [
    "Let's not remain on this high-level overview of the data! Python gives you the opportunity to go more in-depth with the describe() function. This will give you the minimum value, first quantile, median, mean, third quantile and maximum value of the data set Iris for numeric data types. For the class variable, the count of factors will be returned:"
   ]
  },
  {
   "cell_type": "code",
   "execution_count": 6,
   "metadata": {
    "colab": {
     "base_uri": "https://localhost:8080/",
     "height": 297
    },
    "colab_type": "code",
    "executionInfo": {
     "elapsed": 657,
     "status": "ok",
     "timestamp": 1587543123670,
     "user": {
      "displayName": "彭廷莹",
      "photoUrl": "https://lh3.googleusercontent.com/a-/AOh14Gg-TVZvcFXv_ddQnFSonh6P-VF0zYaqOPEA1p_l=s64",
      "userId": "00488430844757231586"
     },
     "user_tz": -120
    },
    "id": "LRaYe8IM8K01",
    "outputId": "fbaa42cd-8cfc-4952-e54b-311ee858418e"
   },
   "outputs": [
    {
     "data": {
      "text/html": [
       "<div>\n",
       "<style scoped>\n",
       "    .dataframe tbody tr th:only-of-type {\n",
       "        vertical-align: middle;\n",
       "    }\n",
       "\n",
       "    .dataframe tbody tr th {\n",
       "        vertical-align: top;\n",
       "    }\n",
       "\n",
       "    .dataframe thead th {\n",
       "        text-align: right;\n",
       "    }\n",
       "</style>\n",
       "<table border=\"1\" class=\"dataframe\">\n",
       "  <thead>\n",
       "    <tr style=\"text-align: right;\">\n",
       "      <th></th>\n",
       "      <th>Sepal_length</th>\n",
       "      <th>Sepal_width</th>\n",
       "      <th>Petal_length</th>\n",
       "      <th>Petal_width</th>\n",
       "    </tr>\n",
       "  </thead>\n",
       "  <tbody>\n",
       "    <tr>\n",
       "      <th>count</th>\n",
       "      <td>150.000000</td>\n",
       "      <td>150.000000</td>\n",
       "      <td>150.000000</td>\n",
       "      <td>150.000000</td>\n",
       "    </tr>\n",
       "    <tr>\n",
       "      <th>mean</th>\n",
       "      <td>5.843333</td>\n",
       "      <td>3.054000</td>\n",
       "      <td>3.758667</td>\n",
       "      <td>1.198667</td>\n",
       "    </tr>\n",
       "    <tr>\n",
       "      <th>std</th>\n",
       "      <td>0.828066</td>\n",
       "      <td>0.433594</td>\n",
       "      <td>1.764420</td>\n",
       "      <td>0.763161</td>\n",
       "    </tr>\n",
       "    <tr>\n",
       "      <th>min</th>\n",
       "      <td>4.300000</td>\n",
       "      <td>2.000000</td>\n",
       "      <td>1.000000</td>\n",
       "      <td>0.100000</td>\n",
       "    </tr>\n",
       "    <tr>\n",
       "      <th>25%</th>\n",
       "      <td>5.100000</td>\n",
       "      <td>2.800000</td>\n",
       "      <td>1.600000</td>\n",
       "      <td>0.300000</td>\n",
       "    </tr>\n",
       "    <tr>\n",
       "      <th>50%</th>\n",
       "      <td>5.800000</td>\n",
       "      <td>3.000000</td>\n",
       "      <td>4.350000</td>\n",
       "      <td>1.300000</td>\n",
       "    </tr>\n",
       "    <tr>\n",
       "      <th>75%</th>\n",
       "      <td>6.400000</td>\n",
       "      <td>3.300000</td>\n",
       "      <td>5.100000</td>\n",
       "      <td>1.800000</td>\n",
       "    </tr>\n",
       "    <tr>\n",
       "      <th>max</th>\n",
       "      <td>7.900000</td>\n",
       "      <td>4.400000</td>\n",
       "      <td>6.900000</td>\n",
       "      <td>2.500000</td>\n",
       "    </tr>\n",
       "  </tbody>\n",
       "</table>\n",
       "</div>"
      ],
      "text/plain": [
       "       Sepal_length  Sepal_width  Petal_length  Petal_width\n",
       "count    150.000000   150.000000    150.000000   150.000000\n",
       "mean       5.843333     3.054000      3.758667     1.198667\n",
       "std        0.828066     0.433594      1.764420     0.763161\n",
       "min        4.300000     2.000000      1.000000     0.100000\n",
       "25%        5.100000     2.800000      1.600000     0.300000\n",
       "50%        5.800000     3.000000      4.350000     1.300000\n",
       "75%        6.400000     3.300000      5.100000     1.800000\n",
       "max        7.900000     4.400000      6.900000     2.500000"
      ]
     },
     "execution_count": 6,
     "metadata": {},
     "output_type": "execute_result"
    }
   ],
   "source": [
    "iris.describe()"
   ]
  },
  {
   "cell_type": "markdown",
   "metadata": {
    "colab_type": "text",
    "id": "He-EQ_a88K05"
   },
   "source": [
    "You can also refine your summary overview by adding specific attributes to the command that was presented above:"
   ]
  },
  {
   "cell_type": "code",
   "execution_count": 7,
   "metadata": {
    "colab": {
     "base_uri": "https://localhost:8080/",
     "height": 297
    },
    "colab_type": "code",
    "executionInfo": {
     "elapsed": 539,
     "status": "ok",
     "timestamp": 1587543127686,
     "user": {
      "displayName": "彭廷莹",
      "photoUrl": "https://lh3.googleusercontent.com/a-/AOh14Gg-TVZvcFXv_ddQnFSonh6P-VF0zYaqOPEA1p_l=s64",
      "userId": "00488430844757231586"
     },
     "user_tz": -120
    },
    "id": "A_1DDQ5q8K06",
    "outputId": "2e30d39b-719f-4681-d099-3e367eff241b"
   },
   "outputs": [
    {
     "data": {
      "text/html": [
       "<div>\n",
       "<style scoped>\n",
       "    .dataframe tbody tr th:only-of-type {\n",
       "        vertical-align: middle;\n",
       "    }\n",
       "\n",
       "    .dataframe tbody tr th {\n",
       "        vertical-align: top;\n",
       "    }\n",
       "\n",
       "    .dataframe thead th {\n",
       "        text-align: right;\n",
       "    }\n",
       "</style>\n",
       "<table border=\"1\" class=\"dataframe\">\n",
       "  <thead>\n",
       "    <tr style=\"text-align: right;\">\n",
       "      <th></th>\n",
       "      <th>Petal_length</th>\n",
       "      <th>Petal_width</th>\n",
       "    </tr>\n",
       "  </thead>\n",
       "  <tbody>\n",
       "    <tr>\n",
       "      <th>count</th>\n",
       "      <td>150.000000</td>\n",
       "      <td>150.000000</td>\n",
       "    </tr>\n",
       "    <tr>\n",
       "      <th>mean</th>\n",
       "      <td>3.758667</td>\n",
       "      <td>1.198667</td>\n",
       "    </tr>\n",
       "    <tr>\n",
       "      <th>std</th>\n",
       "      <td>1.764420</td>\n",
       "      <td>0.763161</td>\n",
       "    </tr>\n",
       "    <tr>\n",
       "      <th>min</th>\n",
       "      <td>1.000000</td>\n",
       "      <td>0.100000</td>\n",
       "    </tr>\n",
       "    <tr>\n",
       "      <th>25%</th>\n",
       "      <td>1.600000</td>\n",
       "      <td>0.300000</td>\n",
       "    </tr>\n",
       "    <tr>\n",
       "      <th>50%</th>\n",
       "      <td>4.350000</td>\n",
       "      <td>1.300000</td>\n",
       "    </tr>\n",
       "    <tr>\n",
       "      <th>75%</th>\n",
       "      <td>5.100000</td>\n",
       "      <td>1.800000</td>\n",
       "    </tr>\n",
       "    <tr>\n",
       "      <th>max</th>\n",
       "      <td>6.900000</td>\n",
       "      <td>2.500000</td>\n",
       "    </tr>\n",
       "  </tbody>\n",
       "</table>\n",
       "</div>"
      ],
      "text/plain": [
       "       Petal_length  Petal_width\n",
       "count    150.000000   150.000000\n",
       "mean       3.758667     1.198667\n",
       "std        1.764420     0.763161\n",
       "min        1.000000     0.100000\n",
       "25%        1.600000     0.300000\n",
       "50%        4.350000     1.300000\n",
       "75%        5.100000     1.800000\n",
       "max        6.900000     2.500000"
      ]
     },
     "execution_count": 7,
     "metadata": {},
     "output_type": "execute_result"
    }
   ],
   "source": [
    "iris[['Petal_length','Petal_width']].describe()"
   ]
  },
  {
   "cell_type": "markdown",
   "metadata": {
    "colab_type": "text",
    "id": "GC9AlcXN8K0_"
   },
   "source": [
    "## Visualization"
   ]
  },
  {
   "cell_type": "markdown",
   "metadata": {
    "colab_type": "text",
    "id": "BOyfQB8N8K0_"
   },
   "source": [
    "'matplotlib',https://matplotlib.org, is a powerful visualization tool for python."
   ]
  },
  {
   "cell_type": "code",
   "execution_count": 8,
   "metadata": {
    "colab": {},
    "colab_type": "code",
    "id": "ym6uVDXt8K1A"
   },
   "outputs": [],
   "source": [
    "%matplotlib inline \n",
    "import matplotlib\n",
    "import matplotlib.pyplot as plt"
   ]
  },
  {
   "cell_type": "markdown",
   "metadata": {
    "colab_type": "text",
    "id": "PjwFetAD8K1C"
   },
   "source": [
    "Plot iris features 'Sepal_length' (x_axis) and 'Sepal_width' (y_axis) as a scatter plot, use different color to represent different classes"
   ]
  },
  {
   "cell_type": "code",
   "execution_count": 9,
   "metadata": {
    "colab": {
     "base_uri": "https://localhost:8080/",
     "height": 297
    },
    "colab_type": "code",
    "executionInfo": {
     "elapsed": 789,
     "status": "ok",
     "timestamp": 1587543136194,
     "user": {
      "displayName": "彭廷莹",
      "photoUrl": "https://lh3.googleusercontent.com/a-/AOh14Gg-TVZvcFXv_ddQnFSonh6P-VF0zYaqOPEA1p_l=s64",
      "userId": "00488430844757231586"
     },
     "user_tz": -120
    },
    "id": "8bY0Pxat8K1D",
    "outputId": "ad51cc51-c4da-4284-b4a5-d9780b01b19d"
   },
   "outputs": [
    {
     "data": {
      "image/png": "[encoded data removed]",
      "text/plain": [
       "<Figure size 432x288 with 1 Axes>"
      ]
     },
     "metadata": {
      "needs_background": "light"
     },
     "output_type": "display_data"
    }
   ],
   "source": [
    "names = set(iris['Species'])\n",
    "\n",
    "x,y = iris['Sepal_length'],  iris['Sepal_width']\n",
    "plt.figure()\n",
    "for name,color in zip(names,('red', 'blue', 'green')):\n",
    "    cond = iris['Species'] == name\n",
    "    plt.scatter(x[cond], y[cond], marker='o', label=name,color =color,alpha=0.5)\n",
    "\n",
    "plt.legend(numpoints=1)\n",
    "plt.xlabel('Sepal_length')\n",
    "plt.ylabel('Sepal_width')\n",
    "plt.legend(loc=9, bbox_to_anchor=(+1.2, 0.6))\n",
    "plt.tight_layout()"
   ]
  },
  {
   "cell_type": "markdown",
   "metadata": {
    "colab_type": "text",
    "id": "x2WB_quz8K1G"
   },
   "source": [
    "Alternatively, one can also use Seaborn toolbox, https://seaborn.pydata.org/index.html, to provide a high-level interface for drawing attractive and informative statistical graphics. "
   ]
  },
  {
   "cell_type": "code",
   "execution_count": 23,
   "metadata": {
    "colab": {
     "base_uri": "https://localhost:8080/",
     "height": 440
    },
    "colab_type": "code",
    "executionInfo": {
     "elapsed": 1280,
     "status": "ok",
     "timestamp": 1587543140572,
     "user": {
      "displayName": "彭廷莹",
      "photoUrl": "https://lh3.googleusercontent.com/a-/AOh14Gg-TVZvcFXv_ddQnFSonh6P-VF0zYaqOPEA1p_l=s64",
      "userId": "00488430844757231586"
     },
     "user_tz": -120
    },
    "id": "kpnCKXyr8K1I",
    "outputId": "19537a9b-e353-45a9-87c4-da41e32c7254"
   },
   "outputs": [
    {
     "data": {
      "text/plain": [
       "<matplotlib.legend.Legend at 0x7fa404513610>"
      ]
     },
     "execution_count": 23,
     "metadata": {},
     "output_type": "execute_result"
    },
    {
     "data": {
      "image/png": "[encoded data removed]",
      "text/plain": [
       "<Figure size 360x360 with 1 Axes>"
      ]
     },
     "metadata": {
      "needs_background": "light"
     },
     "output_type": "display_data"
    }
   ],
   "source": [
    "import seaborn as sns\n",
    "\n",
    "\n",
    "# Use the 'hue' argument to provide a factor variable\n",
    "sns.lmplot(x='Sepal_length', y='Sepal_width', data=iris, fit_reg=False, hue='Species', legend=False)\n",
    " \n",
    "# Move the legend to an empty part of the plot\n",
    "plt.legend(loc='lower right')\n",
    "\n"
   ]
  },
  {
   "cell_type": "markdown",
   "metadata": {
    "colab_type": "text",
    "collapsed": true,
    "id": "NN40vmoJ8K1O"
   },
   "source": [
    "You see that there is a high correlation between the sepal length and the sepal width of the Setosa iris flowers, while the correlation is somewhat less high for the Virginica and Versicolor flowers. \n",
    "\n",
    "This holds similarly for the petal length and the sepal width."
   ]
  },
  {
   "cell_type": "code",
   "execution_count": 24,
   "metadata": {
    "colab": {
     "base_uri": "https://localhost:8080/",
     "height": 297
    },
    "colab_type": "code",
    "executionInfo": {
     "elapsed": 839,
     "status": "ok",
     "timestamp": 1587543172890,
     "user": {
      "displayName": "彭廷莹",
      "photoUrl": "https://lh3.googleusercontent.com/a-/AOh14Gg-TVZvcFXv_ddQnFSonh6P-VF0zYaqOPEA1p_l=s64",
      "userId": "00488430844757231586"
     },
     "user_tz": -120
    },
    "id": "8NC6heZS8K1P",
    "outputId": "cfa4519c-235d-4c9b-f2ea-97d2751bce2b"
   },
   "outputs": [
    {
     "data": {
      "image/png": "[encoded data removed]",
      "text/plain": [
       "<Figure size 432x288 with 1 Axes>"
      ]
     },
     "metadata": {
      "needs_background": "light"
     },
     "output_type": "display_data"
    }
   ],
   "source": [
    "x,y = iris['Petal_length'],  iris['Petal_width']\n",
    "plt.figure()\n",
    "for name,color in zip(names,('red', 'blue', 'green')):\n",
    "    cond = iris['Species'] == name\n",
    "    plt.scatter(x[cond], y[cond], marker='o', label=name,color=color,alpha=0.5)\n",
    "\n",
    "plt.legend(numpoints=1)\n",
    "plt.xlabel('Petal.Length')\n",
    "plt.ylabel('Petal.Width')\n",
    "plt.legend(loc=9, bbox_to_anchor=(+1.2, 0.6))\n",
    "plt.tight_layout()\n",
    "#plt.axis([x.min()-0.1,x.max()+0.1,y.min()-0.1,y.max()+0.1])"
   ]
  },
  {
   "cell_type": "markdown",
   "metadata": {
    "colab_type": "text",
    "id": "PXFrCeWP8K1S"
   },
   "source": [
    "You see that this graph indicates a positive correlation between the petal length and the petal width for all different species that are included into the Iris data set.\n",
    "\n",
    "we can also use histogram to visualise data distribution"
   ]
  },
  {
   "cell_type": "code",
   "execution_count": 25,
   "metadata": {
    "colab": {
     "base_uri": "https://localhost:8080/",
     "height": 1000
    },
    "colab_type": "code",
    "executionInfo": {
     "elapsed": 1470,
     "status": "ok",
     "timestamp": 1587543177294,
     "user": {
      "displayName": "彭廷莹",
      "photoUrl": "https://lh3.googleusercontent.com/a-/AOh14Gg-TVZvcFXv_ddQnFSonh6P-VF0zYaqOPEA1p_l=s64",
      "userId": "00488430844757231586"
     },
     "user_tz": -120
    },
    "id": "I3R8jYC78K1S",
    "outputId": "4b612fea-7bf8-4b20-c2ef-2530b832da5a"
   },
   "outputs": [
    {
     "data": {
      "text/plain": [
       "Text(0.5, 1.0, 'Sepal_width')"
      ]
     },
     "execution_count": 25,
     "metadata": {},
     "output_type": "execute_result"
    },
    {
     "data": {
      "image/png": "[encoded data removed]",
      "text/plain": [
       "<Figure size 432x288 with 1 Axes>"
      ]
     },
     "metadata": {
      "needs_background": "light"
     },
     "output_type": "display_data"
    },
    {
     "data": {
      "image/png": "[encoded data removed]",
      "text/plain": [
       "<Figure size 432x288 with 1 Axes>"
      ]
     },
     "metadata": {
      "needs_background": "light"
     },
     "output_type": "display_data"
    },
    {
     "data": {
      "image/png": "[encoded data removed]",
      "text/plain": [
       "<Figure size 432x288 with 1 Axes>"
      ]
     },
     "metadata": {
      "needs_background": "light"
     },
     "output_type": "display_data"
    },
    {
     "data": {
      "image/png": "[encoded data removed]",
      "text/plain": [
       "<Figure size 432x288 with 1 Axes>"
      ]
     },
     "metadata": {
      "needs_background": "light"
     },
     "output_type": "display_data"
    }
   ],
   "source": [
    "plt.figure()\n",
    "iris.groupby('Species').Petal_length.hist(alpha=0.4)\n",
    "plt.title('Petal_length')\n",
    "plt.figure()\n",
    "iris.groupby('Species').Petal_width.hist(alpha=0.4)\n",
    "plt.title('Petal_width')\n",
    "plt.figure()\n",
    "iris.groupby('Species').Sepal_length.hist(alpha=0.4)\n",
    "plt.title('Sepal_length')\n",
    "plt.figure()\n",
    "iris.groupby('Species').Sepal_width.hist(alpha=0.4)\n",
    "plt.title('Sepal_width')"
   ]
  },
  {
   "cell_type": "markdown",
   "metadata": {
    "colab_type": "text",
    "id": "ASdqyzZv8K1U"
   },
   "source": [
    "After you have acquired a good understanding of your data, you have to decide on the use cases that would be relevant for your data set. In other words, you think about what your data set might teach you or what you think you can learn from your data. From there on, you can think about what kind of algorithms you would be able to apply to your data set in order to get the results that you think you can obtain. "
   ]
  },
  {
   "cell_type": "markdown",
   "metadata": {
    "colab_type": "text",
    "id": "Oqdm5g_b8K1V"
   },
   "source": [
    "## Preparing the data"
   ]
  },
  {
   "cell_type": "markdown",
   "metadata": {
    "colab_type": "text",
    "id": "DycoQcW38K1V"
   },
   "source": [
    "Many classifiers require normalization of the data set.\n",
    "\n",
    "When do we need to normalize a dataset? In short: when you suspect that the data is not consistent. You can easily see this when you go through the results of the describe() function. Look at the minimum and maximum values of all the (numerical) attributes. If you see that one attribute has a wide range of values, you will need to normalize your dataset, because this means that the distance will be dominated by this feature. For example, if your dataset has just two attributes, X and Y, and X has values that range from 1 to 1000, while Y has values that only go from 1 to 100, then Y's influence on the distance function will usually be overpowered by X's influence. When you normalize, you actually adjust the range of all features, so that distances between variables with larger ranges will not be over-emphasised.\n",
    "\n",
    "The Iris data set doesn't need to be normalized: the Sepal.Length attribute has values that go from 4.3 to 7.9 and Sepal.Width contains values from 2 to 4.4, while Petal.Length's values range from 1 to 6.9 and Petal.Width goes from 0.1 to 2.5. All values of all attributes are contained within the range of 0.1 and 7.9, which you can consider acceptable. \n",
    "\n",
    "Nevertheless, it's still a good idea to study normalization and its effect, especially if you're new to machine learning. You can perform feature normalization, for example, by first making your own normalize function:"
   ]
  },
  {
   "cell_type": "code",
   "execution_count": 26,
   "metadata": {
    "colab": {},
    "colab_type": "code",
    "id": "UWTt59Px8K1W"
   },
   "outputs": [],
   "source": [
    "def normalise(x):\n",
    "    num = x - np.min(x)\n",
    "    denom = np.max(x) - np.min(x)\n",
    "    return num/denom\n"
   ]
  },
  {
   "cell_type": "markdown",
   "metadata": {
    "colab_type": "text",
    "id": "8OtQ-L678K1Y"
   },
   "source": [
    "You can then use this argument in another command, where you put the results of the normalization in a data frame through as.data.frame() after the function lapply() returns a list of the same length as the data set that you give in. Each element of that list is the result of the application of the normalize argument to the data set that served as input:"
   ]
  },
  {
   "cell_type": "code",
   "execution_count": 27,
   "metadata": {
    "colab": {
     "base_uri": "https://localhost:8080/",
     "height": 204
    },
    "colab_type": "code",
    "executionInfo": {
     "elapsed": 525,
     "status": "ok",
     "timestamp": 1587543203294,
     "user": {
      "displayName": "彭廷莹",
      "photoUrl": "https://lh3.googleusercontent.com/a-/AOh14Gg-TVZvcFXv_ddQnFSonh6P-VF0zYaqOPEA1p_l=s64",
      "userId": "00488430844757231586"
     },
     "user_tz": -120
    },
    "id": "ZvzR9FGy8K1Y",
    "outputId": "9ce32369-3cc8-4099-e038-11d9f0ebbe23"
   },
   "outputs": [
    {
     "data": {
      "text/html": [
       "<div>\n",
       "<style scoped>\n",
       "    .dataframe tbody tr th:only-of-type {\n",
       "        vertical-align: middle;\n",
       "    }\n",
       "\n",
       "    .dataframe tbody tr th {\n",
       "        vertical-align: top;\n",
       "    }\n",
       "\n",
       "    .dataframe thead th {\n",
       "        text-align: right;\n",
       "    }\n",
       "</style>\n",
       "<table border=\"1\" class=\"dataframe\">\n",
       "  <thead>\n",
       "    <tr style=\"text-align: right;\">\n",
       "      <th></th>\n",
       "      <th>Petal_length</th>\n",
       "      <th>Petal_width</th>\n",
       "      <th>Sepal_length</th>\n",
       "      <th>Sepal_width</th>\n",
       "      <th>Species</th>\n",
       "    </tr>\n",
       "  </thead>\n",
       "  <tbody>\n",
       "    <tr>\n",
       "      <th>0</th>\n",
       "      <td>0.067797</td>\n",
       "      <td>0.041667</td>\n",
       "      <td>0.222222</td>\n",
       "      <td>0.625000</td>\n",
       "      <td>Iris-setosa</td>\n",
       "    </tr>\n",
       "    <tr>\n",
       "      <th>1</th>\n",
       "      <td>0.067797</td>\n",
       "      <td>0.041667</td>\n",
       "      <td>0.166667</td>\n",
       "      <td>0.416667</td>\n",
       "      <td>Iris-setosa</td>\n",
       "    </tr>\n",
       "    <tr>\n",
       "      <th>2</th>\n",
       "      <td>0.050847</td>\n",
       "      <td>0.041667</td>\n",
       "      <td>0.111111</td>\n",
       "      <td>0.500000</td>\n",
       "      <td>Iris-setosa</td>\n",
       "    </tr>\n",
       "    <tr>\n",
       "      <th>3</th>\n",
       "      <td>0.084746</td>\n",
       "      <td>0.041667</td>\n",
       "      <td>0.083333</td>\n",
       "      <td>0.458333</td>\n",
       "      <td>Iris-setosa</td>\n",
       "    </tr>\n",
       "    <tr>\n",
       "      <th>4</th>\n",
       "      <td>0.067797</td>\n",
       "      <td>0.041667</td>\n",
       "      <td>0.194444</td>\n",
       "      <td>0.666667</td>\n",
       "      <td>Iris-setosa</td>\n",
       "    </tr>\n",
       "  </tbody>\n",
       "</table>\n",
       "</div>"
      ],
      "text/plain": [
       "   Petal_length  Petal_width  Sepal_length  Sepal_width      Species\n",
       "0      0.067797     0.041667      0.222222     0.625000  Iris-setosa\n",
       "1      0.067797     0.041667      0.166667     0.416667  Iris-setosa\n",
       "2      0.050847     0.041667      0.111111     0.500000  Iris-setosa\n",
       "3      0.084746     0.041667      0.083333     0.458333  Iris-setosa\n",
       "4      0.067797     0.041667      0.194444     0.666667  Iris-setosa"
      ]
     },
     "execution_count": 27,
     "metadata": {},
     "output_type": "execute_result"
    }
   ],
   "source": [
    "import numpy as np\n",
    "\n",
    "iris_norm = iris[['Petal_length', 'Petal_width','Sepal_length','Sepal_width']].apply(normalise)\n",
    "iris_norm['Species'] = iris['Species']\n",
    "iris_norm.head(5)"
   ]
  },
  {
   "cell_type": "code",
   "execution_count": 28,
   "metadata": {
    "colab": {
     "base_uri": "https://localhost:8080/",
     "height": 297
    },
    "colab_type": "code",
    "executionInfo": {
     "elapsed": 641,
     "status": "ok",
     "timestamp": 1587543206470,
     "user": {
      "displayName": "彭廷莹",
      "photoUrl": "https://lh3.googleusercontent.com/a-/AOh14Gg-TVZvcFXv_ddQnFSonh6P-VF0zYaqOPEA1p_l=s64",
      "userId": "00488430844757231586"
     },
     "user_tz": -120
    },
    "id": "LBhxvTJw8K1b",
    "outputId": "644c096e-639d-4e64-eadb-34edea13157c"
   },
   "outputs": [
    {
     "data": {
      "text/html": [
       "<div>\n",
       "<style scoped>\n",
       "    .dataframe tbody tr th:only-of-type {\n",
       "        vertical-align: middle;\n",
       "    }\n",
       "\n",
       "    .dataframe tbody tr th {\n",
       "        vertical-align: top;\n",
       "    }\n",
       "\n",
       "    .dataframe thead th {\n",
       "        text-align: right;\n",
       "    }\n",
       "</style>\n",
       "<table border=\"1\" class=\"dataframe\">\n",
       "  <thead>\n",
       "    <tr style=\"text-align: right;\">\n",
       "      <th></th>\n",
       "      <th>Petal_length</th>\n",
       "      <th>Petal_width</th>\n",
       "      <th>Sepal_length</th>\n",
       "      <th>Sepal_width</th>\n",
       "    </tr>\n",
       "  </thead>\n",
       "  <tbody>\n",
       "    <tr>\n",
       "      <th>count</th>\n",
       "      <td>150.000000</td>\n",
       "      <td>150.000000</td>\n",
       "      <td>150.000000</td>\n",
       "      <td>150.000000</td>\n",
       "    </tr>\n",
       "    <tr>\n",
       "      <th>mean</th>\n",
       "      <td>0.467571</td>\n",
       "      <td>0.457778</td>\n",
       "      <td>0.428704</td>\n",
       "      <td>0.439167</td>\n",
       "    </tr>\n",
       "    <tr>\n",
       "      <th>std</th>\n",
       "      <td>0.299054</td>\n",
       "      <td>0.317984</td>\n",
       "      <td>0.230018</td>\n",
       "      <td>0.180664</td>\n",
       "    </tr>\n",
       "    <tr>\n",
       "      <th>min</th>\n",
       "      <td>0.000000</td>\n",
       "      <td>0.000000</td>\n",
       "      <td>0.000000</td>\n",
       "      <td>0.000000</td>\n",
       "    </tr>\n",
       "    <tr>\n",
       "      <th>25%</th>\n",
       "      <td>0.101695</td>\n",
       "      <td>0.083333</td>\n",
       "      <td>0.222222</td>\n",
       "      <td>0.333333</td>\n",
       "    </tr>\n",
       "    <tr>\n",
       "      <th>50%</th>\n",
       "      <td>0.567797</td>\n",
       "      <td>0.500000</td>\n",
       "      <td>0.416667</td>\n",
       "      <td>0.416667</td>\n",
       "    </tr>\n",
       "    <tr>\n",
       "      <th>75%</th>\n",
       "      <td>0.694915</td>\n",
       "      <td>0.708333</td>\n",
       "      <td>0.583333</td>\n",
       "      <td>0.541667</td>\n",
       "    </tr>\n",
       "    <tr>\n",
       "      <th>max</th>\n",
       "      <td>1.000000</td>\n",
       "      <td>1.000000</td>\n",
       "      <td>1.000000</td>\n",
       "      <td>1.000000</td>\n",
       "    </tr>\n",
       "  </tbody>\n",
       "</table>\n",
       "</div>"
      ],
      "text/plain": [
       "       Petal_length  Petal_width  Sepal_length  Sepal_width\n",
       "count    150.000000   150.000000    150.000000   150.000000\n",
       "mean       0.467571     0.457778      0.428704     0.439167\n",
       "std        0.299054     0.317984      0.230018     0.180664\n",
       "min        0.000000     0.000000      0.000000     0.000000\n",
       "25%        0.101695     0.083333      0.222222     0.333333\n",
       "50%        0.567797     0.500000      0.416667     0.416667\n",
       "75%        0.694915     0.708333      0.583333     0.541667\n",
       "max        1.000000     1.000000      1.000000     1.000000"
      ]
     },
     "execution_count": 28,
     "metadata": {},
     "output_type": "execute_result"
    }
   ],
   "source": [
    "iris_norm.describe()"
   ]
  },
  {
   "cell_type": "markdown",
   "metadata": {
    "colab_type": "text",
    "id": "VrhAU0mK8K1g"
   },
   "source": [
    "In order to assess your model's performance later, you will need to divide the data set into two parts: a training set and a test set. The first is used to train the system, while the second is used to evaluate the learned or trained system. In practice, the division of your data set into a test and a training sets is disjoint: the most common splitting choice is to take 2/3 of your original data set as the training set, while the 1/3 that remains will compose the test set.\n",
    "\n",
    "One last look on the data set teaches you that if you performed the division of both sets on the data set as is, you would get a training class with all species of “Setosa” and “Versicolor”, but none of “Virginica”. The model would therefore classify all unknown instances as either “Setosa” or “Versicolor”, as it would not be aware of the presence of a third species of flowers in the data. In short, you would get incorrect predictions for the test set.\n",
    "\n",
    "You thus need to make sure that all three classes of species are present in the training model. What's more, the amount of instances of all three species needs to be present at more or less the same ratio as in your original data set.\n",
    "\n",
    "To make your training and test sets, you first set a seed. This is a number of R's random number generator. The major advantage of setting a seed is that you can get the same sequence of random numbers whenever you supply the same seed in the random number generator. "
   ]
  },
  {
   "cell_type": "code",
   "execution_count": 29,
   "metadata": {
    "colab": {},
    "colab_type": "code",
    "id": "ynIUT4Rc8K1g"
   },
   "outputs": [],
   "source": [
    "np.random.seed(1234)"
   ]
  },
  {
   "cell_type": "markdown",
   "metadata": {
    "colab_type": "text",
    "id": "b8XnRgx38K1m"
   },
   "source": [
    "Then, you want to make sure that your Iris data set is shuffled and that you have the same ratio between species in your training and test sets. You use the sample() function to take a sample with a size that is set as the number of rows of the Iris data set, or 150. You sample with replacement: you choose from a vector of 2 elements and assign either 0 or 1 to the 150 rows of the Iris data set. The assignment of the elements is subject to probability weights of 0.67 and 0.33.\n"
   ]
  },
  {
   "cell_type": "code",
   "execution_count": 30,
   "metadata": {
    "colab": {
     "base_uri": "https://localhost:8080/",
     "height": 102
    },
    "colab_type": "code",
    "executionInfo": {
     "elapsed": 542,
     "status": "ok",
     "timestamp": 1587543211499,
     "user": {
      "displayName": "彭廷莹",
      "photoUrl": "https://lh3.googleusercontent.com/a-/AOh14Gg-TVZvcFXv_ddQnFSonh6P-VF0zYaqOPEA1p_l=s64",
      "userId": "00488430844757231586"
     },
     "user_tz": -120
    },
    "id": "R5eiKVEL8K1m",
    "outputId": "72c1f3d6-53e9-4704-f941-574ebeff3540"
   },
   "outputs": [
    {
     "name": "stdout",
     "output_type": "stream",
     "text": [
      "[0 0 0 1 1 0 0 1 1 1 0 0 1 1 0 0 0 0 1 1 0 0 0 0 1 0 0 1 0 0 1 0 1 0 1 1 0\n",
      " 1 0 1 0 0 0 1 0 0 0 0 0 0 0 0 0 0 0 1 1 1 1 1 0 0 0 0 0 0 0 1 0 0 1 0 0 0\n",
      " 0 1 0 0 0 0 0 0 1 0 1 0 1 1 0 0 0 0 0 1 0 0 0 1 0 0 1 1 1 0 1 0 0 0 0 1 0\n",
      " 0 0 1 1 0 0 0 1 1 1 1 1 0 0 0 0 0 0 0 0 0 1 0 0 0 1 0 0 0 0 1 1 0 0 0 1 0\n",
      " 0 0]\n"
     ]
    }
   ],
   "source": [
    "ind = np.random.choice(2, iris[iris.columns[0]].count(), replace=True,p=[0.67,0.33])\n",
    "print(ind)\n"
   ]
  },
  {
   "cell_type": "markdown",
   "metadata": {
    "colab_type": "text",
    "id": "ogfbXjhe8K1s"
   },
   "source": [
    "Note that the replace argument is set to TRUE: this means that you assign a 0 or a 1 to a certain row and then reset the vector of 2 to its original state. This means that, for the next rows in your data set, you can either assign a 0 or a 1, each time again. The probability of choosing a 1 or a 2 should not be proportional to the weights amongst the remaining items, so you specify probability weights.\n",
    "\n",
    "Remember that you want your training set to be 2/3 of your original data set: that is why you assign “0” with a probability of 0.67 and the “1\"s with a probability of 0.33 to the 150 sample rows.\n",
    "\n",
    "You can then use the sample that is stored in the variable ind to define your training and test sets:\n"
   ]
  },
  {
   "cell_type": "code",
   "execution_count": 31,
   "metadata": {
    "colab": {
     "base_uri": "https://localhost:8080/",
     "height": 187
    },
    "colab_type": "code",
    "executionInfo": {
     "elapsed": 560,
     "status": "ok",
     "timestamp": 1587543293192,
     "user": {
      "displayName": "彭廷莹",
      "photoUrl": "https://lh3.googleusercontent.com/a-/AOh14Gg-TVZvcFXv_ddQnFSonh6P-VF0zYaqOPEA1p_l=s64",
      "userId": "00488430844757231586"
     },
     "user_tz": -120
    },
    "id": "zkY-8lHt8K1s",
    "outputId": "54fca5cc-3550-4ed5-9be9-c16f492974d5"
   },
   "outputs": [
    {
     "name": "stdout",
     "output_type": "stream",
     "text": [
      "iris train features: Sepal_length    101\n",
      "Sepal_width     101\n",
      "Petal_length    101\n",
      "Petal_width     101\n",
      "dtype: int64\n",
      "iris test features: Sepal_length    49\n",
      "Sepal_width     49\n",
      "Petal_length    49\n",
      "Petal_width     49\n",
      "dtype: int64\n"
     ]
    }
   ],
   "source": [
    "iris_trainFeatures = iris.loc[ind==0,iris.columns[0:4]]\n",
    "iris_testFeatures = iris.loc[ind==1,iris.columns[0:4]]\n",
    "print('iris train features:', iris_trainFeatures.count())\n",
    "print('iris test features:', iris_testFeatures.count())"
   ]
  },
  {
   "cell_type": "markdown",
   "metadata": {
    "colab_type": "text",
    "id": "qz3J0nbG8K1w"
   },
   "source": [
    " Note that, in addition to the 2/3 and 1/3 proportions specified above, you don't take into account all attributes to form the training and test sets. Specifically, you only take Sepal.Length, Sepal.Width, Petal.Length and Petal.Width. This is because you actually want to predict the fifth attribute, Species: it is your target variable. However, you do want to include it into the KNN algorithm, otherwise there will never be any prediction for it. You therefore need to store the class labels in factor vectors and divide them over the training and test sets.\n"
   ]
  },
  {
   "cell_type": "code",
   "execution_count": 32,
   "metadata": {
    "colab": {
     "base_uri": "https://localhost:8080/",
     "height": 51
    },
    "colab_type": "code",
    "executionInfo": {
     "elapsed": 663,
     "status": "ok",
     "timestamp": 1587543315422,
     "user": {
      "displayName": "彭廷莹",
      "photoUrl": "https://lh3.googleusercontent.com/a-/AOh14Gg-TVZvcFXv_ddQnFSonh6P-VF0zYaqOPEA1p_l=s64",
      "userId": "00488430844757231586"
     },
     "user_tz": -120
    },
    "id": "cr81G6wb8K1w",
    "outputId": "50dd7ed6-9c9f-458f-a747-18d99c1ba9c1"
   },
   "outputs": [
    {
     "name": "stdout",
     "output_type": "stream",
     "text": [
      "iris train labels: 101\n",
      "iris test labels: 49\n"
     ]
    }
   ],
   "source": [
    "iris_trainLabels = iris.loc[ind==0,iris.columns[4]]\n",
    "iris_testLabels = iris.loc[ind==1,iris.columns[4]]\n",
    "print('iris train labels:', iris_trainLabels.count())\n",
    "print('iris test labels:', iris_testLabels.count())"
   ]
  },
  {
   "cell_type": "markdown",
   "metadata": {
    "colab_type": "text",
    "id": "FtxFnbuf8K1z"
   },
   "source": [
    "## k nearest neighbor classifier"
   ]
  },
  {
   "cell_type": "markdown",
   "metadata": {
    "colab_type": "text",
    "id": "NaxH3HCo8K1z"
   },
   "source": [
    "Python has a powerful machine learning package scikit-learn, including k nearest neighbor classifier (KNN). The theory of KNN will be covered in the lecture. One can also refer to scikit-learn knn documentation for practical guidance: http://scikit-learn.org/stable/modules/neighbors.html"
   ]
  },
  {
   "cell_type": "code",
   "execution_count": 33,
   "metadata": {
    "colab": {},
    "colab_type": "code",
    "id": "BNDwBzKo8K10"
   },
   "outputs": [],
   "source": [
    "from sklearn.neighbors import KNeighborsClassifier"
   ]
  },
  {
   "cell_type": "markdown",
   "metadata": {
    "colab_type": "text",
    "id": "6W3asVVE8K13"
   },
   "source": [
    "After all these preparation steps, you have made sure that all your known (training) data is stored. No actual model or learning was performed up until this moment. Now, you want to find the k nearest neighbors of your training set.\n",
    "\n",
    "An easy way to do these two steps is by using the KNeighborsClassifier function, which uses the Euclidian distance measure in order to find the k-nearest neighbours to your new, unknown instance. Here, the k parameter is one that you set yourself. As mentioned before, new instances are classified by looking at the majority vote or weighted vote. In case of classification, the data point with the highest score wins the battle and the unknown instance receives the label of that winning data point. If there is an equal amount of winners, the classification happens randomly.\n",
    "\n",
    "Note the k parameter is often an odd number to avoid ties in the voting scores.\n",
    " \n",
    "To build your classifier, you need to take the KNeighborsClassifier function and simply add some arguments to it, just like in this example:\n",
    "\n",
    "Note KNeighborsClassifier function only takes numpy arrays, so we have to change pandas format into numpy array using .values\n"
   ]
  },
  {
   "cell_type": "code",
   "execution_count": 34,
   "metadata": {
    "colab": {
     "base_uri": "https://localhost:8080/",
     "height": 221
    },
    "colab_type": "code",
    "executionInfo": {
     "elapsed": 574,
     "status": "ok",
     "timestamp": 1587543324071,
     "user": {
      "displayName": "彭廷莹",
      "photoUrl": "https://lh3.googleusercontent.com/a-/AOh14Gg-TVZvcFXv_ddQnFSonh6P-VF0zYaqOPEA1p_l=s64",
      "userId": "00488430844757231586"
     },
     "user_tz": -120
    },
    "id": "VygQiAdx8K13",
    "outputId": "00c61538-a039-49fd-c2a1-e0ebe2bf0794"
   },
   "outputs": [
    {
     "name": "stdout",
     "output_type": "stream",
     "text": [
      "['Iris-setosa' 'Iris-setosa' 'Iris-setosa' 'Iris-setosa' 'Iris-setosa'\n",
      " 'Iris-setosa' 'Iris-setosa' 'Iris-setosa' 'Iris-setosa' 'Iris-setosa'\n",
      " 'Iris-setosa' 'Iris-setosa' 'Iris-setosa' 'Iris-setosa' 'Iris-setosa'\n",
      " 'Iris-setosa' 'Iris-setosa' 'Iris-setosa' 'Iris-versicolor'\n",
      " 'Iris-versicolor' 'Iris-versicolor' 'Iris-versicolor' 'Iris-versicolor'\n",
      " 'Iris-versicolor' 'Iris-virginica' 'Iris-versicolor' 'Iris-versicolor'\n",
      " 'Iris-versicolor' 'Iris-versicolor' 'Iris-versicolor' 'Iris-versicolor'\n",
      " 'Iris-versicolor' 'Iris-virginica' 'Iris-virginica' 'Iris-virginica'\n",
      " 'Iris-virginica' 'Iris-virginica' 'Iris-virginica' 'Iris-virginica'\n",
      " 'Iris-virginica' 'Iris-versicolor' 'Iris-virginica' 'Iris-virginica'\n",
      " 'Iris-virginica' 'Iris-virginica' 'Iris-virginica' 'Iris-virginica'\n",
      " 'Iris-virginica' 'Iris-virginica']\n"
     ]
    }
   ],
   "source": [
    "X = iris_trainFeatures.values;\n",
    "y = iris_trainLabels.values;\n",
    "knnmodel = KNeighborsClassifier(n_neighbors=3)\n",
    "knnmodel.fit(X, y) \n",
    "iris_predLabels = knnmodel.predict(iris_testFeatures.values)\n",
    "print(iris_predLabels)"
   ]
  },
  {
   "cell_type": "markdown",
   "metadata": {
    "colab_type": "text",
    "id": "9LAcksUp8K16"
   },
   "source": [
    "You store into knnmodel the KNeighborsClassifier function that fits to the training set, and iris_predLabels as the predictions for the test set.\n",
    "\n",
    "Note that you don't want to insert the test labels: these will be used to see if your model is good at predicting the actual classes of your instances!\n",
    "\n",
    "You can retrieve the result of the KNeighborsClassifier function by typing in the following command:\n"
   ]
  },
  {
   "cell_type": "code",
   "execution_count": 60,
   "metadata": {
    "colab": {
     "base_uri": "https://localhost:8080/",
     "height": 34
    },
    "colab_type": "code",
    "executionInfo": {
     "elapsed": 575,
     "status": "ok",
     "timestamp": 1587543327640,
     "user": {
      "displayName": "彭廷莹",
      "photoUrl": "https://lh3.googleusercontent.com/a-/AOh14Gg-TVZvcFXv_ddQnFSonh6P-VF0zYaqOPEA1p_l=s64",
      "userId": "00488430844757231586"
     },
     "user_tz": -120
    },
    "id": "0hWF5bZS8K16",
    "outputId": "ed2452d5-dc5e-459d-e388-c6676b3f27cc"
   },
   "outputs": [
    {
     "data": {
      "text/plain": [
       "0.9591836734693877"
      ]
     },
     "execution_count": 60,
     "metadata": {},
     "output_type": "execute_result"
    }
   ],
   "source": [
    "from sklearn.metrics import accuracy_score\n",
    "accuracy_score(iris_testLabels,iris_predLabels)"
   ]
  },
  {
   "cell_type": "markdown",
   "metadata": {
    "colab_type": "text",
    "id": "FFh7qeJY8K19"
   },
   "source": [
    "You see that the model makes reasonably accurate predictions, with the accuracy higher than 0.95.\n",
    "\n",
    "This is already some indication of your model's performance, but you might want to go even deeper into your analysis. For this purpose, you can get confusion matrix"
   ]
  },
  {
   "cell_type": "code",
   "execution_count": 36,
   "metadata": {
    "colab": {
     "base_uri": "https://localhost:8080/",
     "height": 68
    },
    "colab_type": "code",
    "executionInfo": {
     "elapsed": 737,
     "status": "ok",
     "timestamp": 1587543330975,
     "user": {
      "displayName": "彭廷莹",
      "photoUrl": "https://lh3.googleusercontent.com/a-/AOh14Gg-TVZvcFXv_ddQnFSonh6P-VF0zYaqOPEA1p_l=s64",
      "userId": "00488430844757231586"
     },
     "user_tz": -120
    },
    "id": "-XwrzkOh8K19",
    "outputId": "72fac01f-d646-48c9-f0e0-6aac5acccb7d"
   },
   "outputs": [
    {
     "data": {
      "text/plain": [
       "array([[18,  0,  0],\n",
       "       [ 0, 13,  1],\n",
       "       [ 0,  1, 16]])"
      ]
     },
     "execution_count": 36,
     "metadata": {},
     "output_type": "execute_result"
    }
   ],
   "source": [
    "from sklearn.metrics import confusion_matrix\n",
    "confusion_matrix(iris_testLabels,iris_predLabels)"
   ]
  },
  {
   "cell_type": "markdown",
   "metadata": {
    "colab_type": "text",
    "id": "JRuMAWur8K1_"
   },
   "source": [
    "Then you can make a cross tabulation or a contingency table. This type of table is often used to understand the relationship between two variables. In this case, you want to understand how the classes of your test data, stored in iris.testLabels relate to your model that is stored in iris_pred:"
   ]
  },
  {
   "cell_type": "markdown",
   "metadata": {
    "colab_type": "text",
    "id": "eUVYq36X8K1_"
   },
   "source": [
    "## Random Forest"
   ]
  },
  {
   "cell_type": "markdown",
   "metadata": {
    "colab_type": "text",
    "id": "VtqtmHTw8K2A"
   },
   "source": [
    "Random forests is a supervised learning algorithm. It can be used both for classification and regression. It is also the most flexible and easy to use algorithm. A forest is comprised of trees. It is said that the more trees it has, the more robust a forest is. Random forests creates decision trees on randomly selected data samples, gets prediction from each tree and selects the best solution by means of voting. It also provides a pretty good indicator of the feature importance. Again, the theory of Random Forest will be covered in the lecture, but one can refer to https://scikit-learn.org/stable/modules/generated/sklearn.ensemble.RandomForestClassifier.html for practical guidance."
   ]
  },
  {
   "cell_type": "markdown",
   "metadata": {
    "colab_type": "text",
    "id": "pbKto65M8K2B"
   },
   "source": [
    "First, normalize feature vectors. In additional to above approach, a more convient way is to use Sklearn build-in normalize function"
   ]
  },
  {
   "cell_type": "code",
   "execution_count": 37,
   "metadata": {
    "colab": {},
    "colab_type": "code",
    "id": "cwMPItOY8K2C"
   },
   "outputs": [],
   "source": [
    "from sklearn.model_selection import train_test_split\n",
    "from sklearn.preprocessing import normalize\n",
    "\n",
    "X=iris[['Sepal_length', 'Sepal_width', 'Petal_length', 'Petal_width']]  # Features\n",
    "y=iris['Species']  # Labels\n",
    "\n",
    "# Normalise features\n",
    "X_norm =normalize(X)\n"
   ]
  },
  {
   "cell_type": "markdown",
   "metadata": {
    "colab_type": "text",
    "id": "HFYi_28b8K2F"
   },
   "source": [
    "Second, split training and test data. Again, we can use Sklearn build-in train_test_split function"
   ]
  },
  {
   "cell_type": "code",
   "execution_count": 38,
   "metadata": {
    "colab": {},
    "colab_type": "code",
    "id": "m8pTKQPz8K2G"
   },
   "outputs": [],
   "source": [
    "# Split dataset into training set and test set\n",
    "X_train, X_test, y_train, y_test = train_test_split(X_norm, y, test_size=0.3) # 70% training and 30% test"
   ]
  },
  {
   "cell_type": "markdown",
   "metadata": {
    "colab_type": "text",
    "id": "l0ou5TIH8K2I"
   },
   "source": [
    "After splitting, you will train the model on the training set."
   ]
  },
  {
   "cell_type": "code",
   "execution_count": 39,
   "metadata": {
    "colab": {
     "base_uri": "https://localhost:8080/",
     "height": 153
    },
    "colab_type": "code",
    "executionInfo": {
     "elapsed": 584,
     "status": "ok",
     "timestamp": 1587544207395,
     "user": {
      "displayName": "彭廷莹",
      "photoUrl": "https://lh3.googleusercontent.com/a-/AOh14Gg-TVZvcFXv_ddQnFSonh6P-VF0zYaqOPEA1p_l=s64",
      "userId": "00488430844757231586"
     },
     "user_tz": -120
    },
    "id": "YHfDZxtf8K2I",
    "outputId": "48ca7576-87b7-43d8-ee95-e6a2668d85b8"
   },
   "outputs": [
    {
     "data": {
      "text/plain": [
       "RandomForestClassifier()"
      ]
     },
     "execution_count": 39,
     "metadata": {},
     "output_type": "execute_result"
    }
   ],
   "source": [
    "#Import Random Forest Model\n",
    "from sklearn.ensemble import RandomForestClassifier\n",
    "\n",
    "#Create a Gaussian Classifier\n",
    "clf=RandomForestClassifier(n_estimators=100)\n",
    "\n",
    "#Train the model using the training sets y_pred=clf.predict(X_test)\n",
    "clf.fit(X_train,y_train)"
   ]
  },
  {
   "cell_type": "markdown",
   "metadata": {
    "colab_type": "text",
    "id": "BgG_yqiX8K2L"
   },
   "source": [
    "Perform predictions on the test set"
   ]
  },
  {
   "cell_type": "code",
   "execution_count": 40,
   "metadata": {
    "colab": {},
    "colab_type": "code",
    "id": "HKfJfnyF8K2L"
   },
   "outputs": [],
   "source": [
    "y_pred=clf.predict(X_test)"
   ]
  },
  {
   "cell_type": "markdown",
   "metadata": {
    "colab_type": "text",
    "id": "gdvM2UMM8K2O"
   },
   "source": [
    "Again, one can retrieve the result of the RandomForestClassifier function by typing in the following command:"
   ]
  },
  {
   "cell_type": "code",
   "execution_count": 41,
   "metadata": {
    "colab": {
     "base_uri": "https://localhost:8080/",
     "height": 34
    },
    "colab_type": "code",
    "executionInfo": {
     "elapsed": 593,
     "status": "ok",
     "timestamp": 1587544219456,
     "user": {
      "displayName": "彭廷莹",
      "photoUrl": "https://lh3.googleusercontent.com/a-/AOh14Gg-TVZvcFXv_ddQnFSonh6P-VF0zYaqOPEA1p_l=s64",
      "userId": "00488430844757231586"
     },
     "user_tz": -120
    },
    "id": "w9dn7_V28K2O",
    "outputId": "d721f100-c5aa-4495-9812-a5c322c9aa80"
   },
   "outputs": [
    {
     "name": "stdout",
     "output_type": "stream",
     "text": [
      "Accuracy: 0.9777777777777777\n"
     ]
    }
   ],
   "source": [
    "#Import scikit-learn metrics module for accuracy calculation\n",
    "from sklearn import metrics\n",
    "# Model Accuracy, how often is the classifier correct?\n",
    "print(\"Accuracy:\",metrics.accuracy_score(y_test, y_pred))"
   ]
  },
  {
   "cell_type": "markdown",
   "metadata": {
    "colab_type": "text",
    "id": "t-azQBXc8K2S"
   },
   "source": [
    "## Finding Important Features in Scikit-learn##"
   ]
  },
  {
   "cell_type": "markdown",
   "metadata": {
    "colab_type": "text",
    "id": "EzCnSWDD8K2S"
   },
   "source": [
    "One of the most important advantages of random forest is that it is able to find the feature importance "
   ]
  },
  {
   "cell_type": "code",
   "execution_count": 61,
   "metadata": {
    "colab": {
     "base_uri": "https://localhost:8080/",
     "height": 51
    },
    "colab_type": "code",
    "executionInfo": {
     "elapsed": 625,
     "status": "ok",
     "timestamp": 1587544898552,
     "user": {
      "displayName": "彭廷莹",
      "photoUrl": "https://lh3.googleusercontent.com/a-/AOh14Gg-TVZvcFXv_ddQnFSonh6P-VF0zYaqOPEA1p_l=s64",
      "userId": "00488430844757231586"
     },
     "user_tz": -120
    },
    "id": "l1kD-mAh8K2S",
    "outputId": "ca65c02a-00f7-4b0b-e179-b6e2315d3001"
   },
   "outputs": [
    {
     "name": "stdout",
     "output_type": "stream",
     "text": [
      "[0.14295841 0.24650873 0.31851375 0.29201911]\n",
      "[0.31851375 0.29201911 0.24650873 0.14295841]\n",
      "[2 3 1 0]\n"
     ]
    }
   ],
   "source": [
    "importances = clf.feature_importances_\n",
    "print(importances)\n",
    "indices = np.argsort(importances)[::-1] \n",
    "print(importances[indices])\n",
    "print(indices)"
   ]
  },
  {
   "cell_type": "markdown",
   "metadata": {
    "colab_type": "text",
    "id": "vzUtuU3b8K2V"
   },
   "source": [
    "For visualization, you can use a combination of matplotlib and seaborn. Because seaborn is built on top of matplotlib, it offers a number of customized themes and provides additional plot types."
   ]
  },
  {
   "cell_type": "code",
   "execution_count": 43,
   "metadata": {
    "colab": {
     "base_uri": "https://localhost:8080/",
     "height": 311
    },
    "colab_type": "code",
    "executionInfo": {
     "elapsed": 670,
     "status": "ok",
     "timestamp": 1587545449630,
     "user": {
      "displayName": "彭廷莹",
      "photoUrl": "https://lh3.googleusercontent.com/a-/AOh14Gg-TVZvcFXv_ddQnFSonh6P-VF0zYaqOPEA1p_l=s64",
      "userId": "00488430844757231586"
     },
     "user_tz": -120
    },
    "id": "yozMXUC98K2V",
    "outputId": "9feff9ab-dbd8-40ee-c512-f94275aa6ddd"
   },
   "outputs": [
    {
     "name": "stderr",
     "output_type": "stream",
     "text": [
      "No handles with labels found to put in legend.\n"
     ]
    },
    {
     "data": {
      "image/png": "[encoded data removed]",
      "text/plain": [
       "<Figure size 432x288 with 1 Axes>"
      ]
     },
     "metadata": {
      "needs_background": "light"
     },
     "output_type": "display_data"
    }
   ],
   "source": [
    "import pandas as pd\n",
    "import seaborn as sns\n",
    "\n",
    "feature_names = np.array(['Sepal_length', 'Sepal_width', 'Petal_length', 'Petal_width']) # This should be consistent with X=iris[['Sepal_length', 'Sepal_width', 'Petal_length', 'Petal_width']] \n",
    "sns.barplot(x=importances[indices], y=feature_names[indices], orient='h')\n",
    "# Add labels to your graph\n",
    "plt.xlabel('Feature Importance Score')\n",
    "plt.ylabel('Features')\n",
    "plt.title(\"Visualizing Important Features\")\n",
    "plt.legend()\n",
    "plt.show()"
   ]
  },
  {
   "cell_type": "markdown",
   "metadata": {
    "colab_type": "text",
    "id": "xLM99zvaFfT9"
   },
   "source": [
    "# Optional exercise"
   ]
  },
  {
   "cell_type": "markdown",
   "metadata": {
    "colab_type": "text",
    "id": "AxkEpGsGHGgD"
   },
   "source": [
    "### Connect notebook to  your google drive"
   ]
  },
  {
   "cell_type": "code",
   "execution_count": 46,
   "metadata": {
    "colab": {
     "base_uri": "https://localhost:8080/",
     "height": 122
    },
    "colab_type": "code",
    "executionInfo": {
     "elapsed": 47093,
     "status": "ok",
     "timestamp": 1587561107845,
     "user": {
      "displayName": "彭廷莹",
      "photoUrl": "https://lh3.googleusercontent.com/a-/AOh14Gg-TVZvcFXv_ddQnFSonh6P-VF0zYaqOPEA1p_l=s64",
      "userId": "00488430844757231586"
     },
     "user_tz": -120
    },
    "id": "qSmL5WpdFf_u",
    "outputId": "f4248bdf-f60d-45d1-b30b-785f9b13f733"
   },
   "outputs": [
    {
     "ename": "ModuleNotFoundError",
     "evalue": "No module named 'google'",
     "output_type": "error",
     "traceback": [
      "\u001b[0;31m---------------------------------------------------------------------------\u001b[0m",
      "\u001b[0;31mModuleNotFoundError\u001b[0m                       Traceback (most recent call last)",
      "\u001b[0;32m<ipython-input-46-d5df0069828e>\u001b[0m in \u001b[0;36m<module>\u001b[0;34m\u001b[0m\n\u001b[0;32m----> 1\u001b[0;31m \u001b[0;32mfrom\u001b[0m \u001b[0mgoogle\u001b[0m\u001b[0;34m.\u001b[0m\u001b[0mcolab\u001b[0m \u001b[0;32mimport\u001b[0m \u001b[0mdrive\u001b[0m\u001b[0;34m\u001b[0m\u001b[0;34m\u001b[0m\u001b[0m\n\u001b[0m\u001b[1;32m      2\u001b[0m \u001b[0mdrive\u001b[0m\u001b[0;34m.\u001b[0m\u001b[0mmount\u001b[0m\u001b[0;34m(\u001b[0m\u001b[0;34m'/content/drive'\u001b[0m\u001b[0;34m)\u001b[0m\u001b[0;34m\u001b[0m\u001b[0;34m\u001b[0m\u001b[0m\n",
      "\u001b[0;31mModuleNotFoundError\u001b[0m: No module named 'google'"
     ]
    }
   ],
   "source": [
    "from google.colab import drive\n",
    "drive.mount('/content/drive')"
   ]
  },
  {
   "cell_type": "code",
   "execution_count": 10,
   "metadata": {
    "colab": {
     "base_uri": "https://localhost:8080/",
     "height": 34
    },
    "colab_type": "code",
    "executionInfo": {
     "elapsed": 1027,
     "status": "ok",
     "timestamp": 1587561170005,
     "user": {
      "displayName": "彭廷莹",
      "photoUrl": "https://lh3.googleusercontent.com/a-/AOh14Gg-TVZvcFXv_ddQnFSonh6P-VF0zYaqOPEA1p_l=s64",
      "userId": "00488430844757231586"
     },
     "user_tz": -120
    },
    "id": "NfviYa8LBO63",
    "outputId": "adcb50a4-a8e2-4105-97af-0291774c4fc7"
   },
   "outputs": [
    {
     "data": {
      "text/plain": [
       "'/Users/ahmetsaltik/Desktop/TU München/2. Dönem/Statistical Learning/Exercise 1'"
      ]
     },
     "execution_count": 10,
     "metadata": {},
     "output_type": "execute_result"
    }
   ],
   "source": [
    "pwd"
   ]
  },
  {
   "cell_type": "code",
   "execution_count": 11,
   "metadata": {
    "colab": {
     "base_uri": "https://localhost:8080/",
     "height": 34
    },
    "colab_type": "code",
    "executionInfo": {
     "elapsed": 1388,
     "status": "ok",
     "timestamp": 1587561188517,
     "user": {
      "displayName": "彭廷莹",
      "photoUrl": "https://lh3.googleusercontent.com/a-/AOh14Gg-TVZvcFXv_ddQnFSonh6P-VF0zYaqOPEA1p_l=s64",
      "userId": "00488430844757231586"
     },
     "user_tz": -120
    },
    "id": "WdHEU6q5HeI7",
    "outputId": "8c58b462-6e3f-4812-e6dc-f98d20a5d96b"
   },
   "outputs": [
    {
     "name": "stdout",
     "output_type": "stream",
     "text": [
      "[Errno 2] No such file or directory: '/content/drive/My Drive/Colab Notebooks/statisticallearning-2020/Sheet01/solution'\n",
      "/Users/ahmetsaltik/Desktop/TU München/2. Dönem/Statistical Learning/Exercise 1\n"
     ]
    }
   ],
   "source": [
    "%cd '/content/drive/My Drive/Colab Notebooks/statisticallearning-2020/Sheet01/solution'"
   ]
  },
  {
   "cell_type": "code",
   "execution_count": 49,
   "metadata": {
    "colab": {
     "base_uri": "https://localhost:8080/",
     "height": 204
    },
    "colab_type": "code",
    "executionInfo": {
     "elapsed": 2318,
     "status": "ok",
     "timestamp": 1587561194575,
     "user": {
      "displayName": "彭廷莹",
      "photoUrl": "https://lh3.googleusercontent.com/a-/AOh14Gg-TVZvcFXv_ddQnFSonh6P-VF0zYaqOPEA1p_l=s64",
      "userId": "00488430844757231586"
     },
     "user_tz": -120
    },
    "id": "D3Nf64HAICaO",
    "outputId": "77ff1ac6-cd0d-4336-9b91-60ffef8dbe02"
   },
   "outputs": [
    {
     "data": {
      "text/html": [
       "<div>\n",
       "<style scoped>\n",
       "    .dataframe tbody tr th:only-of-type {\n",
       "        vertical-align: middle;\n",
       "    }\n",
       "\n",
       "    .dataframe tbody tr th {\n",
       "        vertical-align: top;\n",
       "    }\n",
       "\n",
       "    .dataframe thead th {\n",
       "        text-align: right;\n",
       "    }\n",
       "</style>\n",
       "<table border=\"1\" class=\"dataframe\">\n",
       "  <thead>\n",
       "    <tr style=\"text-align: right;\">\n",
       "      <th></th>\n",
       "      <th>segment</th>\n",
       "      <th>pos</th>\n",
       "      <th>nucleotide.77</th>\n",
       "      <th>nucleotide.90</th>\n",
       "    </tr>\n",
       "  </thead>\n",
       "  <tbody>\n",
       "    <tr>\n",
       "      <th>1</th>\n",
       "      <td>A</td>\n",
       "      <td>42</td>\n",
       "      <td>G</td>\n",
       "      <td>A</td>\n",
       "    </tr>\n",
       "    <tr>\n",
       "      <th>2</th>\n",
       "      <td>A</td>\n",
       "      <td>275</td>\n",
       "      <td>C</td>\n",
       "      <td>T</td>\n",
       "    </tr>\n",
       "    <tr>\n",
       "      <th>3</th>\n",
       "      <td>A</td>\n",
       "      <td>348</td>\n",
       "      <td>C</td>\n",
       "      <td>T</td>\n",
       "    </tr>\n",
       "    <tr>\n",
       "      <th>4</th>\n",
       "      <td>A</td>\n",
       "      <td>447</td>\n",
       "      <td>A</td>\n",
       "      <td>G</td>\n",
       "    </tr>\n",
       "    <tr>\n",
       "      <th>5</th>\n",
       "      <td>A</td>\n",
       "      <td>556</td>\n",
       "      <td>G</td>\n",
       "      <td>A</td>\n",
       "    </tr>\n",
       "  </tbody>\n",
       "</table>\n",
       "</div>"
      ],
      "text/plain": [
       "  segment  pos nucleotide.77 nucleotide.90\n",
       "1       A   42             G             A\n",
       "2       A  275             C             T\n",
       "3       A  348             C             T\n",
       "4       A  447             A             G\n",
       "5       A  556             G             A"
      ]
     },
     "execution_count": 49,
     "metadata": {},
     "output_type": "execute_result"
    }
   ],
   "source": [
    "import pandas as pd\n",
    "HepCevol = pd.read_csv(\"HepCevol.txt\",delimiter=' ')\n",
    "HepCevol.head(5)"
   ]
  },
  {
   "cell_type": "code",
   "execution_count": 50,
   "metadata": {
    "colab": {
     "base_uri": "https://localhost:8080/",
     "height": 824
    },
    "colab_type": "code",
    "executionInfo": {
     "elapsed": 568,
     "status": "ok",
     "timestamp": 1587546214914,
     "user": {
      "displayName": "彭廷莹",
      "photoUrl": "https://lh3.googleusercontent.com/a-/AOh14Gg-TVZvcFXv_ddQnFSonh6P-VF0zYaqOPEA1p_l=s64",
      "userId": "00488430844757231586"
     },
     "user_tz": -120
    },
    "id": "PiFr0n96IHmh",
    "outputId": "a2a699c0-5950-444f-fff5-e1cf00be5451"
   },
   "outputs": [
    {
     "data": {
      "text/html": [
       "<div>\n",
       "<style scoped>\n",
       "    .dataframe tbody tr th:only-of-type {\n",
       "        vertical-align: middle;\n",
       "    }\n",
       "\n",
       "    .dataframe tbody tr th {\n",
       "        vertical-align: top;\n",
       "    }\n",
       "\n",
       "    .dataframe thead th {\n",
       "        text-align: right;\n",
       "    }\n",
       "</style>\n",
       "<table border=\"1\" class=\"dataframe\">\n",
       "  <thead>\n",
       "    <tr style=\"text-align: right;\">\n",
       "      <th></th>\n",
       "      <th>segment</th>\n",
       "      <th>pos</th>\n",
       "      <th>nucleotide.77</th>\n",
       "      <th>nucleotide.90</th>\n",
       "    </tr>\n",
       "  </thead>\n",
       "  <tbody>\n",
       "    <tr>\n",
       "      <th>79</th>\n",
       "      <td>B</td>\n",
       "      <td>102</td>\n",
       "      <td>T</td>\n",
       "      <td>C</td>\n",
       "    </tr>\n",
       "    <tr>\n",
       "      <th>80</th>\n",
       "      <td>B</td>\n",
       "      <td>105</td>\n",
       "      <td>G</td>\n",
       "      <td>T</td>\n",
       "    </tr>\n",
       "    <tr>\n",
       "      <th>81</th>\n",
       "      <td>B</td>\n",
       "      <td>150</td>\n",
       "      <td>T</td>\n",
       "      <td>C</td>\n",
       "    </tr>\n",
       "    <tr>\n",
       "      <th>82</th>\n",
       "      <td>B</td>\n",
       "      <td>190</td>\n",
       "      <td>C</td>\n",
       "      <td>T</td>\n",
       "    </tr>\n",
       "    <tr>\n",
       "      <th>83</th>\n",
       "      <td>B</td>\n",
       "      <td>196</td>\n",
       "      <td>G</td>\n",
       "      <td>A</td>\n",
       "    </tr>\n",
       "    <tr>\n",
       "      <th>84</th>\n",
       "      <td>B</td>\n",
       "      <td>198</td>\n",
       "      <td>T</td>\n",
       "      <td>A</td>\n",
       "    </tr>\n",
       "    <tr>\n",
       "      <th>85</th>\n",
       "      <td>B</td>\n",
       "      <td>201</td>\n",
       "      <td>T</td>\n",
       "      <td>C</td>\n",
       "    </tr>\n",
       "    <tr>\n",
       "      <th>86</th>\n",
       "      <td>B</td>\n",
       "      <td>206</td>\n",
       "      <td>A</td>\n",
       "      <td>G</td>\n",
       "    </tr>\n",
       "    <tr>\n",
       "      <th>87</th>\n",
       "      <td>B</td>\n",
       "      <td>303</td>\n",
       "      <td>T</td>\n",
       "      <td>C</td>\n",
       "    </tr>\n",
       "    <tr>\n",
       "      <th>88</th>\n",
       "      <td>B</td>\n",
       "      <td>403</td>\n",
       "      <td>C</td>\n",
       "      <td>T</td>\n",
       "    </tr>\n",
       "    <tr>\n",
       "      <th>89</th>\n",
       "      <td>B</td>\n",
       "      <td>444</td>\n",
       "      <td>T</td>\n",
       "      <td>C</td>\n",
       "    </tr>\n",
       "    <tr>\n",
       "      <th>90</th>\n",
       "      <td>B</td>\n",
       "      <td>516</td>\n",
       "      <td>C</td>\n",
       "      <td>T</td>\n",
       "    </tr>\n",
       "    <tr>\n",
       "      <th>91</th>\n",
       "      <td>B</td>\n",
       "      <td>519</td>\n",
       "      <td>C</td>\n",
       "      <td>A</td>\n",
       "    </tr>\n",
       "    <tr>\n",
       "      <th>92</th>\n",
       "      <td>B</td>\n",
       "      <td>524</td>\n",
       "      <td>A</td>\n",
       "      <td>G</td>\n",
       "    </tr>\n",
       "    <tr>\n",
       "      <th>93</th>\n",
       "      <td>B</td>\n",
       "      <td>543</td>\n",
       "      <td>A</td>\n",
       "      <td>G</td>\n",
       "    </tr>\n",
       "    <tr>\n",
       "      <th>94</th>\n",
       "      <td>B</td>\n",
       "      <td>558</td>\n",
       "      <td>T</td>\n",
       "      <td>C</td>\n",
       "    </tr>\n",
       "    <tr>\n",
       "      <th>95</th>\n",
       "      <td>B</td>\n",
       "      <td>610</td>\n",
       "      <td>A</td>\n",
       "      <td>G</td>\n",
       "    </tr>\n",
       "    <tr>\n",
       "      <th>96</th>\n",
       "      <td>B</td>\n",
       "      <td>636</td>\n",
       "      <td>T</td>\n",
       "      <td>A</td>\n",
       "    </tr>\n",
       "    <tr>\n",
       "      <th>97</th>\n",
       "      <td>B</td>\n",
       "      <td>996</td>\n",
       "      <td>A</td>\n",
       "      <td>G</td>\n",
       "    </tr>\n",
       "    <tr>\n",
       "      <th>98</th>\n",
       "      <td>B</td>\n",
       "      <td>1014</td>\n",
       "      <td>G</td>\n",
       "      <td>C</td>\n",
       "    </tr>\n",
       "    <tr>\n",
       "      <th>99</th>\n",
       "      <td>B</td>\n",
       "      <td>1059</td>\n",
       "      <td>C</td>\n",
       "      <td>T</td>\n",
       "    </tr>\n",
       "    <tr>\n",
       "      <th>100</th>\n",
       "      <td>B</td>\n",
       "      <td>1227</td>\n",
       "      <td>C</td>\n",
       "      <td>T</td>\n",
       "    </tr>\n",
       "    <tr>\n",
       "      <th>101</th>\n",
       "      <td>B</td>\n",
       "      <td>1230</td>\n",
       "      <td>C</td>\n",
       "      <td>T</td>\n",
       "    </tr>\n",
       "    <tr>\n",
       "      <th>102</th>\n",
       "      <td>B</td>\n",
       "      <td>1249</td>\n",
       "      <td>C</td>\n",
       "      <td>T</td>\n",
       "    </tr>\n",
       "    <tr>\n",
       "      <th>103</th>\n",
       "      <td>B</td>\n",
       "      <td>1263</td>\n",
       "      <td>C</td>\n",
       "      <td>T</td>\n",
       "    </tr>\n",
       "  </tbody>\n",
       "</table>\n",
       "</div>"
      ],
      "text/plain": [
       "    segment   pos nucleotide.77 nucleotide.90\n",
       "79        B   102             T             C\n",
       "80        B   105             G             T\n",
       "81        B   150             T             C\n",
       "82        B   190             C             T\n",
       "83        B   196             G             A\n",
       "84        B   198             T             A\n",
       "85        B   201             T             C\n",
       "86        B   206             A             G\n",
       "87        B   303             T             C\n",
       "88        B   403             C             T\n",
       "89        B   444             T             C\n",
       "90        B   516             C             T\n",
       "91        B   519             C             A\n",
       "92        B   524             A             G\n",
       "93        B   543             A             G\n",
       "94        B   558             T             C\n",
       "95        B   610             A             G\n",
       "96        B   636             T             A\n",
       "97        B   996             A             G\n",
       "98        B  1014             G             C\n",
       "99        B  1059             C             T\n",
       "100       B  1227             C             T\n",
       "101       B  1230             C             T\n",
       "102       B  1249             C             T\n",
       "103       B  1263             C             T"
      ]
     },
     "execution_count": 50,
     "metadata": {},
     "output_type": "execute_result"
    }
   ],
   "source": [
    "HepCevol.loc[HepCevol['segment']=='B']"
   ]
  },
  {
   "cell_type": "markdown",
   "metadata": {
    "colab_type": "text",
    "id": "_1V4Oy83ITCr"
   },
   "source": [
    "First we write a function that, given $\\alpha$ and time value, returns the matrix of\n",
    "transition probabilities. The default is time = 1 to make the function work even if we don't\n",
    "specify time."
   ]
  },
  {
   "cell_type": "code",
   "execution_count": 51,
   "metadata": {
    "colab": {},
    "colab_type": "code",
    "id": "ZpOatfrEIT-T"
   },
   "outputs": [],
   "source": [
    "def tpJC(alpha,time=1):\n",
    "    z = -4*alpha*time\n",
    "    xx = 0.25+0.75*np.exp(z)\n",
    "    xy = 0.25-0.25*np.exp(z)\n",
    "    tp = np.ones((4,4))*xy\n",
    "    np.fill_diagonal(tp,xx)\n",
    "    return tp"
   ]
  },
  {
   "cell_type": "code",
   "execution_count": 52,
   "metadata": {
    "colab": {
     "base_uri": "https://localhost:8080/",
     "height": 85
    },
    "colab_type": "code",
    "executionInfo": {
     "elapsed": 531,
     "status": "ok",
     "timestamp": 1587546269642,
     "user": {
      "displayName": "彭廷莹",
      "photoUrl": "https://lh3.googleusercontent.com/a-/AOh14Gg-TVZvcFXv_ddQnFSonh6P-VF0zYaqOPEA1p_l=s64",
      "userId": "00488430844757231586"
     },
     "user_tz": -120
    },
    "id": "R5kS5GbRIXyU",
    "outputId": "c92b42c4-6b6b-4d94-a77d-99994d2b6d56"
   },
   "outputs": [
    {
     "name": "stdout",
     "output_type": "stream",
     "text": [
      "[[9.98501499e-01 4.99500333e-04 4.99500333e-04 4.99500333e-04]\n",
      " [4.99500333e-04 9.98501499e-01 4.99500333e-04 4.99500333e-04]\n",
      " [4.99500333e-04 4.99500333e-04 9.98501499e-01 4.99500333e-04]\n",
      " [4.99500333e-04 4.99500333e-04 4.99500333e-04 9.98501499e-01]]\n"
     ]
    }
   ],
   "source": [
    "M = tpJC(0.0005,1)\n",
    "print(M)"
   ]
  },
  {
   "cell_type": "markdown",
   "metadata": {
    "colab_type": "text",
    "id": "S9fKFkHiIbPg"
   },
   "source": [
    "To calculate the log likelihood function (mll) we introduce $n_{x,y}$ as the number of observed mutations of $x$ to $y$, and rewrite \n",
    "\\begin{eqnarray*}\n",
    " l(t, p, \\alpha) &=& log \\mathcal L (t,p,a) \\\\\n",
    " &=& log {\\prod_{x,y}}p(x)^{n_{xy}}*P_\\alpha^t(x,y)^{n_{xy}}\\\\\n",
    " &=& {\\sum_{x,y}}log p(x)^{n_{xy}}+ {\\sum_{x,y}}logP_\\alpha^t(x,y)^{n_{xy}} \\\\\n",
    " &=& {\\sum_{x,y}}log p(x)^{n_{xy}}+ {\\sum_{x,y}}n_{xy}logP_\\alpha^t(x,y).\n",
    "\\end{eqnarray*}\n",
    "Observe that the first term depends upon $p$ only, which we assume to be constant and the second term on $ \\alpha$ ($t=13$ in $\\texttt{HepCevol}$) only. To find\n",
    "the MLE we only need to minimize the second term. Hence, we have:"
   ]
  },
  {
   "cell_type": "code",
   "execution_count": 53,
   "metadata": {
    "colab": {},
    "colab_type": "code",
    "id": "lKYopcbOIemN"
   },
   "outputs": [],
   "source": [
    "def mll(alpha,mutation_counts,time=1,tp = tpJC):\n",
    "    return sum((np.log(tp(alpha,time))*mutation_counts).flatten())"
   ]
  },
  {
   "cell_type": "markdown",
   "metadata": {
    "colab_type": "text",
    "id": "0OAvGZ9JIruA"
   },
   "source": [
    "To estimate $\\alpha$ using MLE we need to minimize the above log likelood by taking its derivative on $\\alpha$. \n",
    "$$ \\sum_{x\\neq y}\\frac{n_{x,y}}{P_\\alpha^t(x,y)}(-\\frac{1}{4}e^{-4\\alpha t}(-4t))+\\sum_{x}\\frac{n_{x,x}}{P_\\alpha^t(x,x)}(\\frac{3}{4}e^{-4\\alpha t}(-4t))=0$$\n",
    "Using basic calculus, we obtain the unique maximum likelihood estimator to $\\hat \\alpha$ given as\n",
    "$$ \\hat \\alpha = \\frac{1}{4t} \\log \\frac{3(n_1+n_2)}{3 n_1 - n_2} = \\frac{1}{4t} \\log \\frac{3n}{3 n_1 - n_2}$$\n",
    "with $n_1 = \\sum_x n_{x,x}$ and $n_2 = \\sum_{x \\neq y} n_{x,y}$ and if and only if $3n_1>n_2.$\n",
    "\n",
    "We implement the computation of the MLE for the given probabilistic model based on a tabulation of the\n",
    "transitions."
   ]
  },
  {
   "cell_type": "code",
   "execution_count": 54,
   "metadata": {
    "colab": {},
    "colab_type": "code",
    "id": "3g0AIFWhIuqu"
   },
   "outputs": [],
   "source": [
    "def alphahat(mutation_counts,t):\n",
    "    n1 = sum(np.diag(mutation_counts))\n",
    "    n2 = sum(mutation_counts.flatten())-n1\n",
    "    if 3*n1>n2:\n",
    "        alpha = np.log(3*(n1+n2)/(3*n1-n2))/(4*t)\n",
    "    else:\n",
    "        alpha = -1 * np.inf\n",
    "    return alpha"
   ]
  },
  {
   "cell_type": "markdown",
   "metadata": {
    "colab_type": "text",
    "id": "_tifcmVSI-QW"
   },
   "source": [
    "Then we tabulate our data for the three segments and compute the MLEs."
   ]
  },
  {
   "cell_type": "markdown",
   "metadata": {
    "colab_type": "text",
    "id": "Lt4abOUMI_8P"
   },
   "source": [
    "Segment A, the diagnoal terms are $[470, 761, 746, 555]$"
   ]
  },
  {
   "cell_type": "code",
   "execution_count": 55,
   "metadata": {
    "colab": {
     "base_uri": "https://localhost:8080/",
     "height": 102
    },
    "colab_type": "code",
    "executionInfo": {
     "elapsed": 561,
     "status": "ok",
     "timestamp": 1587546448387,
     "user": {
      "displayName": "彭廷莹",
      "photoUrl": "https://lh3.googleusercontent.com/a-/AOh14Gg-TVZvcFXv_ddQnFSonh6P-VF0zYaqOPEA1p_l=s64",
      "userId": "00488430844757231586"
     },
     "user_tz": -120
    },
    "id": "EyI9yWtqI-uk",
    "outputId": "43f8747d-d987-458b-b2bb-f4bd6cdf0679"
   },
   "outputs": [
    {
     "name": "stdout",
     "output_type": "stream",
     "text": [
      "xSegA: [[470.   1.  11.   1.]\n",
      " [  4. 761.   1.  20.]\n",
      " [ 13.   3. 746.   1.]\n",
      " [  3.  19.   1. 555.]]\n",
      "alphahat_A: 0.0007819685550139502\n"
     ]
    }
   ],
   "source": [
    "xSegA = np.zeros((4,4))\n",
    "nucleotide = ['A','C','G','T']\n",
    "for i in np.arange(4):\n",
    "    for j in np.arange(4):\n",
    "        if j!=i:\n",
    "            xSegA[i,j]= len(HepCevol[((HepCevol['segment']=='A')& (HepCevol['nucleotide.77']==nucleotide[i])) & (HepCevol['nucleotide.90']==nucleotide[j])])\n",
    "np.fill_diagonal(xSegA, [470, 761, 746, 555])\n",
    "print('xSegA:',xSegA)\n",
    "alphahat_A = alphahat(xSegA,13)\n",
    "print('alphahat_A:',alphahat_A)"
   ]
  },
  {
   "cell_type": "markdown",
   "metadata": {
    "colab_type": "text",
    "id": "XIjxsirZJKrz"
   },
   "source": [
    "SegmentB, the diagnoal terms are $[252, 389, 347, 271]$"
   ]
  },
  {
   "cell_type": "code",
   "execution_count": 56,
   "metadata": {
    "colab": {
     "base_uri": "https://localhost:8080/",
     "height": 102
    },
    "colab_type": "code",
    "executionInfo": {
     "elapsed": 562,
     "status": "ok",
     "timestamp": 1587546485738,
     "user": {
      "displayName": "彭廷莹",
      "photoUrl": "https://lh3.googleusercontent.com/a-/AOh14Gg-TVZvcFXv_ddQnFSonh6P-VF0zYaqOPEA1p_l=s64",
      "userId": "00488430844757231586"
     },
     "user_tz": -120
    },
    "id": "8L6EiJMmJF91",
    "outputId": "95b193ba-a308-48e9-9791-97ae3eb78b8d"
   },
   "outputs": [
    {
     "name": "stdout",
     "output_type": "stream",
     "text": [
      "xSegB: [[252.   0.   5.   0.]\n",
      " [  1. 389.   0.   8.]\n",
      " [  1.   1. 347.   1.]\n",
      " [  2.   6.   0. 271.]]\n",
      "alphahat_B: 0.0005058358229211719\n"
     ]
    }
   ],
   "source": [
    "xSegB = np.zeros((4,4))\n",
    "nucleotide = ['A','C','G','T']\n",
    "for i in np.arange(4):\n",
    "    for j in np.arange(4):\n",
    "        if j!=i:\n",
    "            xSegB[i,j]= len(HepCevol[((HepCevol['segment']=='B')& (HepCevol['nucleotide.77']==nucleotide[i])) & (HepCevol['nucleotide.90']==nucleotide[j])])\n",
    "np.fill_diagonal(xSegB, [252, 389, 347, 271])\n",
    "print('xSegB:',xSegB)\n",
    "alphahat_B = alphahat(xSegB,13)\n",
    "print('alphahat_B:',alphahat_B)"
   ]
  },
  {
   "cell_type": "markdown",
   "metadata": {
    "colab_type": "text",
    "id": "tGBzMUFpJQId"
   },
   "source": [
    "SegmentC, the diagnoal terms are $[230, 299, 282, 198]$"
   ]
  },
  {
   "cell_type": "code",
   "execution_count": 57,
   "metadata": {
    "colab": {
     "base_uri": "https://localhost:8080/",
     "height": 102
    },
    "colab_type": "code",
    "executionInfo": {
     "elapsed": 637,
     "status": "ok",
     "timestamp": 1587546518153,
     "user": {
      "displayName": "彭廷莹",
      "photoUrl": "https://lh3.googleusercontent.com/a-/AOh14Gg-TVZvcFXv_ddQnFSonh6P-VF0zYaqOPEA1p_l=s64",
      "userId": "00488430844757231586"
     },
     "user_tz": -120
    },
    "id": "mKVwFppRJTU2",
    "outputId": "6ffc9850-4d73-4f0c-ff60-56b2108a7b28"
   },
   "outputs": [
    {
     "name": "stdout",
     "output_type": "stream",
     "text": [
      "xSegC: [[230.   1.   2.   0.]\n",
      " [  1. 299.   2.   5.]\n",
      " [  4.   0. 282.   0.]\n",
      " [  1.   3.   1. 198.]]\n",
      "alphahat_C: 0.0005049392598775057\n"
     ]
    }
   ],
   "source": [
    "xSegC = np.zeros((4,4))\n",
    "nucleotide = ['A','C','G','T']\n",
    "for i in np.arange(4):\n",
    "    for j in np.arange(4):\n",
    "        if j!=i:\n",
    "            xSegC[i,j]= len(HepCevol[((HepCevol['segment']=='C')& (HepCevol['nucleotide.77']==nucleotide[i])) & (HepCevol['nucleotide.90']==nucleotide[j])])\n",
    "np.fill_diagonal(xSegC, [230, 299, 282, 198])\n",
    "print('xSegC:',xSegC)\n",
    "alphahat_C = alphahat(xSegC,13)\n",
    "print('alphahat_C:',alphahat_C)"
   ]
  },
  {
   "cell_type": "markdown",
   "metadata": {
    "colab_type": "text",
    "id": "dd0eCzD2JZpy"
   },
   "source": [
    "### Make a Plot"
   ]
  },
  {
   "cell_type": "code",
   "execution_count": 58,
   "metadata": {
    "colab": {
     "base_uri": "https://localhost:8080/",
     "height": 286
    },
    "colab_type": "code",
    "executionInfo": {
     "elapsed": 938,
     "status": "ok",
     "timestamp": 1587546584591,
     "user": {
      "displayName": "彭廷莹",
      "photoUrl": "https://lh3.googleusercontent.com/a-/AOh14Gg-TVZvcFXv_ddQnFSonh6P-VF0zYaqOPEA1p_l=s64",
      "userId": "00488430844757231586"
     },
     "user_tz": -120
    },
    "id": "rqCW3XTYJgHY",
    "outputId": "624d9bd1-b58a-4375-f626-255234f02c49"
   },
   "outputs": [
    {
     "data": {
      "text/plain": [
       "<matplotlib.legend.Legend at 0x7fa403dd6650>"
      ]
     },
     "execution_count": 58,
     "metadata": {},
     "output_type": "execute_result"
    },
    {
     "data": {
      "image/png": "[encoded data removed]",
      "text/plain": [
       "<Figure size 432x288 with 1 Axes>"
      ]
     },
     "metadata": {
      "needs_background": "light"
     },
     "output_type": "display_data"
    }
   ],
   "source": [
    "alphaCandi = np.arange(0.0001, 0.003, 0.0001)\n",
    "mllExpA = np.zeros(alphaCandi.shape)\n",
    "mllExpB = np.zeros(alphaCandi.shape)\n",
    "mllExpC = np.zeros(alphaCandi.shape)\n",
    "for i in range(alphaCandi.shape[0]):\n",
    "    mllExpA[i]=mll(alphaCandi[i],xSegA,time=13)\n",
    "    mllExpB[i]=mll(alphaCandi[i],xSegB,time=13)\n",
    "    mllExpC[i]=mll(alphaCandi[i],xSegC,time=13)\n",
    "plt.figure()\n",
    "plt.plot(alphaCandi,mllExpA,color='red',label='segmentA')\n",
    "plt.scatter(alphahat_A,mll(alphahat_A,xSegA,time=13),color='red')\n",
    "plt.plot(alphaCandi,mllExpB,color='blue',label='segmentB')\n",
    "plt.scatter(alphahat_B,mll(alphahat_B,xSegB,time=13),color='blue')\n",
    "plt.plot(alphaCandi,mllExpC,color='green',label='segmentC')\n",
    "plt.scatter(alphahat_C,mll(alphahat_C,xSegC,time=13),color='green')\n",
    "plt.legend(loc=9, bbox_to_anchor=(+1.2, 0.6))"
   ]
  },
  {
   "cell_type": "code",
   "execution_count": null,
   "metadata": {
    "colab": {},
    "colab_type": "code",
    "id": "-I9zqd1iJnHz"
   },
   "outputs": [],
   "source": []
  }
 ],
 "metadata": {
  "accelerator": "GPU",
  "colab": {
   "name": "IntroToPython_solution.ipynb",
   "provenance": []
  },
  "kernelspec": {
   "display_name": "Python 3",
   "language": "python",
   "name": "python3"
  },
  "language_info": {
   "codemirror_mode": {
    "name": "ipython",
    "version": 3
   },
   "file_extension": ".py",
   "mimetype": "text/x-python",
   "name": "python",
   "nbconvert_exporter": "python",
   "pygments_lexer": "ipython3",
   "version": "3.7.7"
  }
 },
 "nbformat": 4,
 "nbformat_minor": 1
}
