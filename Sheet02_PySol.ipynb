{
 "cells": [
  {
   "cell_type": "markdown",
   "metadata": {
    "colab_type": "text",
    "id": "i8JGvzlJPMYf"
   },
   "source": [
    "# Sheet 2: Solution"
   ]
  },
  {
   "cell_type": "markdown",
   "metadata": {
    "colab_type": "text",
    "id": "OUjIvldtPMYi"
   },
   "source": [
    "First, import a few commonly-used functions"
   ]
  },
  {
   "cell_type": "code",
   "execution_count": 1,
   "metadata": {
    "colab": {},
    "colab_type": "code",
    "id": "o8rGrrYjPMYj"
   },
   "outputs": [],
   "source": [
    "%matplotlib inline \n",
    "import numpy as np\n",
    "import matplotlib.pyplot as plt\n",
    "import pandas as pd"
   ]
  },
  {
   "cell_type": "markdown",
   "metadata": {
    "colab_type": "text",
    "id": "Vaz4yC5gPMYo"
   },
   "source": [
    "# Exercise 1: Bias-variance tradeoff for k-nearest-neighbors (knn) classifier"
   ]
  },
  {
   "cell_type": "code",
   "execution_count": 2,
   "metadata": {
    "colab": {
     "base_uri": "https://localhost:8080/",
     "height": 297
    },
    "colab_type": "code",
    "executionInfo": {
     "elapsed": 2429,
     "status": "ok",
     "timestamp": 1588156277369,
     "user": {
      "displayName": "彭廷莹",
      "photoUrl": "https://lh3.googleusercontent.com/a-/AOh14Gg-TVZvcFXv_ddQnFSonh6P-VF0zYaqOPEA1p_l=s64",
      "userId": "00488430844757231586"
     },
     "user_tz": -120
    },
    "id": "QMbEPzTePMYp",
    "outputId": "c9bfcfbf-4f57-4b04-8233-edf37c86e611"
   },
   "outputs": [
    {
     "data": {
      "text/html": [
       "<div>\n",
       "<style scoped>\n",
       "    .dataframe tbody tr th:only-of-type {\n",
       "        vertical-align: middle;\n",
       "    }\n",
       "\n",
       "    .dataframe tbody tr th {\n",
       "        vertical-align: top;\n",
       "    }\n",
       "\n",
       "    .dataframe thead th {\n",
       "        text-align: right;\n",
       "    }\n",
       "</style>\n",
       "<table border=\"1\" class=\"dataframe\">\n",
       "  <thead>\n",
       "    <tr style=\"text-align: right;\">\n",
       "      <th></th>\n",
       "      <th>Sepal_length</th>\n",
       "      <th>Sepal_width</th>\n",
       "      <th>Petal_length</th>\n",
       "      <th>Petal_width</th>\n",
       "      <th>Species</th>\n",
       "    </tr>\n",
       "  </thead>\n",
       "  <tbody>\n",
       "    <tr>\n",
       "      <th>0</th>\n",
       "      <td>5.1</td>\n",
       "      <td>3.5</td>\n",
       "      <td>1.4</td>\n",
       "      <td>0.2</td>\n",
       "      <td>Iris-setosa</td>\n",
       "    </tr>\n",
       "    <tr>\n",
       "      <th>1</th>\n",
       "      <td>4.9</td>\n",
       "      <td>3.0</td>\n",
       "      <td>1.4</td>\n",
       "      <td>0.2</td>\n",
       "      <td>Iris-setosa</td>\n",
       "    </tr>\n",
       "    <tr>\n",
       "      <th>2</th>\n",
       "      <td>4.7</td>\n",
       "      <td>3.2</td>\n",
       "      <td>1.3</td>\n",
       "      <td>0.2</td>\n",
       "      <td>Iris-setosa</td>\n",
       "    </tr>\n",
       "    <tr>\n",
       "      <th>3</th>\n",
       "      <td>4.6</td>\n",
       "      <td>3.1</td>\n",
       "      <td>1.5</td>\n",
       "      <td>0.2</td>\n",
       "      <td>Iris-setosa</td>\n",
       "    </tr>\n",
       "    <tr>\n",
       "      <th>4</th>\n",
       "      <td>5.0</td>\n",
       "      <td>3.6</td>\n",
       "      <td>1.4</td>\n",
       "      <td>0.2</td>\n",
       "      <td>Iris-setosa</td>\n",
       "    </tr>\n",
       "    <tr>\n",
       "      <th>5</th>\n",
       "      <td>5.4</td>\n",
       "      <td>3.9</td>\n",
       "      <td>1.7</td>\n",
       "      <td>0.4</td>\n",
       "      <td>Iris-setosa</td>\n",
       "    </tr>\n",
       "    <tr>\n",
       "      <th>6</th>\n",
       "      <td>4.6</td>\n",
       "      <td>3.4</td>\n",
       "      <td>1.4</td>\n",
       "      <td>0.3</td>\n",
       "      <td>Iris-setosa</td>\n",
       "    </tr>\n",
       "    <tr>\n",
       "      <th>7</th>\n",
       "      <td>5.0</td>\n",
       "      <td>3.4</td>\n",
       "      <td>1.5</td>\n",
       "      <td>0.2</td>\n",
       "      <td>Iris-setosa</td>\n",
       "    </tr>\n",
       "  </tbody>\n",
       "</table>\n",
       "</div>"
      ],
      "text/plain": [
       "   Sepal_length  Sepal_width  Petal_length  Petal_width      Species\n",
       "0           5.1          3.5           1.4          0.2  Iris-setosa\n",
       "1           4.9          3.0           1.4          0.2  Iris-setosa\n",
       "2           4.7          3.2           1.3          0.2  Iris-setosa\n",
       "3           4.6          3.1           1.5          0.2  Iris-setosa\n",
       "4           5.0          3.6           1.4          0.2  Iris-setosa\n",
       "5           5.4          3.9           1.7          0.4  Iris-setosa\n",
       "6           4.6          3.4           1.4          0.3  Iris-setosa\n",
       "7           5.0          3.4           1.5          0.2  Iris-setosa"
      ]
     },
     "execution_count": 2,
     "metadata": {},
     "output_type": "execute_result"
    }
   ],
   "source": [
    "iris = pd.read_csv(\"http://archive.ics.uci.edu/ml/machine-learning-databases/iris/iris.data\",header=None)\n",
    "iris.columns = [\"Sepal_length\", \"Sepal_width\", \"Petal_length\", \"Petal_width\", \"Species\"]\n",
    "iris.head(8)"
   ]
  },
  {
   "cell_type": "markdown",
   "metadata": {
    "colab_type": "text",
    "id": "UOoSBhwRPMYu"
   },
   "source": [
    "Divide the data set into train and test as done on exercise sheet 1."
   ]
  },
  {
   "cell_type": "code",
   "execution_count": 3,
   "metadata": {
    "colab": {},
    "colab_type": "code",
    "id": "1tHqcUwGPMYv"
   },
   "outputs": [],
   "source": [
    "from sklearn.model_selection import train_test_split\n",
    "from sklearn.preprocessing import normalize\n",
    "\n",
    "iris.columns = [\"Sepal_length\", \"Sepal_width\", \"Petal_length\", \"Petal_width\", \"Species\"]\n",
    "X=iris[['Sepal_length', 'Sepal_width', 'Petal_length', 'Petal_width']]  # Features\n",
    "y=iris['Species'].to_numpy()  # Labels\n",
    "\n",
    "# Normalise features\n",
    "X_norm =normalize(X)\n",
    "X_train, X_test, y_train, y_test = train_test_split(X_norm, y, test_size=0.5) "
   ]
  },
  {
   "cell_type": "markdown",
   "metadata": {
    "colab_type": "text",
    "id": "yxoQ5OkpPMYy"
   },
   "source": [
    "After splitting, you will train the model on the training set."
   ]
  },
  {
   "cell_type": "code",
   "execution_count": 4,
   "metadata": {
    "colab": {
     "base_uri": "https://localhost:8080/",
     "height": 296
    },
    "colab_type": "code",
    "executionInfo": {
     "elapsed": 691,
     "status": "ok",
     "timestamp": 1588156328681,
     "user": {
      "displayName": "彭廷莹",
      "photoUrl": "https://lh3.googleusercontent.com/a-/AOh14Gg-TVZvcFXv_ddQnFSonh6P-VF0zYaqOPEA1p_l=s64",
      "userId": "00488430844757231586"
     },
     "user_tz": -120
    },
    "id": "rfCUUd-HfEIo",
    "outputId": "695dd509-c5e5-4af6-b6e7-8604782dfed4",
    "scrolled": true
   },
   "outputs": [
    {
     "data": {
      "text/plain": [
       "Text(0, 0.5, 'accuracy')"
      ]
     },
     "execution_count": 4,
     "metadata": {},
     "output_type": "execute_result"
    },
    {
     "data": {
      "image/png": "[encoded data removed]",
      "text/plain": [
       "<Figure size 432x288 with 1 Axes>"
      ]
     },
     "metadata": {
      "needs_background": "light"
     },
     "output_type": "display_data"
    }
   ],
   "source": [
    "from sklearn.neighbors import KNeighborsClassifier\n",
    "from sklearn.metrics import accuracy_score\n",
    "\n",
    "#Create a knn Classifier\n",
    "acc_train = np.zeros(15)\n",
    "acc_test = np.zeros(15)\n",
    "\n",
    "for i,knn_neighbors in enumerate(np.arange(1,30,2)):\n",
    "    knnmodel = KNeighborsClassifier(n_neighbors=knn_neighbors)\n",
    "    knnmodel.fit(X_train, y_train) \n",
    "    acc_train[i] = accuracy_score(y_train,knnmodel.predict(X_train))\n",
    "    acc_test[i]=accuracy_score(y_test,knnmodel.predict(X_test))\n",
    "\n",
    "plt.plot(np.arange(1,30,2),acc_train,'k-*',label='training_acc')\n",
    "plt.plot(np.arange(1,30,2),acc_test,'r-+',label='testing_acc')\n",
    "plt.legend(loc=9, bbox_to_anchor=(+1.2, 0.6))\n",
    "plt.xlabel('K')\n",
    "plt.ylabel('accuracy')"
   ]
  },
  {
   "cell_type": "code",
   "execution_count": 0,
   "metadata": {
    "colab": {},
    "colab_type": "code",
    "id": "o0Ejcji4PMYz"
   },
   "outputs": [],
   "source": [
    "#Import knn Model\n",
    "from sklearn.neighbors import KNeighborsClassifier\n",
    "from sklearn.metrics import accuracy_score\n",
    "\n",
    "#Create a knn Classifier\n",
    "run_number = 100\n",
    "acc_train = np.zeros((15,run_number))\n",
    "acc_test = np.zeros((15,run_number))\n",
    "for run in np.arange(run_number):\n",
    "  X_train, X_test, y_train, y_test = train_test_split(X_norm, y, test_size=0.5) # 50% training and 50% test\n",
    "  for i,knn_neighbors in enumerate(np.arange(1,30,2)):\n",
    "      knnmodel = KNeighborsClassifier(n_neighbors=knn_neighbors)\n",
    "      knnmodel.fit(X_train, y_train) \n",
    "      acc_train[i,run] = accuracy_score(y_train,knnmodel.predict(X_train))\n",
    "      acc_test[i,run]=accuracy_score(y_test,knnmodel.predict(X_test))"
   ]
  },
  {
   "cell_type": "code",
   "execution_count": 0,
   "metadata": {
    "colab": {
     "base_uri": "https://localhost:8080/",
     "height": 282
    },
    "colab_type": "code",
    "executionInfo": {
     "elapsed": 630,
     "status": "ok",
     "timestamp": 1588087825383,
     "user": {
      "displayName": "彭廷莹",
      "photoUrl": "https://lh3.googleusercontent.com/a-/AOh14Gg-TVZvcFXv_ddQnFSonh6P-VF0zYaqOPEA1p_l=s64",
      "userId": "00488430844757231586"
     },
     "user_tz": -120
    },
    "id": "dXt5CodtPMY2",
    "outputId": "314f92b6-cbfa-4ae8-9329-f805288099b5"
   },
   "outputs": [
    {
     "data": {
      "text/plain": [
       "<matplotlib.legend.Legend at 0x7f7396fc5a90>"
      ]
     },
     "execution_count": 69,
     "metadata": {
      "tags": []
     },
     "output_type": "execute_result"
    },
    {
     "data": {
      "image/png": "[encoded data removed]",
      "text/plain": [
       "<Figure size 432x288 with 1 Axes>"
      ]
     },
     "metadata": {
      "needs_background": "light",
      "tags": []
     },
     "output_type": "display_data"
    }
   ],
   "source": [
    "plt.plot(np.arange(1,30,2),np.mean(acc_train,axis =1),'k-*',label='training_acc')\n",
    "plt.plot(np.arange(1,30,2),np.mean(acc_test,axis = 1),'r-+',label='testing_acc')\n",
    "plt.legend(loc=9, bbox_to_anchor=(+1.2, 0.6))"
   ]
  },
  {
   "cell_type": "markdown",
   "metadata": {
    "colab_type": "text",
    "id": "SIzNHbexlZUq"
   },
   "source": [
    "# Optional: Implement KNN from scratch"
   ]
  },
  {
   "cell_type": "markdown",
   "metadata": {
    "colab_type": "text",
    "id": "D9aFmfQbVxH8"
   },
   "source": [
    "We can also implement KNN model from *scratch*"
   ]
  },
  {
   "cell_type": "code",
   "execution_count": 0,
   "metadata": {
    "colab": {},
    "colab_type": "code",
    "id": "yAPcmSHpV1qt"
   },
   "outputs": [],
   "source": [
    "def KNNModel(Xtr, Ytr, K, Xte):\n",
    "    Xtr = np.asarray(Xtr)\n",
    "    Ytr = np.asarray(Ytr)\n",
    "    classes = list(np.unique(Ytr))\n",
    "    \n",
    "    mtr, ntr = np.asarray(Xtr).shape\n",
    "    mte, nte = np.asarray(Xte).shape\n",
    "    num_class = len(classes)\n",
    "    # Yte = np.tile(Ytr[0], (mte, 1)) \n",
    "    Yte = []\n",
    "    \n",
    "    K = min(K, mtr)    # can't use more neighbors than training set\n",
    "    \n",
    "    for i in range(mte):    # for each sample\n",
    "        # calculate the distance, we use Euclidean distance here\n",
    "        dist = np.sum(np.power(Xtr - np.asarray(Xte)[i, :], 2), axis=1)\n",
    "        # find K nearest neighbors\n",
    "        K_nearest_idx = np.argsort(dist, axis=0)[0:K]\n",
    "        sorted_dist = dist[K_nearest_idx]\n",
    "        # count the number of each label\n",
    "        count = np.zeros((num_class,))\n",
    "        for c in range(num_class):\n",
    "            count[c] = np.sum(Ytr[K_nearest_idx] == classes[c])\n",
    "        c_max = np.argmax(count)\n",
    "        Yte.append(classes[c_max])\n",
    "    return np.array(Yte)"
   ]
  },
  {
   "cell_type": "markdown",
   "metadata": {
    "colab_type": "text",
    "id": "9mOwXxSHlc17"
   },
   "source": [
    "Plot training and testing error as a function of K using your own implemented KNN model"
   ]
  },
  {
   "cell_type": "code",
   "execution_count": 0,
   "metadata": {
    "colab": {},
    "colab_type": "code",
    "id": "djlEQBp4V3sX"
   },
   "outputs": [],
   "source": [
    "#Create a knn Classifier\n",
    "run_number = 100\n",
    "acc_train = np.zeros((15,run_number))\n",
    "acc_test = np.zeros((15,run_number))\n",
    "for run in np.arange(run_number):\n",
    "  X_train, X_test, y_train, y_test = train_test_split(X_norm, y, test_size=0.5) # 50% training and 50% test\n",
    "  for i,knn_neighbors in enumerate(np.arange(1,30,2)):\n",
    "      acc_train[i,run] = accuracy_score(y_train,KNNModel(X_train, y_train, knn_neighbors, X_train))\n",
    "      acc_test[i,run]=accuracy_score(y_test,KNNModel(X_train, y_train, knn_neighbors, X_test))"
   ]
  },
  {
   "cell_type": "code",
   "execution_count": 0,
   "metadata": {
    "colab": {
     "base_uri": "https://localhost:8080/",
     "height": 282
    },
    "colab_type": "code",
    "executionInfo": {
     "elapsed": 669,
     "status": "ok",
     "timestamp": 1588090159831,
     "user": {
      "displayName": "彭廷莹",
      "photoUrl": "https://lh3.googleusercontent.com/a-/AOh14Gg-TVZvcFXv_ddQnFSonh6P-VF0zYaqOPEA1p_l=s64",
      "userId": "00488430844757231586"
     },
     "user_tz": -120
    },
    "id": "3mGiPk7uWbYd",
    "outputId": "880c5f1e-4155-42ff-a47a-8ff273d0abc9"
   },
   "outputs": [
    {
     "data": {
      "text/plain": [
       "<matplotlib.legend.Legend at 0x7f7396e10d30>"
      ]
     },
     "execution_count": 127,
     "metadata": {
      "tags": []
     },
     "output_type": "execute_result"
    },
    {
     "data": {
      "image/png": "[encoded data removed]",
      "text/plain": [
       "<Figure size 432x288 with 1 Axes>"
      ]
     },
     "metadata": {
      "needs_background": "light",
      "tags": []
     },
     "output_type": "display_data"
    }
   ],
   "source": [
    "plt.plot(np.arange(1,30,2),np.mean(acc_train,axis =1),'k-*',label='training_acc')\n",
    "plt.plot(np.arange(1,30,2),np.mean(acc_test,axis = 1),'r-+',label='testing_acc')\n",
    "plt.legend(loc=9, bbox_to_anchor=(+1.2, 0.6))"
   ]
  },
  {
   "cell_type": "markdown",
   "metadata": {
    "colab_type": "text",
    "id": "3IEoRGPfPMY-"
   },
   "source": [
    "# Exercise 2: Expected prediction error"
   ]
  },
  {
   "cell_type": "markdown",
   "metadata": {
    "colab_type": "text",
    "id": "f313FxJQPMY_"
   },
   "source": [
    "We can compute, for a grid of threshold values, the average\n",
    "prediction error for each of these threshold values, as:\n",
    "\\begin{eqnarray*}\n",
    "\\textrm{EPE}(f_t) & = &  P(X < t \\mid Y = 1)/2 +  P(X\n",
    "\\geq t \\mid Y = 0)/2 \\\\\n",
    "%& = & 0.5 \\int_{-\\infty}^t \\phi_3(t) \\mathrm{d} t + 0.5 \\int_t^{\\infty} \\phi_0(t) \\mathrm{d} t \\\\\n",
    "& = & (\\Phi_3(t) + 1 - \\Phi_0(t))/2.\\\\\n",
    "& \\text{because} & X | (Y=1) \\sim N (3,1),X | (Y=0) \\sim N (0,1)\n",
    "\\end{eqnarray*}\n",
    "Note that $\\Phi_{\\mu}$ is the cumulative distribution function for the normal\n",
    "distribution with mean $\\mu$ and variance 1."
   ]
  },
  {
   "cell_type": "markdown",
   "metadata": {
    "colab_type": "text",
    "id": "aX62eISlPMY_"
   },
   "source": [
    "We can plot the theoretical EPE with:"
   ]
  },
  {
   "cell_type": "code",
   "execution_count": 0,
   "metadata": {
    "colab": {
     "base_uri": "https://localhost:8080/",
     "height": 282
    },
    "colab_type": "code",
    "executionInfo": {
     "elapsed": 541,
     "status": "ok",
     "timestamp": 1588086311157,
     "user": {
      "displayName": "彭廷莹",
      "photoUrl": "https://lh3.googleusercontent.com/a-/AOh14Gg-TVZvcFXv_ddQnFSonh6P-VF0zYaqOPEA1p_l=s64",
      "userId": "00488430844757231586"
     },
     "user_tz": -120
    },
    "id": "nR0rJfcePMZA",
    "outputId": "54ebfb3f-1256-4ea8-a684-e9fecafbbf78"
   },
   "outputs": [
    {
     "data": {
      "text/plain": [
       "[<matplotlib.lines.Line2D at 0x7f739770b160>]"
      ]
     },
     "execution_count": 29,
     "metadata": {
      "tags": []
     },
     "output_type": "execute_result"
    },
    {
     "data": {
      "image/png": "[encoded data removed]",
      "text/plain": [
       "<Figure size 432x288 with 1 Axes>"
      ]
     },
     "metadata": {
      "needs_background": "light",
      "tags": []
     },
     "output_type": "display_data"
    }
   ],
   "source": [
    "from scipy.stats import norm\n",
    "def theoMisclas(t):\n",
    "    return (norm.cdf(t,3,1)+1-norm.cdf(t))/2\n",
    "\n",
    "thres = np.arange(-4, 8, 0.01)\n",
    "theoEPE = theoMisclas(thres)\n",
    "plt.figure()\n",
    "plt.plot(thres,theoEPE,color='blue',label='Theoretical')"
   ]
  },
  {
   "cell_type": "markdown",
   "metadata": {
    "colab_type": "text",
    "id": "vqBsQ_qqPMZD"
   },
   "source": [
    "We can compute the optimal $\\hat{t}$, as:\n",
    "\\begin{eqnarray*}\n",
    "\\hat{t} &=& \\textrm{argmin}_t\\textrm{EPE}(f_t) \\\\\n",
    "& = &\\textrm{argmin}_t (\\Phi_3(t) + 1 - \\Phi_0(t))/2.\\\\\n",
    "& = &\\textrm{argmin}_t\\left(\\textrm{erf}\\left(\\frac{t-3}{\\sqrt{2}}\\right)-\\textrm{erf}\\left(\\frac{t}{\\sqrt{2}}\\right)\\right)\\\\\n",
    "\\end{eqnarray*}\n",
    "Take the derivative of the above function and set it to $0$, so $N(t|3,1)=N(t|0,1)->(t-3)^2=t^2->t=1.5$"
   ]
  },
  {
   "cell_type": "markdown",
   "metadata": {
    "colab_type": "text",
    "id": "n_PSPa8KPMZE"
   },
   "source": [
    "The simulation can be done as follows:"
   ]
  },
  {
   "cell_type": "code",
   "execution_count": 0,
   "metadata": {
    "colab": {},
    "colab_type": "code",
    "id": "Q_75gZ4lPMZE"
   },
   "outputs": [],
   "source": [
    "import numpy as np\n",
    "N = 1000\n",
    "Y = np.random.binomial(1, 0.5 ,N) # Random number generated from Binomial distribution\n",
    "mu = 3*Y\n",
    "X = np.random.normal(mu,1,N)"
   ]
  },
  {
   "cell_type": "markdown",
   "metadata": {
    "colab_type": "text",
    "collapsed": true,
    "id": "GjWmcbp5PMZI"
   },
   "source": [
    "This is just one way, where we use that <b>random.normal</b> take a\n",
    "vector as mean values.\n",
    "\n",
    "The density plot shows the empirical\n",
    "marginal distribution of $X$ and the empirical conditional distributions of $X$\n",
    "divided according to the two groups."
   ]
  },
  {
   "cell_type": "code",
   "execution_count": 0,
   "metadata": {
    "colab": {
     "base_uri": "https://localhost:8080/",
     "height": 299
    },
    "colab_type": "code",
    "executionInfo": {
     "elapsed": 934,
     "status": "ok",
     "timestamp": 1588086466032,
     "user": {
      "displayName": "彭廷莹",
      "photoUrl": "https://lh3.googleusercontent.com/a-/AOh14Gg-TVZvcFXv_ddQnFSonh6P-VF0zYaqOPEA1p_l=s64",
      "userId": "00488430844757231586"
     },
     "user_tz": -120
    },
    "id": "MiQoYXJgPMZI",
    "outputId": "c5e006dd-1ec1-4930-9d92-d99503b6157f"
   },
   "outputs": [
    {
     "data": {
      "text/plain": [
       "<matplotlib.legend.Legend at 0x7f7397466f28>"
      ]
     },
     "execution_count": 35,
     "metadata": {
      "tags": []
     },
     "output_type": "execute_result"
    },
    {
     "data": {
      "image/png": "[encoded data removed]",
      "text/plain": [
       "<Figure size 432x288 with 1 Axes>"
      ]
     },
     "metadata": {
      "needs_background": "light",
      "tags": []
     },
     "output_type": "display_data"
    }
   ],
   "source": [
    "bins = 13\n",
    "plt.hist(X[Y==1], bins=bins,density=True, color='r', alpha=1.0, label='Group 0',range = (np.min(X),np.max(X)))\n",
    "plt.hist(X[Y==0], bins=bins,density=True, color='b', alpha=1.0, label='Group 1',range = (np.min(X),np.max(X)))\n",
    "plt.hist(X,bins=bins,density=True, color='g', alpha=0.7)\n",
    "plt.xlabel('X')\n",
    "plt.ylabel('Density')\n",
    "plt.legend(loc=9, bbox_to_anchor=(+1.2, 0.6))"
   ]
  },
  {
   "cell_type": "markdown",
   "metadata": {
    "colab_type": "text",
    "id": "nYSAFQ9aPMZN"
   },
   "source": [
    "We compute the empirical error function as:"
   ]
  },
  {
   "cell_type": "code",
   "execution_count": 0,
   "metadata": {
    "colab": {
     "base_uri": "https://localhost:8080/",
     "height": 296
    },
    "colab_type": "code",
    "executionInfo": {
     "elapsed": 722,
     "status": "ok",
     "timestamp": 1588086484124,
     "user": {
      "displayName": "彭廷莹",
      "photoUrl": "https://lh3.googleusercontent.com/a-/AOh14Gg-TVZvcFXv_ddQnFSonh6P-VF0zYaqOPEA1p_l=s64",
      "userId": "00488430844757231586"
     },
     "user_tz": -120
    },
    "id": "9bEYg0p2PMZO",
    "outputId": "7cd29be5-749b-43fd-b6ea-b3965f81aa40"
   },
   "outputs": [
    {
     "data": {
      "text/plain": [
       "<matplotlib.legend.Legend at 0x7f7397351be0>"
      ]
     },
     "execution_count": 36,
     "metadata": {
      "tags": []
     },
     "output_type": "execute_result"
    },
    {
     "data": {
      "image/png": "[encoded data removed]",
      "text/plain": [
       "<Figure size 432x288 with 1 Axes>"
      ]
     },
     "metadata": {
      "needs_background": "light",
      "tags": []
     },
     "output_type": "display_data"
    }
   ],
   "source": [
    "from scipy.stats import norm\n",
    "def aveMisclas(t):\n",
    "    return np.mean((X >= t) != Y)\n",
    "\n",
    "\n",
    "thres = np.arange(-4, 8, 0.01)\n",
    "aveMisclasFunc = np.vectorize(aveMisclas)\n",
    "empEPE = aveMisclasFunc(thres)\n",
    "\n",
    "plt.figure()\n",
    "plt.plot(thres, empEPE,color='red',label='Experimental')\n",
    "plt.plot(thres,theoEPE,color='blue',label='Theoretical')\n",
    "plt.xlabel('Thresholds')\n",
    "plt.ylabel('Misclassification rate')\n",
    "plt.legend(loc=9, bbox_to_anchor=(+1.2, 0.6))"
   ]
  },
  {
   "cell_type": "code",
   "execution_count": 0,
   "metadata": {
    "colab": {},
    "colab_type": "code",
    "id": "dpCeuCuwPMZ2"
   },
   "outputs": [],
   "source": []
  }
 ],
 "metadata": {
  "colab": {
   "name": "Sheet02_PySol.ipynb",
   "provenance": []
  },
  "kernelspec": {
   "display_name": "Python 3",
   "language": "python",
   "name": "python3"
  },
  "language_info": {
   "codemirror_mode": {
    "name": "ipython",
    "version": 3
   },
   "file_extension": ".py",
   "mimetype": "text/x-python",
   "name": "python",
   "nbconvert_exporter": "python",
   "pygments_lexer": "ipython3",
   "version": "3.7.7"
  }
 },
 "nbformat": 4,
 "nbformat_minor": 1
}
