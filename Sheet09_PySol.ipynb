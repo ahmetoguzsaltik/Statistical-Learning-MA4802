{
 "cells": [
  {
   "cell_type": "markdown",
   "metadata": {
    "colab_type": "text",
    "id": "9vtvLUEnUmRv"
   },
   "source": [
    "# Sheet 9: Solution"
   ]
  },
  {
   "cell_type": "markdown",
   "metadata": {
    "colab_type": "text",
    "id": "QkefNrAfUmRy"
   },
   "source": [
    "## Exercise 1: Perceptron algorithm"
   ]
  },
  {
   "cell_type": "markdown",
   "metadata": {
    "colab_type": "text",
    "id": "3vYTwTXbUmRz"
   },
   "source": [
    "1. By definition, if the points are separable then there exists $\\beta$ such that \n",
    "$$ \\beta^T x_i^* > 0 \\text{ when } y_i = +1$$ and\n",
    "$$ \\beta^T x_i^* < 0 \\text{ when } y_i = -1$$\n",
    "for all $i=1,2,\\ldots, N.$ This is equivalent to the expression that $y_i \\beta^T x_i^* > 0$ for all $i.$ Equivalently we can divide this expression by $\\| x_i^* \\|$ to get\n",
    "$$y_i \\beta^T z_i^* > 0$$\n",
    "for all $i.$ Since each one of these $N$ values of $y_i \\beta^T z_i >0$ is positive let $m>0$ be the smallest value of this product observed over all training set. Thus we have\n",
    "$$ y_i \\beta^T z_i^* \\geq m. $$\n",
    "\n",
    "When we divide both sides of this inequality by this positive value of $m$ we get\n",
    "$$y_i (\\frac{1}{m} \\beta)^T z_i \\geq 1.$$\n",
    "\n",
    "If we define $\\beta_{\\text{sep}} = \\frac1m \\beta$ we have shown that $y_i \\beta_{\\text{sep}}^T z_i \\geq 1$ for all $i$."
   ]
  },
  {
   "cell_type": "markdown",
   "metadata": {
    "colab_type": "text",
    "id": "UnQvGYyTUmR1"
   },
   "source": [
    "2. From $\\beta_{\\text{new}} = \\beta_{\\text{old}} + y_i z_i$ we have that\n",
    "    $$ \\beta_{\\text{new}} - \\beta_{\\text{sep}} = \\beta_{\\text{old}} - \\beta_{\\text{sep}} + y_i z_i.$$\n",
    "    \n",
    "    When we square this result we get\n",
    "    $$ \\|  \\beta_{\\text{new}} - \\beta_{\\text{sep}} \\|^2 = \\|  \\beta_{\\text{old}} - \\beta_{\\text{sep}} \\|^2 + y_i^2 \\| z_i \\|^2 + 2 y_i ( \\beta_{\\text{old}} - \\beta_{\\text{sep}})^T z_i.$$\n",
    "    \n",
    "    Since $y_i = \\pm 1$ and $\\| z_i \\|^2 = 1$ we have that $y_i \\| z_i \\|^2=1$ for the second term on the rhs. Note that the third term on the right-hand-side is given by \n",
    "    $$2 (y_i \\beta_{\\text{old}}^T z_i - y_i \\beta_{\\text{sep}}^T z_i).$$\n",
    "    \n",
    "    Since the point $y_i, z_i$ was misclassified by the vector $\\beta_{\\text{old}}$ we have $y_i \\beta_{\\text{old}}^T z_i < 0$ (if it were positive we would have classified it correctly). Since $\\beta_{\\text{sep}}$ is the vector that can correctly classify all points we have $y_i \\beta_{\\text{sep}}^T z_i \\geq 1.$ \n",
    "    \n",
    "    With these two facts one can write \n",
    "    $$ 2 (y_i \\beta_{\\text{old}}^T z_i - y_i \\beta_{\\text{sep}}^T z_i) \\leq 2(0-1) = -2. $$\n",
    "    \n",
    "    Thus, we have just shown the requested statement \n",
    "    $$  \\|  \\beta_{\\text{new}} - \\beta_{\\text{sep}} \\|^2 \\leq \\|  \\beta_{\\text{old}} - \\beta_{\\text{sep}} \\|^2 +1 -2.$$"
   ]
  },
  {
   "cell_type": "markdown",
   "metadata": {
    "colab_type": "text",
    "id": "THTG4gK5UmR2"
   },
   "source": [
    "## Exercise 2: Pytorch introduction on Cifar dataset\n",
    "\n",
    "---\n",
    "\n"
   ]
  },
  {
   "cell_type": "code",
   "execution_count": 4,
   "metadata": {
    "colab": {
     "base_uri": "https://localhost:8080/",
     "height": 1000
    },
    "colab_type": "code",
    "executionInfo": {
     "elapsed": 928,
     "status": "ok",
     "timestamp": 1593533069420,
     "user": {
      "displayName": "彭廷莹",
      "photoUrl": "https://lh3.googleusercontent.com/a-/AOh14Gg-TVZvcFXv_ddQnFSonh6P-VF0zYaqOPEA1p_l=s64",
      "userId": "00488430844757231586"
     },
     "user_tz": -120
    },
    "id": "FdnCtgSEUmSd",
    "outputId": "6e5cd8c9-2fe5-4edb-8b1a-7bf4ec5c2af9"
   },
   "outputs": [
    {
     "data": {
      "text/plain": [
       "ResNet(\n",
       "  (conv1): Conv2d(3, 64, kernel_size=(7, 7), stride=(2, 2), padding=(3, 3), bias=False)\n",
       "  (bn1): BatchNorm2d(64, eps=1e-05, momentum=0.1, affine=True, track_running_stats=True)\n",
       "  (relu): ReLU(inplace=True)\n",
       "  (maxpool): MaxPool2d(kernel_size=3, stride=2, padding=1, dilation=1, ceil_mode=False)\n",
       "  (layer1): Sequential(\n",
       "    (0): BasicBlock(\n",
       "      (conv1): Conv2d(64, 64, kernel_size=(3, 3), stride=(1, 1), padding=(1, 1), bias=False)\n",
       "      (bn1): BatchNorm2d(64, eps=1e-05, momentum=0.1, affine=True, track_running_stats=True)\n",
       "      (relu): ReLU(inplace=True)\n",
       "      (conv2): Conv2d(64, 64, kernel_size=(3, 3), stride=(1, 1), padding=(1, 1), bias=False)\n",
       "      (bn2): BatchNorm2d(64, eps=1e-05, momentum=0.1, affine=True, track_running_stats=True)\n",
       "    )\n",
       "    (1): BasicBlock(\n",
       "      (conv1): Conv2d(64, 64, kernel_size=(3, 3), stride=(1, 1), padding=(1, 1), bias=False)\n",
       "      (bn1): BatchNorm2d(64, eps=1e-05, momentum=0.1, affine=True, track_running_stats=True)\n",
       "      (relu): ReLU(inplace=True)\n",
       "      (conv2): Conv2d(64, 64, kernel_size=(3, 3), stride=(1, 1), padding=(1, 1), bias=False)\n",
       "      (bn2): BatchNorm2d(64, eps=1e-05, momentum=0.1, affine=True, track_running_stats=True)\n",
       "    )\n",
       "  )\n",
       "  (layer2): Sequential(\n",
       "    (0): BasicBlock(\n",
       "      (conv1): Conv2d(64, 128, kernel_size=(3, 3), stride=(2, 2), padding=(1, 1), bias=False)\n",
       "      (bn1): BatchNorm2d(128, eps=1e-05, momentum=0.1, affine=True, track_running_stats=True)\n",
       "      (relu): ReLU(inplace=True)\n",
       "      (conv2): Conv2d(128, 128, kernel_size=(3, 3), stride=(1, 1), padding=(1, 1), bias=False)\n",
       "      (bn2): BatchNorm2d(128, eps=1e-05, momentum=0.1, affine=True, track_running_stats=True)\n",
       "      (downsample): Sequential(\n",
       "        (0): Conv2d(64, 128, kernel_size=(1, 1), stride=(2, 2), bias=False)\n",
       "        (1): BatchNorm2d(128, eps=1e-05, momentum=0.1, affine=True, track_running_stats=True)\n",
       "      )\n",
       "    )\n",
       "    (1): BasicBlock(\n",
       "      (conv1): Conv2d(128, 128, kernel_size=(3, 3), stride=(1, 1), padding=(1, 1), bias=False)\n",
       "      (bn1): BatchNorm2d(128, eps=1e-05, momentum=0.1, affine=True, track_running_stats=True)\n",
       "      (relu): ReLU(inplace=True)\n",
       "      (conv2): Conv2d(128, 128, kernel_size=(3, 3), stride=(1, 1), padding=(1, 1), bias=False)\n",
       "      (bn2): BatchNorm2d(128, eps=1e-05, momentum=0.1, affine=True, track_running_stats=True)\n",
       "    )\n",
       "  )\n",
       "  (layer3): Sequential(\n",
       "    (0): BasicBlock(\n",
       "      (conv1): Conv2d(128, 256, kernel_size=(3, 3), stride=(2, 2), padding=(1, 1), bias=False)\n",
       "      (bn1): BatchNorm2d(256, eps=1e-05, momentum=0.1, affine=True, track_running_stats=True)\n",
       "      (relu): ReLU(inplace=True)\n",
       "      (conv2): Conv2d(256, 256, kernel_size=(3, 3), stride=(1, 1), padding=(1, 1), bias=False)\n",
       "      (bn2): BatchNorm2d(256, eps=1e-05, momentum=0.1, affine=True, track_running_stats=True)\n",
       "      (downsample): Sequential(\n",
       "        (0): Conv2d(128, 256, kernel_size=(1, 1), stride=(2, 2), bias=False)\n",
       "        (1): BatchNorm2d(256, eps=1e-05, momentum=0.1, affine=True, track_running_stats=True)\n",
       "      )\n",
       "    )\n",
       "    (1): BasicBlock(\n",
       "      (conv1): Conv2d(256, 256, kernel_size=(3, 3), stride=(1, 1), padding=(1, 1), bias=False)\n",
       "      (bn1): BatchNorm2d(256, eps=1e-05, momentum=0.1, affine=True, track_running_stats=True)\n",
       "      (relu): ReLU(inplace=True)\n",
       "      (conv2): Conv2d(256, 256, kernel_size=(3, 3), stride=(1, 1), padding=(1, 1), bias=False)\n",
       "      (bn2): BatchNorm2d(256, eps=1e-05, momentum=0.1, affine=True, track_running_stats=True)\n",
       "    )\n",
       "  )\n",
       "  (layer4): Sequential(\n",
       "    (0): BasicBlock(\n",
       "      (conv1): Conv2d(256, 512, kernel_size=(3, 3), stride=(2, 2), padding=(1, 1), bias=False)\n",
       "      (bn1): BatchNorm2d(512, eps=1e-05, momentum=0.1, affine=True, track_running_stats=True)\n",
       "      (relu): ReLU(inplace=True)\n",
       "      (conv2): Conv2d(512, 512, kernel_size=(3, 3), stride=(1, 1), padding=(1, 1), bias=False)\n",
       "      (bn2): BatchNorm2d(512, eps=1e-05, momentum=0.1, affine=True, track_running_stats=True)\n",
       "      (downsample): Sequential(\n",
       "        (0): Conv2d(256, 512, kernel_size=(1, 1), stride=(2, 2), bias=False)\n",
       "        (1): BatchNorm2d(512, eps=1e-05, momentum=0.1, affine=True, track_running_stats=True)\n",
       "      )\n",
       "    )\n",
       "    (1): BasicBlock(\n",
       "      (conv1): Conv2d(512, 512, kernel_size=(3, 3), stride=(1, 1), padding=(1, 1), bias=False)\n",
       "      (bn1): BatchNorm2d(512, eps=1e-05, momentum=0.1, affine=True, track_running_stats=True)\n",
       "      (relu): ReLU(inplace=True)\n",
       "      (conv2): Conv2d(512, 512, kernel_size=(3, 3), stride=(1, 1), padding=(1, 1), bias=False)\n",
       "      (bn2): BatchNorm2d(512, eps=1e-05, momentum=0.1, affine=True, track_running_stats=True)\n",
       "    )\n",
       "  )\n",
       "  (avgpool): AdaptiveAvgPool2d(output_size=(1, 1))\n",
       "  (fc): Linear(in_features=512, out_features=1000, bias=True)\n",
       ")"
      ]
     },
     "execution_count": 4,
     "metadata": {
      "tags": []
     },
     "output_type": "execute_result"
    }
   ],
   "source": [
    "import torchvision.models as models\n",
    "resnet18 = models.resnet18(pretrained=True)\n",
    "resnet18.cuda()"
   ]
  },
  {
   "cell_type": "code",
   "execution_count": 5,
   "metadata": {
    "colab": {
     "base_uri": "https://localhost:8080/",
     "height": 1000
    },
    "colab_type": "code",
    "executionInfo": {
     "elapsed": 496,
     "status": "ok",
     "timestamp": 1593533072112,
     "user": {
      "displayName": "彭廷莹",
      "photoUrl": "https://lh3.googleusercontent.com/a-/AOh14Gg-TVZvcFXv_ddQnFSonh6P-VF0zYaqOPEA1p_l=s64",
      "userId": "00488430844757231586"
     },
     "user_tz": -120
    },
    "id": "-xC4n_hTUmSi",
    "outputId": "26fd5637-03b3-418c-f385-ffdf0aef8c88"
   },
   "outputs": [
    {
     "name": "stdout",
     "output_type": "stream",
     "text": [
      "----------------------------------------------------------------\n",
      "        Layer (type)               Output Shape         Param #\n",
      "================================================================\n",
      "            Conv2d-1         [-1, 64, 112, 112]           9,408\n",
      "       BatchNorm2d-2         [-1, 64, 112, 112]             128\n",
      "              ReLU-3         [-1, 64, 112, 112]               0\n",
      "         MaxPool2d-4           [-1, 64, 56, 56]               0\n",
      "            Conv2d-5           [-1, 64, 56, 56]          36,864\n",
      "       BatchNorm2d-6           [-1, 64, 56, 56]             128\n",
      "              ReLU-7           [-1, 64, 56, 56]               0\n",
      "            Conv2d-8           [-1, 64, 56, 56]          36,864\n",
      "       BatchNorm2d-9           [-1, 64, 56, 56]             128\n",
      "             ReLU-10           [-1, 64, 56, 56]               0\n",
      "       BasicBlock-11           [-1, 64, 56, 56]               0\n",
      "           Conv2d-12           [-1, 64, 56, 56]          36,864\n",
      "      BatchNorm2d-13           [-1, 64, 56, 56]             128\n",
      "             ReLU-14           [-1, 64, 56, 56]               0\n",
      "           Conv2d-15           [-1, 64, 56, 56]          36,864\n",
      "      BatchNorm2d-16           [-1, 64, 56, 56]             128\n",
      "             ReLU-17           [-1, 64, 56, 56]               0\n",
      "       BasicBlock-18           [-1, 64, 56, 56]               0\n",
      "           Conv2d-19          [-1, 128, 28, 28]          73,728\n",
      "      BatchNorm2d-20          [-1, 128, 28, 28]             256\n",
      "             ReLU-21          [-1, 128, 28, 28]               0\n",
      "           Conv2d-22          [-1, 128, 28, 28]         147,456\n",
      "      BatchNorm2d-23          [-1, 128, 28, 28]             256\n",
      "           Conv2d-24          [-1, 128, 28, 28]           8,192\n",
      "      BatchNorm2d-25          [-1, 128, 28, 28]             256\n",
      "             ReLU-26          [-1, 128, 28, 28]               0\n",
      "       BasicBlock-27          [-1, 128, 28, 28]               0\n",
      "           Conv2d-28          [-1, 128, 28, 28]         147,456\n",
      "      BatchNorm2d-29          [-1, 128, 28, 28]             256\n",
      "             ReLU-30          [-1, 128, 28, 28]               0\n",
      "           Conv2d-31          [-1, 128, 28, 28]         147,456\n",
      "      BatchNorm2d-32          [-1, 128, 28, 28]             256\n",
      "             ReLU-33          [-1, 128, 28, 28]               0\n",
      "       BasicBlock-34          [-1, 128, 28, 28]               0\n",
      "           Conv2d-35          [-1, 256, 14, 14]         294,912\n",
      "      BatchNorm2d-36          [-1, 256, 14, 14]             512\n",
      "             ReLU-37          [-1, 256, 14, 14]               0\n",
      "           Conv2d-38          [-1, 256, 14, 14]         589,824\n",
      "      BatchNorm2d-39          [-1, 256, 14, 14]             512\n",
      "           Conv2d-40          [-1, 256, 14, 14]          32,768\n",
      "      BatchNorm2d-41          [-1, 256, 14, 14]             512\n",
      "             ReLU-42          [-1, 256, 14, 14]               0\n",
      "       BasicBlock-43          [-1, 256, 14, 14]               0\n",
      "           Conv2d-44          [-1, 256, 14, 14]         589,824\n",
      "      BatchNorm2d-45          [-1, 256, 14, 14]             512\n",
      "             ReLU-46          [-1, 256, 14, 14]               0\n",
      "           Conv2d-47          [-1, 256, 14, 14]         589,824\n",
      "      BatchNorm2d-48          [-1, 256, 14, 14]             512\n",
      "             ReLU-49          [-1, 256, 14, 14]               0\n",
      "       BasicBlock-50          [-1, 256, 14, 14]               0\n",
      "           Conv2d-51            [-1, 512, 7, 7]       1,179,648\n",
      "      BatchNorm2d-52            [-1, 512, 7, 7]           1,024\n",
      "             ReLU-53            [-1, 512, 7, 7]               0\n",
      "           Conv2d-54            [-1, 512, 7, 7]       2,359,296\n",
      "      BatchNorm2d-55            [-1, 512, 7, 7]           1,024\n",
      "           Conv2d-56            [-1, 512, 7, 7]         131,072\n",
      "      BatchNorm2d-57            [-1, 512, 7, 7]           1,024\n",
      "             ReLU-58            [-1, 512, 7, 7]               0\n",
      "       BasicBlock-59            [-1, 512, 7, 7]               0\n",
      "           Conv2d-60            [-1, 512, 7, 7]       2,359,296\n",
      "      BatchNorm2d-61            [-1, 512, 7, 7]           1,024\n",
      "             ReLU-62            [-1, 512, 7, 7]               0\n",
      "           Conv2d-63            [-1, 512, 7, 7]       2,359,296\n",
      "      BatchNorm2d-64            [-1, 512, 7, 7]           1,024\n",
      "             ReLU-65            [-1, 512, 7, 7]               0\n",
      "       BasicBlock-66            [-1, 512, 7, 7]               0\n",
      "AdaptiveAvgPool2d-67            [-1, 512, 1, 1]               0\n",
      "           Linear-68                 [-1, 1000]         513,000\n",
      "================================================================\n",
      "Total params: 11,689,512\n",
      "Trainable params: 11,689,512\n",
      "Non-trainable params: 0\n",
      "----------------------------------------------------------------\n",
      "Input size (MB): 0.57\n",
      "Forward/backward pass size (MB): 62.79\n",
      "Params size (MB): 44.59\n",
      "Estimated Total Size (MB): 107.96\n",
      "----------------------------------------------------------------\n"
     ]
    }
   ],
   "source": [
    "from torchsummary import summary\n",
    "summary(resnet18, (3, 224, 224))"
   ]
  },
  {
   "cell_type": "code",
   "execution_count": 6,
   "metadata": {
    "colab": {},
    "colab_type": "code",
    "executionInfo": {
     "elapsed": 439,
     "status": "ok",
     "timestamp": 1593533078843,
     "user": {
      "displayName": "彭廷莹",
      "photoUrl": "https://lh3.googleusercontent.com/a-/AOh14Gg-TVZvcFXv_ddQnFSonh6P-VF0zYaqOPEA1p_l=s64",
      "userId": "00488430844757231586"
     },
     "user_tz": -120
    },
    "id": "_y84iKUpUmSn"
   },
   "outputs": [],
   "source": [
    "import torch\n",
    "import torchvision\n",
    "import torchvision.transforms as transforms"
   ]
  },
  {
   "cell_type": "code",
   "execution_count": 7,
   "metadata": {
    "colab": {
     "base_uri": "https://localhost:8080/",
     "height": 100,
     "referenced_widgets": [
      "ee79175cc8c04d28850890963b02a6ab",
      "3e241ba8f4a7456fbf440fc25fd09105",
      "78af4c2f976e4ae888c4c7f0bb02e699",
      "c3fda227eb434673ac25af4fc1976fcc",
      "d9c1e8a62db44a28be02a0f5e152e40a",
      "a5bbb71c0f7147d0a3765915d487e28e",
      "f4abf1ab85074939bf00fb786014c6f6",
      "4904ca8349cf4b9ea814be67b33b79b9"
     ]
    },
    "colab_type": "code",
    "executionInfo": {
     "elapsed": 6536,
     "status": "ok",
     "timestamp": 1593533088321,
     "user": {
      "displayName": "彭廷莹",
      "photoUrl": "https://lh3.googleusercontent.com/a-/AOh14Gg-TVZvcFXv_ddQnFSonh6P-VF0zYaqOPEA1p_l=s64",
      "userId": "00488430844757231586"
     },
     "user_tz": -120
    },
    "id": "558kHmIPeg55",
    "outputId": "f7493c4a-52e1-495f-d1fd-bf966149cc48"
   },
   "outputs": [
    {
     "name": "stdout",
     "output_type": "stream",
     "text": [
      "Downloading https://www.cs.toronto.edu/~kriz/cifar-10-python.tar.gz to ./data/cifar-10-python.tar.gz\n"
     ]
    },
    {
     "data": {
      "application/vnd.jupyter.widget-view+json": {
       "model_id": "ee79175cc8c04d28850890963b02a6ab",
       "version_major": 2,
       "version_minor": 0
      },
      "text/plain": [
       "HBox(children=(FloatProgress(value=1.0, bar_style='info', max=1.0), HTML(value='')))"
      ]
     },
     "metadata": {
      "tags": []
     },
     "output_type": "display_data"
    },
    {
     "name": "stdout",
     "output_type": "stream",
     "text": [
      "Extracting ./data/cifar-10-python.tar.gz to ./data\n",
      "Files already downloaded and verified\n"
     ]
    }
   ],
   "source": [
    "transform = transforms.Compose(\n",
    "    [transforms.ToTensor(),\n",
    "     transforms.Normalize((0.5, 0.5, 0.5), (0.5, 0.5, 0.5))])\n",
    "\n",
    "trainset = torchvision.datasets.CIFAR10(root='./data', train=True,\n",
    "                                        download=True, transform=transform)\n",
    "trainloader = torch.utils.data.DataLoader(trainset, batch_size=4,\n",
    "                                          shuffle=True, num_workers=2)\n",
    "\n",
    "testset = torchvision.datasets.CIFAR10(root='./data', train=False,\n",
    "                                       download=True, transform=transform)\n",
    "testloader = torch.utils.data.DataLoader(testset, batch_size=4,\n",
    "                                         shuffle=False, num_workers=2)\n",
    "\n",
    "classes = ('plane', 'car', 'bird', 'cat',\n",
    "           'deer', 'dog', 'frog', 'horse', 'ship', 'truck')"
   ]
  },
  {
   "cell_type": "code",
   "execution_count": 8,
   "metadata": {
    "colab": {
     "base_uri": "https://localhost:8080/",
     "height": 155
    },
    "colab_type": "code",
    "executionInfo": {
     "elapsed": 1001,
     "status": "ok",
     "timestamp": 1593533094332,
     "user": {
      "displayName": "彭廷莹",
      "photoUrl": "https://lh3.googleusercontent.com/a-/AOh14Gg-TVZvcFXv_ddQnFSonh6P-VF0zYaqOPEA1p_l=s64",
      "userId": "00488430844757231586"
     },
     "user_tz": -120
    },
    "id": "yqA0T0OVfJ5h",
    "outputId": "a96432cb-71e5-41a2-f9e8-a86684ba365b"
   },
   "outputs": [
    {
     "data": {
      "image/png": "[encoded data removed]",
      "text/plain": [
       "<Figure size 432x288 with 1 Axes>"
      ]
     },
     "metadata": {
      "needs_background": "light",
      "tags": []
     },
     "output_type": "display_data"
    },
    {
     "name": "stdout",
     "output_type": "stream",
     "text": [
      " deer   car truck   dog\n"
     ]
    }
   ],
   "source": [
    "import matplotlib.pyplot as plt\n",
    "import numpy as np\n",
    "\n",
    "# functions to show an image\n",
    "\n",
    "\n",
    "def imshow(img):\n",
    "    img = img / 2 + 0.5     # unnormalize\n",
    "    npimg = img.numpy()\n",
    "    plt.imshow(np.transpose(npimg, (1, 2, 0)))\n",
    "    plt.show()\n",
    "\n",
    "\n",
    "# get some random training images\n",
    "dataiter = iter(trainloader)\n",
    "images, labels = dataiter.next()\n",
    "\n",
    "# show images\n",
    "imshow(torchvision.utils.make_grid(images))\n",
    "# print labels\n",
    "print(' '.join('%5s' % classes[labels[j]] for j in range(4)))"
   ]
  },
  {
   "cell_type": "code",
   "execution_count": 9,
   "metadata": {
    "colab": {},
    "colab_type": "code",
    "executionInfo": {
     "elapsed": 610,
     "status": "ok",
     "timestamp": 1593533102294,
     "user": {
      "displayName": "彭廷莹",
      "photoUrl": "https://lh3.googleusercontent.com/a-/AOh14Gg-TVZvcFXv_ddQnFSonh6P-VF0zYaqOPEA1p_l=s64",
      "userId": "00488430844757231586"
     },
     "user_tz": -120
    },
    "id": "hutogg__fTX0"
   },
   "outputs": [],
   "source": [
    "import torch.nn as nn\n",
    "import torch.nn.functional as F\n",
    "\n",
    "\n",
    "class Net(nn.Module):\n",
    "    def __init__(self):\n",
    "        super(Net, self).__init__()\n",
    "        self.conv1 = nn.Conv2d(3, 6, 5)\n",
    "        self.pool = nn.MaxPool2d(2, 2)\n",
    "        self.conv2 = nn.Conv2d(6, 16, 5)\n",
    "        self.fc1 = nn.Linear(16 * 5 * 5, 120)\n",
    "        self.fc2 = nn.Linear(120, 84)\n",
    "        self.fc3 = nn.Linear(84, 10)\n",
    "\n",
    "    def forward(self, x):\n",
    "        x = self.pool(F.relu(self.conv1(x)))\n",
    "        x = self.pool(F.relu(self.conv2(x)))\n",
    "        x = x.view(-1, 16 * 5 * 5)\n",
    "        x = F.relu(self.fc1(x))\n",
    "        x = F.relu(self.fc2(x))\n",
    "        x = self.fc3(x)\n",
    "        return x\n",
    "\n",
    "\n",
    "net = Net()"
   ]
  },
  {
   "cell_type": "code",
   "execution_count": 10,
   "metadata": {
    "colab": {},
    "colab_type": "code",
    "executionInfo": {
     "elapsed": 477,
     "status": "ok",
     "timestamp": 1593533106993,
     "user": {
      "displayName": "彭廷莹",
      "photoUrl": "https://lh3.googleusercontent.com/a-/AOh14Gg-TVZvcFXv_ddQnFSonh6P-VF0zYaqOPEA1p_l=s64",
      "userId": "00488430844757231586"
     },
     "user_tz": -120
    },
    "id": "DyT-4w7NfXAW"
   },
   "outputs": [],
   "source": [
    "import torch.optim as optim\n",
    "\n",
    "criterion = nn.CrossEntropyLoss()\n",
    "optimizer = optim.SGD(net.parameters(), lr=0.001, momentum=0.9)"
   ]
  },
  {
   "cell_type": "code",
   "execution_count": 11,
   "metadata": {
    "colab": {
     "base_uri": "https://localhost:8080/",
     "height": 1000
    },
    "colab_type": "code",
    "executionInfo": {
     "elapsed": 499,
     "status": "ok",
     "timestamp": 1593533276614,
     "user": {
      "displayName": "彭廷莹",
      "photoUrl": "https://lh3.googleusercontent.com/a-/AOh14Gg-TVZvcFXv_ddQnFSonh6P-VF0zYaqOPEA1p_l=s64",
      "userId": "00488430844757231586"
     },
     "user_tz": -120
    },
    "id": "NgpXZUjHfaM3",
    "outputId": "42f82749-e60d-4a53-bb65-80f7a381035a"
   },
   "outputs": [
    {
     "name": "stdout",
     "output_type": "stream",
     "text": [
      "[1,   200] loss: 2.304\n",
      "[1,   400] loss: 2.298\n",
      "[1,   600] loss: 2.293\n",
      "[1,   800] loss: 2.258\n",
      "[1,  1000] loss: 2.220\n",
      "[1,  1200] loss: 2.182\n",
      "[1,  1400] loss: 2.105\n",
      "[1,  1600] loss: 2.053\n",
      "[1,  1800] loss: 2.055\n",
      "[1,  2000] loss: 1.961\n",
      "[1,  2200] loss: 1.977\n",
      "[1,  2400] loss: 1.960\n",
      "[1,  2600] loss: 1.909\n",
      "[1,  2800] loss: 1.920\n",
      "[1,  3000] loss: 1.897\n",
      "[1,  3200] loss: 1.863\n",
      "[1,  3400] loss: 1.843\n",
      "[1,  3600] loss: 1.809\n",
      "[1,  3800] loss: 1.797\n",
      "[1,  4000] loss: 1.775\n",
      "[1,  4200] loss: 1.772\n",
      "[1,  4400] loss: 1.747\n",
      "[1,  4600] loss: 1.723\n",
      "[1,  4800] loss: 1.696\n",
      "[1,  5000] loss: 1.720\n",
      "[1,  5200] loss: 1.717\n",
      "[1,  5400] loss: 1.675\n",
      "[1,  5600] loss: 1.697\n",
      "[1,  5800] loss: 1.686\n",
      "[1,  6000] loss: 1.661\n",
      "[1,  6200] loss: 1.673\n",
      "[1,  6400] loss: 1.603\n",
      "[1,  6600] loss: 1.604\n",
      "[1,  6800] loss: 1.576\n",
      "[1,  7000] loss: 1.585\n",
      "[1,  7200] loss: 1.613\n",
      "[1,  7400] loss: 1.607\n",
      "[1,  7600] loss: 1.590\n",
      "[1,  7800] loss: 1.586\n",
      "[1,  8000] loss: 1.569\n",
      "[1,  8200] loss: 1.514\n",
      "[1,  8400] loss: 1.531\n",
      "[1,  8600] loss: 1.578\n",
      "[1,  8800] loss: 1.446\n",
      "[1,  9000] loss: 1.592\n",
      "[1,  9200] loss: 1.525\n",
      "[1,  9400] loss: 1.504\n",
      "[1,  9600] loss: 1.499\n",
      "[1,  9800] loss: 1.516\n",
      "[1, 10000] loss: 1.593\n",
      "[1, 10200] loss: 1.485\n",
      "[1, 10400] loss: 1.483\n",
      "[1, 10600] loss: 1.459\n",
      "[1, 10800] loss: 1.426\n",
      "[1, 11000] loss: 1.433\n",
      "[1, 11200] loss: 1.409\n",
      "[1, 11400] loss: 1.509\n",
      "[1, 11600] loss: 1.458\n",
      "[1, 11800] loss: 1.433\n",
      "[1, 12000] loss: 1.459\n",
      "[1, 12200] loss: 1.474\n",
      "[1, 12400] loss: 1.530\n",
      "[2,   200] loss: 1.392\n",
      "[2,   400] loss: 1.378\n",
      "[2,   600] loss: 1.345\n",
      "[2,   800] loss: 1.408\n",
      "[2,  1000] loss: 1.396\n",
      "[2,  1200] loss: 1.470\n",
      "[2,  1400] loss: 1.429\n",
      "[2,  1600] loss: 1.418\n",
      "[2,  1800] loss: 1.413\n",
      "[2,  2000] loss: 1.426\n",
      "[2,  2200] loss: 1.399\n",
      "[2,  2400] loss: 1.388\n",
      "[2,  2600] loss: 1.369\n",
      "[2,  2800] loss: 1.427\n",
      "[2,  3000] loss: 1.467\n",
      "[2,  3200] loss: 1.395\n",
      "[2,  3400] loss: 1.376\n",
      "[2,  3600] loss: 1.346\n",
      "[2,  3800] loss: 1.395\n",
      "[2,  4000] loss: 1.320\n",
      "[2,  4200] loss: 1.412\n",
      "[2,  4400] loss: 1.312\n",
      "[2,  4600] loss: 1.323\n",
      "[2,  4800] loss: 1.413\n",
      "[2,  5000] loss: 1.346\n",
      "[2,  5200] loss: 1.409\n",
      "[2,  5400] loss: 1.334\n",
      "[2,  5600] loss: 1.381\n",
      "[2,  5800] loss: 1.342\n",
      "[2,  6000] loss: 1.333\n",
      "[2,  6200] loss: 1.293\n",
      "[2,  6400] loss: 1.233\n",
      "[2,  6600] loss: 1.360\n",
      "[2,  6800] loss: 1.329\n",
      "[2,  7000] loss: 1.377\n",
      "[2,  7200] loss: 1.344\n",
      "[2,  7400] loss: 1.361\n",
      "[2,  7600] loss: 1.320\n",
      "[2,  7800] loss: 1.319\n",
      "[2,  8000] loss: 1.355\n",
      "[2,  8200] loss: 1.272\n",
      "[2,  8400] loss: 1.300\n",
      "[2,  8600] loss: 1.265\n",
      "[2,  8800] loss: 1.291\n",
      "[2,  9000] loss: 1.328\n",
      "[2,  9200] loss: 1.297\n",
      "[2,  9400] loss: 1.300\n",
      "[2,  9600] loss: 1.336\n",
      "[2,  9800] loss: 1.288\n",
      "[2, 10000] loss: 1.254\n",
      "[2, 10200] loss: 1.301\n",
      "[2, 10400] loss: 1.334\n",
      "[2, 10600] loss: 1.339\n",
      "[2, 10800] loss: 1.258\n",
      "[2, 11000] loss: 1.322\n",
      "[2, 11200] loss: 1.334\n",
      "[2, 11400] loss: 1.265\n",
      "[2, 11600] loss: 1.303\n",
      "[2, 11800] loss: 1.323\n",
      "[2, 12000] loss: 1.301\n",
      "[2, 12200] loss: 1.269\n",
      "[2, 12400] loss: 1.286\n",
      "Finished Training\n"
     ]
    }
   ],
   "source": [
    "losses_for_each_minibatch =[]\n",
    "losses =[]\n",
    "\n",
    "for epoch in range(2):  # loop over the dataset multiple times\n",
    "\n",
    "    running_loss = 0.0\n",
    "    for i, data in enumerate(trainloader, 0):\n",
    "        # get the inputs; data is a list of [inputs, labels]\n",
    "        inputs, labels = data\n",
    "\n",
    "        # zero the parameter gradients\n",
    "        optimizer.zero_grad()\n",
    "\n",
    "        # forward + backward + optimize\n",
    "        outputs = net(inputs)\n",
    "        loss = criterion(outputs, labels)\n",
    "        loss.backward()\n",
    "        optimizer.step()\n",
    "\n",
    "        losses_for_each_minibatch.append(loss.item())\n",
    "\n",
    "        # print statistics\n",
    "        running_loss += loss.item()\n",
    "        if i % 200 == 199:    # print every 200 mini-batches\n",
    "            print('[%d, %5d] loss: %.3f' %\n",
    "                  (epoch + 1, i + 1, running_loss / 200))\n",
    "            losses.append(running_loss/200)\n",
    "            running_loss = 0.0\n",
    "\n",
    "print('Finished Training')"
   ]
  },
  {
   "cell_type": "code",
   "execution_count": 12,
   "metadata": {
    "colab": {
     "base_uri": "https://localhost:8080/",
     "height": 282
    },
    "colab_type": "code",
    "executionInfo": {
     "elapsed": 1182,
     "status": "ok",
     "timestamp": 1593533374279,
     "user": {
      "displayName": "彭廷莹",
      "photoUrl": "https://lh3.googleusercontent.com/a-/AOh14Gg-TVZvcFXv_ddQnFSonh6P-VF0zYaqOPEA1p_l=s64",
      "userId": "00488430844757231586"
     },
     "user_tz": -120
    },
    "id": "K6Ql-uSEhuYJ",
    "outputId": "7e60227f-d26b-498e-b1a4-093c2ee90744"
   },
   "outputs": [
    {
     "data": {
      "text/plain": [
       "[<matplotlib.lines.Line2D at 0x7f091d4c8630>]"
      ]
     },
     "execution_count": 12,
     "metadata": {
      "tags": []
     },
     "output_type": "execute_result"
    },
    {
     "data": {
      "image/png": "[encoded data removed]",
      "text/plain": [
       "<Figure size 432x288 with 1 Axes>"
      ]
     },
     "metadata": {
      "needs_background": "light",
      "tags": []
     },
     "output_type": "display_data"
    }
   ],
   "source": [
    "#loss for 200 minibatches\n",
    "plt.plot(losses)"
   ]
  },
  {
   "cell_type": "code",
   "execution_count": 13,
   "metadata": {
    "colab": {
     "base_uri": "https://localhost:8080/",
     "height": 282
    },
    "colab_type": "code",
    "executionInfo": {
     "elapsed": 809,
     "status": "ok",
     "timestamp": 1593533386585,
     "user": {
      "displayName": "彭廷莹",
      "photoUrl": "https://lh3.googleusercontent.com/a-/AOh14Gg-TVZvcFXv_ddQnFSonh6P-VF0zYaqOPEA1p_l=s64",
      "userId": "00488430844757231586"
     },
     "user_tz": -120
    },
    "id": "cqgHTn9vpA6G",
    "outputId": "516e444c-23df-4dc4-ac65-dbeb93d83957"
   },
   "outputs": [
    {
     "data": {
      "text/plain": [
       "[<matplotlib.lines.Line2D at 0x7f091d5094a8>]"
      ]
     },
     "execution_count": 13,
     "metadata": {
      "tags": []
     },
     "output_type": "execute_result"
    },
    {
     "data": {
      "image/png": "[encoded data removed]",
      "text/plain": [
       "<Figure size 432x288 with 1 Axes>"
      ]
     },
     "metadata": {
      "needs_background": "light",
      "tags": []
     },
     "output_type": "display_data"
    }
   ],
   "source": [
    "#loss for each minibatch\n",
    "plt.plot(losses_for_each_minibatch)"
   ]
  },
  {
   "cell_type": "code",
   "execution_count": null,
   "metadata": {
    "colab": {},
    "colab_type": "code",
    "id": "RKxNLCEBfcm6"
   },
   "outputs": [],
   "source": [
    "PATH = './cifar_net.pth'\n",
    "torch.save(net.state_dict(), PATH)"
   ]
  },
  {
   "cell_type": "code",
   "execution_count": null,
   "metadata": {
    "colab": {
     "base_uri": "https://localhost:8080/",
     "height": 155
    },
    "colab_type": "code",
    "id": "rsO1sF1UoxuR",
    "outputId": "e0cd374e-a732-4cb4-bfd8-963cf0449910"
   },
   "outputs": [
    {
     "data": {
      "image/png": "[encoded data removed]",
      "text/plain": [
       "<Figure size 432x288 with 1 Axes>"
      ]
     },
     "metadata": {
      "needs_background": "light",
      "tags": []
     },
     "output_type": "display_data"
    },
    {
     "name": "stdout",
     "output_type": "stream",
     "text": [
      "GroundTruth:    cat  ship  ship plane\n"
     ]
    }
   ],
   "source": [
    "dataiter = iter(testloader)\n",
    "images, labels = dataiter.next()\n",
    "\n",
    "# print images\n",
    "imshow(torchvision.utils.make_grid(images))\n",
    "print('GroundTruth: ', ' '.join('%5s' % classes[labels[j]] for j in range(4)))"
   ]
  },
  {
   "cell_type": "code",
   "execution_count": null,
   "metadata": {
    "colab": {
     "base_uri": "https://localhost:8080/",
     "height": 34
    },
    "colab_type": "code",
    "id": "tMomOq3Ko4Ec",
    "outputId": "f9100cd7-a87c-4036-b354-40cb5dc0784f"
   },
   "outputs": [
    {
     "data": {
      "text/plain": [
       "<All keys matched successfully>"
      ]
     },
     "execution_count": 23,
     "metadata": {
      "tags": []
     },
     "output_type": "execute_result"
    }
   ],
   "source": [
    "net = Net()\n",
    "net.load_state_dict(torch.load(PATH))"
   ]
  },
  {
   "cell_type": "code",
   "execution_count": null,
   "metadata": {
    "colab": {},
    "colab_type": "code",
    "id": "AJTem4lDo6zW"
   },
   "outputs": [],
   "source": [
    "outputs = net(images)"
   ]
  },
  {
   "cell_type": "code",
   "execution_count": null,
   "metadata": {
    "colab": {
     "base_uri": "https://localhost:8080/",
     "height": 34
    },
    "colab_type": "code",
    "id": "JQ2_CbMUo84Q",
    "outputId": "85129637-578c-4fc6-b616-97ff61f7b3cc"
   },
   "outputs": [
    {
     "name": "stdout",
     "output_type": "stream",
     "text": [
      "Predicted:    cat   car  ship plane\n"
     ]
    }
   ],
   "source": [
    "_, predicted = torch.max(outputs, 1)\n",
    "\n",
    "print('Predicted: ', ' '.join('%5s' % classes[predicted[j]]\n",
    "                              for j in range(4)))"
   ]
  },
  {
   "cell_type": "code",
   "execution_count": null,
   "metadata": {
    "colab": {
     "base_uri": "https://localhost:8080/",
     "height": 34
    },
    "colab_type": "code",
    "id": "Rgz4QxZZo_6f",
    "outputId": "c10ffbb8-4c49-4224-a7ed-53dd07175329"
   },
   "outputs": [
    {
     "name": "stdout",
     "output_type": "stream",
     "text": [
      "Accuracy of the network on the 10000 test images: 60 %\n"
     ]
    }
   ],
   "source": [
    "correct = 0\n",
    "total = 0\n",
    "with torch.no_grad():\n",
    "    for data in testloader:\n",
    "        images, labels = data\n",
    "        outputs = net(images)\n",
    "        _, predicted = torch.max(outputs.data, 1)\n",
    "        total += labels.size(0)\n",
    "        correct += (predicted == labels).sum().item()\n",
    "\n",
    "print('Accuracy of the network on the 10000 test images: %d %%' % (\n",
    "    100 * correct / total))"
   ]
  },
  {
   "cell_type": "code",
   "execution_count": null,
   "metadata": {
    "colab": {
     "base_uri": "https://localhost:8080/",
     "height": 187
    },
    "colab_type": "code",
    "id": "MD9oF4IZpXNC",
    "outputId": "d0a83a5e-466d-423d-821d-3d55732c1e48"
   },
   "outputs": [
    {
     "name": "stdout",
     "output_type": "stream",
     "text": [
      "Accuracy of plane : 65 %\n",
      "Accuracy of   car : 81 %\n",
      "Accuracy of  bird : 35 %\n",
      "Accuracy of   cat : 36 %\n",
      "Accuracy of  deer : 64 %\n",
      "Accuracy of   dog : 51 %\n",
      "Accuracy of  frog : 70 %\n",
      "Accuracy of horse : 72 %\n",
      "Accuracy of  ship : 64 %\n",
      "Accuracy of truck : 63 %\n"
     ]
    }
   ],
   "source": [
    "class_correct = list(0. for i in range(10))\n",
    "class_total = list(0. for i in range(10))\n",
    "with torch.no_grad():\n",
    "    for data in testloader:\n",
    "        images, labels = data\n",
    "        outputs = net(images)\n",
    "        _, predicted = torch.max(outputs, 1)\n",
    "        c = (predicted == labels).squeeze()\n",
    "        for i in range(4):\n",
    "            label = labels[i]\n",
    "            class_correct[label] += c[i].item()\n",
    "            class_total[label] += 1\n",
    "\n",
    "\n",
    "for i in range(10):\n",
    "    print('Accuracy of %5s : %2d %%' % (\n",
    "        classes[i], 100 * class_correct[i] / class_total[i]))"
   ]
  },
  {
   "cell_type": "code",
   "execution_count": null,
   "metadata": {
    "colab": {},
    "colab_type": "code",
    "id": "DPFjelulpast"
   },
   "outputs": [],
   "source": []
  }
 ],
 "metadata": {
  "accelerator": "GPU",
  "colab": {
   "collapsed_sections": [],
   "name": "Sheet09_PySol (1).ipynb",
   "provenance": []
  },
  "kernelspec": {
   "display_name": "Python 3",
   "language": "python",
   "name": "python3"
  },
  "language_info": {
   "codemirror_mode": {
    "name": "ipython",
    "version": 3
   },
   "file_extension": ".py",
   "mimetype": "text/x-python",
   "name": "python",
   "nbconvert_exporter": "python",
   "pygments_lexer": "ipython3",
   "version": "3.7.7"
  },
  "widgets": {
   "application/vnd.jupyter.widget-state+json": {
    "3e241ba8f4a7456fbf440fc25fd09105": {
     "model_module": "@jupyter-widgets/base",
     "model_name": "LayoutModel",
     "state": {
      "_model_module": "@jupyter-widgets/base",
      "_model_module_version": "1.2.0",
      "_model_name": "LayoutModel",
      "_view_count": null,
      "_view_module": "@jupyter-widgets/base",
      "_view_module_version": "1.2.0",
      "_view_name": "LayoutView",
      "align_content": null,
      "align_items": null,
      "align_self": null,
      "border": null,
      "bottom": null,
      "display": null,
      "flex": null,
      "flex_flow": null,
      "grid_area": null,
      "grid_auto_columns": null,
      "grid_auto_flow": null,
      "grid_auto_rows": null,
      "grid_column": null,
      "grid_gap": null,
      "grid_row": null,
      "grid_template_areas": null,
      "grid_template_columns": null,
      "grid_template_rows": null,
      "height": null,
      "justify_content": null,
      "justify_items": null,
      "left": null,
      "margin": null,
      "max_height": null,
      "max_width": null,
      "min_height": null,
      "min_width": null,
      "object_fit": null,
      "object_position": null,
      "order": null,
      "overflow": null,
      "overflow_x": null,
      "overflow_y": null,
      "padding": null,
      "right": null,
      "top": null,
      "visibility": null,
      "width": null
     }
    },
    "4904ca8349cf4b9ea814be67b33b79b9": {
     "model_module": "@jupyter-widgets/base",
     "model_name": "LayoutModel",
     "state": {
      "_model_module": "@jupyter-widgets/base",
      "_model_module_version": "1.2.0",
      "_model_name": "LayoutModel",
      "_view_count": null,
      "_view_module": "@jupyter-widgets/base",
      "_view_module_version": "1.2.0",
      "_view_name": "LayoutView",
      "align_content": null,
      "align_items": null,
      "align_self": null,
      "border": null,
      "bottom": null,
      "display": null,
      "flex": null,
      "flex_flow": null,
      "grid_area": null,
      "grid_auto_columns": null,
      "grid_auto_flow": null,
      "grid_auto_rows": null,
      "grid_column": null,
      "grid_gap": null,
      "grid_row": null,
      "grid_template_areas": null,
      "grid_template_columns": null,
      "grid_template_rows": null,
      "height": null,
      "justify_content": null,
      "justify_items": null,
      "left": null,
      "margin": null,
      "max_height": null,
      "max_width": null,
      "min_height": null,
      "min_width": null,
      "object_fit": null,
      "object_position": null,
      "order": null,
      "overflow": null,
      "overflow_x": null,
      "overflow_y": null,
      "padding": null,
      "right": null,
      "top": null,
      "visibility": null,
      "width": null
     }
    },
    "78af4c2f976e4ae888c4c7f0bb02e699": {
     "model_module": "@jupyter-widgets/controls",
     "model_name": "FloatProgressModel",
     "state": {
      "_dom_classes": [],
      "_model_module": "@jupyter-widgets/controls",
      "_model_module_version": "1.5.0",
      "_model_name": "FloatProgressModel",
      "_view_count": null,
      "_view_module": "@jupyter-widgets/controls",
      "_view_module_version": "1.5.0",
      "_view_name": "ProgressView",
      "bar_style": "info",
      "description": "",
      "description_tooltip": null,
      "layout": "IPY_MODEL_a5bbb71c0f7147d0a3765915d487e28e",
      "max": 1,
      "min": 0,
      "orientation": "horizontal",
      "style": "IPY_MODEL_d9c1e8a62db44a28be02a0f5e152e40a",
      "value": 1
     }
    },
    "a5bbb71c0f7147d0a3765915d487e28e": {
     "model_module": "@jupyter-widgets/base",
     "model_name": "LayoutModel",
     "state": {
      "_model_module": "@jupyter-widgets/base",
      "_model_module_version": "1.2.0",
      "_model_name": "LayoutModel",
      "_view_count": null,
      "_view_module": "@jupyter-widgets/base",
      "_view_module_version": "1.2.0",
      "_view_name": "LayoutView",
      "align_content": null,
      "align_items": null,
      "align_self": null,
      "border": null,
      "bottom": null,
      "display": null,
      "flex": null,
      "flex_flow": null,
      "grid_area": null,
      "grid_auto_columns": null,
      "grid_auto_flow": null,
      "grid_auto_rows": null,
      "grid_column": null,
      "grid_gap": null,
      "grid_row": null,
      "grid_template_areas": null,
      "grid_template_columns": null,
      "grid_template_rows": null,
      "height": null,
      "justify_content": null,
      "justify_items": null,
      "left": null,
      "margin": null,
      "max_height": null,
      "max_width": null,
      "min_height": null,
      "min_width": null,
      "object_fit": null,
      "object_position": null,
      "order": null,
      "overflow": null,
      "overflow_x": null,
      "overflow_y": null,
      "padding": null,
      "right": null,
      "top": null,
      "visibility": null,
      "width": null
     }
    },
    "c3fda227eb434673ac25af4fc1976fcc": {
     "model_module": "@jupyter-widgets/controls",
     "model_name": "HTMLModel",
     "state": {
      "_dom_classes": [],
      "_model_module": "@jupyter-widgets/controls",
      "_model_module_version": "1.5.0",
      "_model_name": "HTMLModel",
      "_view_count": null,
      "_view_module": "@jupyter-widgets/controls",
      "_view_module_version": "1.5.0",
      "_view_name": "HTMLView",
      "description": "",
      "description_tooltip": null,
      "layout": "IPY_MODEL_4904ca8349cf4b9ea814be67b33b79b9",
      "placeholder": "​",
      "style": "IPY_MODEL_f4abf1ab85074939bf00fb786014c6f6",
      "value": " 170500096/? [00:20&lt;00:00, 83453778.15it/s]"
     }
    },
    "d9c1e8a62db44a28be02a0f5e152e40a": {
     "model_module": "@jupyter-widgets/controls",
     "model_name": "ProgressStyleModel",
     "state": {
      "_model_module": "@jupyter-widgets/controls",
      "_model_module_version": "1.5.0",
      "_model_name": "ProgressStyleModel",
      "_view_count": null,
      "_view_module": "@jupyter-widgets/base",
      "_view_module_version": "1.2.0",
      "_view_name": "StyleView",
      "bar_color": null,
      "description_width": "initial"
     }
    },
    "ee79175cc8c04d28850890963b02a6ab": {
     "model_module": "@jupyter-widgets/controls",
     "model_name": "HBoxModel",
     "state": {
      "_dom_classes": [],
      "_model_module": "@jupyter-widgets/controls",
      "_model_module_version": "1.5.0",
      "_model_name": "HBoxModel",
      "_view_count": null,
      "_view_module": "@jupyter-widgets/controls",
      "_view_module_version": "1.5.0",
      "_view_name": "HBoxView",
      "box_style": "",
      "children": [
       "IPY_MODEL_78af4c2f976e4ae888c4c7f0bb02e699",
       "IPY_MODEL_c3fda227eb434673ac25af4fc1976fcc"
      ],
      "layout": "IPY_MODEL_3e241ba8f4a7456fbf440fc25fd09105"
     }
    },
    "f4abf1ab85074939bf00fb786014c6f6": {
     "model_module": "@jupyter-widgets/controls",
     "model_name": "DescriptionStyleModel",
     "state": {
      "_model_module": "@jupyter-widgets/controls",
      "_model_module_version": "1.5.0",
      "_model_name": "DescriptionStyleModel",
      "_view_count": null,
      "_view_module": "@jupyter-widgets/base",
      "_view_module_version": "1.2.0",
      "_view_name": "StyleView",
      "description_width": ""
     }
    }
   }
  }
 },
 "nbformat": 4,
 "nbformat_minor": 1
}
