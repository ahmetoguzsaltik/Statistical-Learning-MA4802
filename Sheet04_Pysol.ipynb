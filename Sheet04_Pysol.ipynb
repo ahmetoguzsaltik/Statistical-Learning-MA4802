{
 "cells": [
  {
   "cell_type": "markdown",
   "metadata": {
    "colab_type": "text",
    "id": "XtFy_aS9K-aV"
   },
   "source": [
    "# Sheet 4: Solution"
   ]
  },
  {
   "cell_type": "code",
   "execution_count": 3,
   "metadata": {
    "colab": {},
    "colab_type": "code",
    "id": "jS8jrgXlK-aa"
   },
   "outputs": [],
   "source": [
    "%matplotlib inline \n",
    "import matplotlib\n",
    "import matplotlib.pyplot as plt\n",
    "import numpy as np\n",
    "import pandas as pd"
   ]
  },
  {
   "cell_type": "markdown",
   "metadata": {
    "colab_type": "text",
    "id": "5Wq8y12kK-al"
   },
   "source": [
    "## Exercise 1: Elastic-Net with Lasso"
   ]
  },
  {
   "cell_type": "markdown",
   "metadata": {
    "colab_type": "text",
    "id": "yurDQdSNK-am"
   },
   "source": [
    "Augment $\\mathbf X$ with a multiple of the $p \\times p$ identity to get\n",
    "\n",
    "$$\\hat {\\mathbf X} = \\begin{bmatrix} \\mathbf X  \\\\ \\gamma \\mathbf I  \\end{bmatrix}.$$\n",
    "\n",
    "Then $\\hat {\\mathbf X} \\beta = \\begin{bmatrix} \\mathbf X \\beta \\\\ \\gamma \\mathbf \\beta  \\end{bmatrix}.$ We also modify $\\mathbf y$ with $p$ zeros values as\n",
    "\n",
    "$$ \\hat{\\mathbf y} = \\begin{bmatrix} \\mathbf y  \\\\ 0 \\end{bmatrix}.$$\n",
    "\n",
    "Then we get\n",
    "\n",
    "$$\n",
    "\\| \\hat{\\mathbf y}  - \\hat {\\mathbf X} \\beta  \\|^2_2 = \\left\\|  \\begin{bmatrix} \\mathbf y - \\mathbf X \\beta \\\\ \\gamma \\beta \\end{bmatrix}   \\right\\|^2_2. = \\| \\mathbf y - \\mathbf X \\beta \\|^2_2 + \\gamma^2 \\|\\beta\\|^2_2.\n",
    "$$\n",
    "\n",
    "Now in the this augmented space a lasso problem for $\\beta$ is\n",
    "\n",
    "$$\\hat \\beta = \\arg \\min_\\beta (\\| \\mathbf y - \\mathbf X \\beta \\|^2_2 + \\gamma^2 \\|\\beta\\|^2_2 + \\hat \\lambda \\|\\beta\\|_1).$$\n",
    "\n",
    "Rewriting this using the above equation we get in the original variables the following\n",
    "$$ \\hat \\beta = \\arg \\min_\\beta (\\| \\mathbf y - \\mathbf X \\beta \\|^2_2 + \\gamma^2 \\|\\beta\\|^2_2 + \\hat \\lambda \\|\\beta\\|_1).\n",
    "$$\n",
    "\n",
    "By setting $\\gamma^2 = \\lambda \\alpha$ or $\\gamma = \\sqrt{\\lambda \\alpha}$ and $\\hat \\lambda = \\lambda (1-\\alpha),$ we get the elastic-net regression.\n",
    "\n",
    "Thus to solve the requested minimization problem given $\\mathbf y, \\mathbf X, \\lambda$ and $\\alpha$ perform the following steps\n",
    "\n",
    "1. Augment $\\mathbf y$ with $p$ additional zeros to get $\\hat{\\mathbf y} = \\begin{bmatrix} \\mathbf y  \\\\ 0 \\end{bmatrix}.$\n",
    "2. Augment $\\mathbf X$ with the  multiple of the $p \\times p$ identity matrix $\\sqrt{\\lambda \\alpha} \\mathbf I$ to get $\\hat {\\mathbf X} = \\begin{bmatrix} \\mathbf X  \\\\ \\sqrt{\\lambda \\alpha} \\mathbf I  \\end{bmatrix}.$\n",
    "3. Set $\\hat \\lambda = \\lambda (1-\\alpha).$\n",
    "4. Solve the lasse minimization problem with input $\\hat{\\mathbf y}, \\hat{\\mathbf X}, \\hat \\lambda.$\n",
    "\n",
    "The solution $\\hat \\beta$ is the desired solution to the entire problem."
   ]
  },
  {
   "cell_type": "markdown",
   "metadata": {
    "colab_type": "text",
    "id": "nzmG49bOK-ap"
   },
   "source": [
    "## Exercise 2: Lasso regression"
   ]
  },
  {
   "cell_type": "code",
   "execution_count": 2,
   "metadata": {
    "colab": {
     "base_uri": "https://localhost:8080/",
     "height": 124
    },
    "colab_type": "code",
    "executionInfo": {
     "elapsed": 42213,
     "status": "ok",
     "timestamp": 1589980859681,
     "user": {
      "displayName": "彭廷莹",
      "photoUrl": "https://lh3.googleusercontent.com/a-/AOh14Gg-TVZvcFXv_ddQnFSonh6P-VF0zYaqOPEA1p_l=s64",
      "userId": "00488430844757231586"
     },
     "user_tz": -120
    },
    "id": "1UPWXN7XLdQc",
    "outputId": "532590ca-0d7d-408f-a198-63aa00a34546"
   },
   "outputs": [
    {
     "name": "stdout",
     "output_type": "stream",
     "text": [
      "Go to this URL in a browser: https://accounts.google.com/o/oauth2/auth?client_id=947318989803-6bn6qk8qdgf4n4g3pfee6491hc0brc4i.apps.googleusercontent.com&redirect_uri=urn%3aietf%3awg%3aoauth%3a2.0%3aoob&response_type=code&scope=email%20https%3a%2f%2fwww.googleapis.com%2fauth%2fdocs.test%20https%3a%2f%2fwww.googleapis.com%2fauth%2fdrive%20https%3a%2f%2fwww.googleapis.com%2fauth%2fdrive.photos.readonly%20https%3a%2f%2fwww.googleapis.com%2fauth%2fpeopleapi.readonly\n",
      "\n",
      "Enter your authorization code:\n",
      "··········\n",
      "Mounted at /content/drive\n"
     ]
    }
   ],
   "source": [
    "from google.colab import drive\n",
    "drive.mount('/content/drive')"
   ]
  },
  {
   "cell_type": "code",
   "execution_count": 4,
   "metadata": {
    "colab": {
     "base_uri": "https://localhost:8080/",
     "height": 305
    },
    "colab_type": "code",
    "executionInfo": {
     "elapsed": 4884,
     "status": "ok",
     "timestamp": 1589980883714,
     "user": {
      "displayName": "彭廷莹",
      "photoUrl": "https://lh3.googleusercontent.com/a-/AOh14Gg-TVZvcFXv_ddQnFSonh6P-VF0zYaqOPEA1p_l=s64",
      "userId": "00488430844757231586"
     },
     "user_tz": -120
    },
    "id": "6OD6CSktK-ar",
    "outputId": "e4962007-1484-4f6c-c78b-9dfd13a48b74"
   },
   "outputs": [
    {
     "data": {
      "text/html": [
       "<div>\n",
       "<style scoped>\n",
       "    .dataframe tbody tr th:only-of-type {\n",
       "        vertical-align: middle;\n",
       "    }\n",
       "\n",
       "    .dataframe tbody tr th {\n",
       "        vertical-align: top;\n",
       "    }\n",
       "\n",
       "    .dataframe thead th {\n",
       "        text-align: right;\n",
       "    }\n",
       "</style>\n",
       "<table border=\"1\" class=\"dataframe\">\n",
       "  <thead>\n",
       "    <tr style=\"text-align: right;\">\n",
       "      <th></th>\n",
       "      <th>lcavol</th>\n",
       "      <th>lweight</th>\n",
       "      <th>age</th>\n",
       "      <th>lbph</th>\n",
       "      <th>svi</th>\n",
       "      <th>lcp</th>\n",
       "      <th>gleason</th>\n",
       "      <th>pgg45</th>\n",
       "      <th>lpsa</th>\n",
       "      <th>train</th>\n",
       "    </tr>\n",
       "  </thead>\n",
       "  <tbody>\n",
       "    <tr>\n",
       "      <th>0</th>\n",
       "      <td>-0.579818</td>\n",
       "      <td>2.769459</td>\n",
       "      <td>50</td>\n",
       "      <td>-1.386294</td>\n",
       "      <td>0</td>\n",
       "      <td>-1.386294</td>\n",
       "      <td>6</td>\n",
       "      <td>0</td>\n",
       "      <td>-0.430783</td>\n",
       "      <td>True</td>\n",
       "    </tr>\n",
       "    <tr>\n",
       "      <th>1</th>\n",
       "      <td>-0.994252</td>\n",
       "      <td>3.319626</td>\n",
       "      <td>58</td>\n",
       "      <td>-1.386294</td>\n",
       "      <td>0</td>\n",
       "      <td>-1.386294</td>\n",
       "      <td>6</td>\n",
       "      <td>0</td>\n",
       "      <td>-0.162519</td>\n",
       "      <td>True</td>\n",
       "    </tr>\n",
       "    <tr>\n",
       "      <th>2</th>\n",
       "      <td>-0.510826</td>\n",
       "      <td>2.691243</td>\n",
       "      <td>74</td>\n",
       "      <td>-1.386294</td>\n",
       "      <td>0</td>\n",
       "      <td>-1.386294</td>\n",
       "      <td>7</td>\n",
       "      <td>20</td>\n",
       "      <td>-0.162519</td>\n",
       "      <td>True</td>\n",
       "    </tr>\n",
       "    <tr>\n",
       "      <th>3</th>\n",
       "      <td>-1.203973</td>\n",
       "      <td>3.282789</td>\n",
       "      <td>58</td>\n",
       "      <td>-1.386294</td>\n",
       "      <td>0</td>\n",
       "      <td>-1.386294</td>\n",
       "      <td>6</td>\n",
       "      <td>0</td>\n",
       "      <td>-0.162519</td>\n",
       "      <td>True</td>\n",
       "    </tr>\n",
       "    <tr>\n",
       "      <th>4</th>\n",
       "      <td>0.751416</td>\n",
       "      <td>3.432373</td>\n",
       "      <td>62</td>\n",
       "      <td>-1.386294</td>\n",
       "      <td>0</td>\n",
       "      <td>-1.386294</td>\n",
       "      <td>6</td>\n",
       "      <td>0</td>\n",
       "      <td>0.371564</td>\n",
       "      <td>True</td>\n",
       "    </tr>\n",
       "    <tr>\n",
       "      <th>5</th>\n",
       "      <td>-1.049822</td>\n",
       "      <td>3.228826</td>\n",
       "      <td>50</td>\n",
       "      <td>-1.386294</td>\n",
       "      <td>0</td>\n",
       "      <td>-1.386294</td>\n",
       "      <td>6</td>\n",
       "      <td>0</td>\n",
       "      <td>0.765468</td>\n",
       "      <td>True</td>\n",
       "    </tr>\n",
       "    <tr>\n",
       "      <th>6</th>\n",
       "      <td>0.737164</td>\n",
       "      <td>3.473518</td>\n",
       "      <td>64</td>\n",
       "      <td>0.615186</td>\n",
       "      <td>0</td>\n",
       "      <td>-1.386294</td>\n",
       "      <td>6</td>\n",
       "      <td>0</td>\n",
       "      <td>0.765468</td>\n",
       "      <td>False</td>\n",
       "    </tr>\n",
       "    <tr>\n",
       "      <th>7</th>\n",
       "      <td>0.693147</td>\n",
       "      <td>3.539509</td>\n",
       "      <td>58</td>\n",
       "      <td>1.536867</td>\n",
       "      <td>0</td>\n",
       "      <td>-1.386294</td>\n",
       "      <td>6</td>\n",
       "      <td>0</td>\n",
       "      <td>0.854415</td>\n",
       "      <td>True</td>\n",
       "    </tr>\n",
       "  </tbody>\n",
       "</table>\n",
       "</div>"
      ],
      "text/plain": [
       "     lcavol   lweight  age      lbph  svi       lcp  gleason  pgg45      lpsa  \\\n",
       "0 -0.579818  2.769459   50 -1.386294    0 -1.386294        6      0 -0.430783   \n",
       "1 -0.994252  3.319626   58 -1.386294    0 -1.386294        6      0 -0.162519   \n",
       "2 -0.510826  2.691243   74 -1.386294    0 -1.386294        7     20 -0.162519   \n",
       "3 -1.203973  3.282789   58 -1.386294    0 -1.386294        6      0 -0.162519   \n",
       "4  0.751416  3.432373   62 -1.386294    0 -1.386294        6      0  0.371564   \n",
       "5 -1.049822  3.228826   50 -1.386294    0 -1.386294        6      0  0.765468   \n",
       "6  0.737164  3.473518   64  0.615186    0 -1.386294        6      0  0.765468   \n",
       "7  0.693147  3.539509   58  1.536867    0 -1.386294        6      0  0.854415   \n",
       "\n",
       "   train  \n",
       "0   True  \n",
       "1   True  \n",
       "2   True  \n",
       "3   True  \n",
       "4   True  \n",
       "5   True  \n",
       "6  False  \n",
       "7   True  "
      ]
     },
     "execution_count": 4,
     "metadata": {},
     "output_type": "execute_result"
    }
   ],
   "source": [
    "#%cd '/content/drive/My Drive/Colab Notebooks/statisticallearning-2020/Sheet04/solution'\n",
    "\n",
    "pcancer = pd.read_csv(\"prostate.csv\",delimiter=',')\n",
    "\n",
    "pcancer.head(8)"
   ]
  },
  {
   "cell_type": "code",
   "execution_count": 5,
   "metadata": {
    "colab": {
     "base_uri": "https://localhost:8080/",
     "height": 288
    },
    "colab_type": "code",
    "executionInfo": {
     "elapsed": 573,
     "status": "ok",
     "timestamp": 1589981004521,
     "user": {
      "displayName": "彭廷莹",
      "photoUrl": "https://lh3.googleusercontent.com/a-/AOh14Gg-TVZvcFXv_ddQnFSonh6P-VF0zYaqOPEA1p_l=s64",
      "userId": "00488430844757231586"
     },
     "user_tz": -120
    },
    "id": "cJdIJBkDK-az",
    "outputId": "61b1af94-f571-4c42-c663-d747a46557fa"
   },
   "outputs": [
    {
     "data": {
      "text/html": [
       "<div>\n",
       "<style scoped>\n",
       "    .dataframe tbody tr th:only-of-type {\n",
       "        vertical-align: middle;\n",
       "    }\n",
       "\n",
       "    .dataframe tbody tr th {\n",
       "        vertical-align: top;\n",
       "    }\n",
       "\n",
       "    .dataframe thead th {\n",
       "        text-align: right;\n",
       "    }\n",
       "</style>\n",
       "<table border=\"1\" class=\"dataframe\">\n",
       "  <thead>\n",
       "    <tr style=\"text-align: right;\">\n",
       "      <th></th>\n",
       "      <th>lcavol</th>\n",
       "      <th>lweight</th>\n",
       "      <th>age</th>\n",
       "      <th>lbph</th>\n",
       "      <th>svi</th>\n",
       "      <th>lcp</th>\n",
       "      <th>gleason</th>\n",
       "      <th>pgg45</th>\n",
       "    </tr>\n",
       "  </thead>\n",
       "  <tbody>\n",
       "    <tr>\n",
       "      <th>0</th>\n",
       "      <td>-0.579818</td>\n",
       "      <td>2.769459</td>\n",
       "      <td>50</td>\n",
       "      <td>-1.386294</td>\n",
       "      <td>0</td>\n",
       "      <td>-1.386294</td>\n",
       "      <td>6</td>\n",
       "      <td>0</td>\n",
       "    </tr>\n",
       "    <tr>\n",
       "      <th>1</th>\n",
       "      <td>-0.994252</td>\n",
       "      <td>3.319626</td>\n",
       "      <td>58</td>\n",
       "      <td>-1.386294</td>\n",
       "      <td>0</td>\n",
       "      <td>-1.386294</td>\n",
       "      <td>6</td>\n",
       "      <td>0</td>\n",
       "    </tr>\n",
       "    <tr>\n",
       "      <th>2</th>\n",
       "      <td>-0.510826</td>\n",
       "      <td>2.691243</td>\n",
       "      <td>74</td>\n",
       "      <td>-1.386294</td>\n",
       "      <td>0</td>\n",
       "      <td>-1.386294</td>\n",
       "      <td>7</td>\n",
       "      <td>20</td>\n",
       "    </tr>\n",
       "    <tr>\n",
       "      <th>3</th>\n",
       "      <td>-1.203973</td>\n",
       "      <td>3.282789</td>\n",
       "      <td>58</td>\n",
       "      <td>-1.386294</td>\n",
       "      <td>0</td>\n",
       "      <td>-1.386294</td>\n",
       "      <td>6</td>\n",
       "      <td>0</td>\n",
       "    </tr>\n",
       "    <tr>\n",
       "      <th>4</th>\n",
       "      <td>0.751416</td>\n",
       "      <td>3.432373</td>\n",
       "      <td>62</td>\n",
       "      <td>-1.386294</td>\n",
       "      <td>0</td>\n",
       "      <td>-1.386294</td>\n",
       "      <td>6</td>\n",
       "      <td>0</td>\n",
       "    </tr>\n",
       "    <tr>\n",
       "      <th>5</th>\n",
       "      <td>-1.049822</td>\n",
       "      <td>3.228826</td>\n",
       "      <td>50</td>\n",
       "      <td>-1.386294</td>\n",
       "      <td>0</td>\n",
       "      <td>-1.386294</td>\n",
       "      <td>6</td>\n",
       "      <td>0</td>\n",
       "    </tr>\n",
       "    <tr>\n",
       "      <th>7</th>\n",
       "      <td>0.693147</td>\n",
       "      <td>3.539509</td>\n",
       "      <td>58</td>\n",
       "      <td>1.536867</td>\n",
       "      <td>0</td>\n",
       "      <td>-1.386294</td>\n",
       "      <td>6</td>\n",
       "      <td>0</td>\n",
       "    </tr>\n",
       "    <tr>\n",
       "      <th>10</th>\n",
       "      <td>0.254642</td>\n",
       "      <td>3.604138</td>\n",
       "      <td>65</td>\n",
       "      <td>-1.386294</td>\n",
       "      <td>0</td>\n",
       "      <td>-1.386294</td>\n",
       "      <td>6</td>\n",
       "      <td>0</td>\n",
       "    </tr>\n",
       "  </tbody>\n",
       "</table>\n",
       "</div>"
      ],
      "text/plain": [
       "      lcavol   lweight  age      lbph  svi       lcp  gleason  pgg45\n",
       "0  -0.579818  2.769459   50 -1.386294    0 -1.386294        6      0\n",
       "1  -0.994252  3.319626   58 -1.386294    0 -1.386294        6      0\n",
       "2  -0.510826  2.691243   74 -1.386294    0 -1.386294        7     20\n",
       "3  -1.203973  3.282789   58 -1.386294    0 -1.386294        6      0\n",
       "4   0.751416  3.432373   62 -1.386294    0 -1.386294        6      0\n",
       "5  -1.049822  3.228826   50 -1.386294    0 -1.386294        6      0\n",
       "7   0.693147  3.539509   58  1.536867    0 -1.386294        6      0\n",
       "10  0.254642  3.604138   65 -1.386294    0 -1.386294        6      0"
      ]
     },
     "execution_count": 5,
     "metadata": {},
     "output_type": "execute_result"
    }
   ],
   "source": [
    "# There's a training sub-dataset that we will focus on. Later, we will try to predict\n",
    "# the values of the remaining observations.\n",
    "col_num = 8\n",
    "Xtrain = pcancer.loc[pcancer['train'] == True,pcancer.columns[0:col_num]]\n",
    "ytrain = pcancer.loc[pcancer['train'] == True,pcancer.columns[col_num]]\n",
    "Xtrain.head(8)"
   ]
  },
  {
   "cell_type": "code",
   "execution_count": 6,
   "metadata": {
    "colab": {
     "base_uri": "https://localhost:8080/",
     "height": 288
    },
    "colab_type": "code",
    "executionInfo": {
     "elapsed": 841,
     "status": "ok",
     "timestamp": 1589981496205,
     "user": {
      "displayName": "彭廷莹",
      "photoUrl": "https://lh3.googleusercontent.com/a-/AOh14Gg-TVZvcFXv_ddQnFSonh6P-VF0zYaqOPEA1p_l=s64",
      "userId": "00488430844757231586"
     },
     "user_tz": -120
    },
    "id": "zaWfKRcdQEHo",
    "outputId": "9d18ba6c-df0a-4829-ab6f-169ab6e66a57"
   },
   "outputs": [
    {
     "data": {
      "text/html": [
       "<div>\n",
       "<style scoped>\n",
       "    .dataframe tbody tr th:only-of-type {\n",
       "        vertical-align: middle;\n",
       "    }\n",
       "\n",
       "    .dataframe tbody tr th {\n",
       "        vertical-align: top;\n",
       "    }\n",
       "\n",
       "    .dataframe thead th {\n",
       "        text-align: right;\n",
       "    }\n",
       "</style>\n",
       "<table border=\"1\" class=\"dataframe\">\n",
       "  <thead>\n",
       "    <tr style=\"text-align: right;\">\n",
       "      <th></th>\n",
       "      <th>lcavol</th>\n",
       "      <th>lweight</th>\n",
       "      <th>age</th>\n",
       "      <th>lbph</th>\n",
       "      <th>svi</th>\n",
       "      <th>lcp</th>\n",
       "      <th>gleason</th>\n",
       "      <th>pgg45</th>\n",
       "    </tr>\n",
       "  </thead>\n",
       "  <tbody>\n",
       "    <tr>\n",
       "      <th>6</th>\n",
       "      <td>0.737164</td>\n",
       "      <td>3.473518</td>\n",
       "      <td>64</td>\n",
       "      <td>0.615186</td>\n",
       "      <td>0</td>\n",
       "      <td>-1.386294</td>\n",
       "      <td>6</td>\n",
       "      <td>0</td>\n",
       "    </tr>\n",
       "    <tr>\n",
       "      <th>8</th>\n",
       "      <td>-0.776529</td>\n",
       "      <td>3.539509</td>\n",
       "      <td>47</td>\n",
       "      <td>-1.386294</td>\n",
       "      <td>0</td>\n",
       "      <td>-1.386294</td>\n",
       "      <td>6</td>\n",
       "      <td>0</td>\n",
       "    </tr>\n",
       "    <tr>\n",
       "      <th>9</th>\n",
       "      <td>0.223144</td>\n",
       "      <td>3.244544</td>\n",
       "      <td>63</td>\n",
       "      <td>-1.386294</td>\n",
       "      <td>0</td>\n",
       "      <td>-1.386294</td>\n",
       "      <td>6</td>\n",
       "      <td>0</td>\n",
       "    </tr>\n",
       "    <tr>\n",
       "      <th>14</th>\n",
       "      <td>1.205971</td>\n",
       "      <td>3.442019</td>\n",
       "      <td>57</td>\n",
       "      <td>-1.386294</td>\n",
       "      <td>0</td>\n",
       "      <td>-0.430783</td>\n",
       "      <td>7</td>\n",
       "      <td>5</td>\n",
       "    </tr>\n",
       "    <tr>\n",
       "      <th>21</th>\n",
       "      <td>2.059239</td>\n",
       "      <td>3.501043</td>\n",
       "      <td>60</td>\n",
       "      <td>1.474763</td>\n",
       "      <td>0</td>\n",
       "      <td>1.348073</td>\n",
       "      <td>7</td>\n",
       "      <td>20</td>\n",
       "    </tr>\n",
       "    <tr>\n",
       "      <th>24</th>\n",
       "      <td>0.385262</td>\n",
       "      <td>3.667400</td>\n",
       "      <td>69</td>\n",
       "      <td>1.599388</td>\n",
       "      <td>0</td>\n",
       "      <td>-1.386294</td>\n",
       "      <td>6</td>\n",
       "      <td>0</td>\n",
       "    </tr>\n",
       "    <tr>\n",
       "      <th>25</th>\n",
       "      <td>1.446919</td>\n",
       "      <td>3.124565</td>\n",
       "      <td>68</td>\n",
       "      <td>0.300105</td>\n",
       "      <td>0</td>\n",
       "      <td>-1.386294</td>\n",
       "      <td>6</td>\n",
       "      <td>0</td>\n",
       "    </tr>\n",
       "    <tr>\n",
       "      <th>27</th>\n",
       "      <td>-0.400478</td>\n",
       "      <td>3.865979</td>\n",
       "      <td>67</td>\n",
       "      <td>1.816452</td>\n",
       "      <td>0</td>\n",
       "      <td>-1.386294</td>\n",
       "      <td>7</td>\n",
       "      <td>20</td>\n",
       "    </tr>\n",
       "  </tbody>\n",
       "</table>\n",
       "</div>"
      ],
      "text/plain": [
       "      lcavol   lweight  age      lbph  svi       lcp  gleason  pgg45\n",
       "6   0.737164  3.473518   64  0.615186    0 -1.386294        6      0\n",
       "8  -0.776529  3.539509   47 -1.386294    0 -1.386294        6      0\n",
       "9   0.223144  3.244544   63 -1.386294    0 -1.386294        6      0\n",
       "14  1.205971  3.442019   57 -1.386294    0 -0.430783        7      5\n",
       "21  2.059239  3.501043   60  1.474763    0  1.348073        7     20\n",
       "24  0.385262  3.667400   69  1.599388    0 -1.386294        6      0\n",
       "25  1.446919  3.124565   68  0.300105    0 -1.386294        6      0\n",
       "27 -0.400478  3.865979   67  1.816452    0 -1.386294        7     20"
      ]
     },
     "execution_count": 6,
     "metadata": {},
     "output_type": "execute_result"
    }
   ],
   "source": [
    "names = list(Xtrain)\n",
    "Xtest = pcancer.loc[pcancer['train'] == False,pcancer.columns[0:col_num]]\n",
    "ytest = pcancer.loc[pcancer['train'] == False,pcancer.columns[col_num]]\n",
    "Xtest.head(8)"
   ]
  },
  {
   "cell_type": "code",
   "execution_count": 7,
   "metadata": {
    "colab": {
     "base_uri": "https://localhost:8080/",
     "height": 328
    },
    "colab_type": "code",
    "executionInfo": {
     "elapsed": 672,
     "status": "ok",
     "timestamp": 1589981500532,
     "user": {
      "displayName": "彭廷莹",
      "photoUrl": "https://lh3.googleusercontent.com/a-/AOh14Gg-TVZvcFXv_ddQnFSonh6P-VF0zYaqOPEA1p_l=s64",
      "userId": "00488430844757231586"
     },
     "user_tz": -120
    },
    "id": "dDOUeTndK-a6",
    "outputId": "398c41e6-4fba-4770-fa32-d3aa84b2e263"
   },
   "outputs": [
    {
     "name": "stdout",
     "output_type": "stream",
     "text": [
      "lcavol      1.313492\n",
      "lweight     3.626108\n",
      "age        64.746269\n",
      "lbph        0.071440\n",
      "svi         0.223881\n",
      "lcp        -0.214203\n",
      "gleason     6.731343\n",
      "pgg45      26.268657\n",
      "dtype: float64\n",
      "lcavol      1.233282\n",
      "lweight     0.473031\n",
      "age         7.446011\n",
      "lbph        1.452691\n",
      "svi         0.416843\n",
      "lcp         1.390243\n",
      "gleason     0.703554\n",
      "pgg45      29.082272\n",
      "dtype: float64\n"
     ]
    }
   ],
   "source": [
    "# scale data sets to have zero mean and unit variance, but do not adjust lpsa\n",
    "from sklearn import linear_model,preprocessing\n",
    "Xtrain_mean = np.mean(Xtrain)\n",
    "Xtrain_std = np.std(Xtrain)\n",
    "print(Xtrain_mean)\n",
    "print(Xtrain_std)\n",
    "# Scale training data to have zero mean and unit variance (standard derivation)\n",
    "Xtrain = (Xtrain-Xtrain_mean)/Xtrain_std\n",
    "\n",
    "Xtest.head(8)\n",
    "# Scale testing data using training mean and trainig standard derivation\n",
    "Xtest = (Xtest-Xtrain_mean)/Xtrain_std"
   ]
  },
  {
   "cell_type": "code",
   "execution_count": 8,
   "metadata": {
    "colab": {},
    "colab_type": "code",
    "id": "WataJ9PcK-bA"
   },
   "outputs": [],
   "source": [
    "from sklearn.linear_model import LinearRegression\n",
    "import numpy as np\n",
    "linear_reg = LinearRegression(fit_intercept=True).fit(Xtrain, ytrain)"
   ]
  },
  {
   "cell_type": "markdown",
   "metadata": {
    "colab_type": "text",
    "id": "Mb6nHoEuK-bG"
   },
   "source": [
    "Fit lasso "
   ]
  },
  {
   "cell_type": "code",
   "execution_count": 9,
   "metadata": {
    "colab": {
     "base_uri": "https://localhost:8080/",
     "height": 286
    },
    "colab_type": "code",
    "executionInfo": {
     "elapsed": 1894,
     "status": "ok",
     "timestamp": 1589981511572,
     "user": {
      "displayName": "彭廷莹",
      "photoUrl": "https://lh3.googleusercontent.com/a-/AOh14Gg-TVZvcFXv_ddQnFSonh6P-VF0zYaqOPEA1p_l=s64",
      "userId": "00488430844757231586"
     },
     "user_tz": -120
    },
    "id": "Uyxc4Ie5K-bI",
    "outputId": "3c860d9c-080e-4325-c723-4d83cc51b836"
   },
   "outputs": [
    {
     "data": {
      "text/plain": [
       "<matplotlib.legend.Legend at 0x7fc5659fc4d0>"
      ]
     },
     "execution_count": 9,
     "metadata": {},
     "output_type": "execute_result"
    },
    {
     "data": {
      "image/png": "[encoded data removed]",
      "text/plain": [
       "<Figure size 432x288 with 1 Axes>"
      ]
     },
     "metadata": {
      "needs_background": "light"
     },
     "output_type": "display_data"
    }
   ],
   "source": [
    "from sklearn.linear_model import Lasso\n",
    "n_alphas = 1000\n",
    "lam= np.linspace(0.0001, 150, n_alphas)\n",
    "model_lasso_coef = np.zeros((lam.shape[0],9))\n",
    "sample_num = Xtrain.shape[0]\n",
    "for i in range(lam.shape[0]):\n",
    "    model_lasso = Lasso(alpha=lam[i]/(2*np.shape(Xtrain)[0]), fit_intercept=True)\n",
    "    model_lasso.fit(Xtrain, ytrain)\n",
    "    #print(model_lasso.coef_)\n",
    "    model_lasso_coef[i,:]=np.concatenate((model_lasso.intercept_.reshape(-1),model_lasso.coef_),axis=0)\n",
    "    \n",
    "    \n",
    "plt.figure()\n",
    "plt.plot(lam,model_lasso_coef[:,1:-1])\n",
    "# plt.xscale('log')\n",
    "plt.ylim(-0.4,0.8)\n",
    "# plt.xlim(min(lam),2)\n",
    "plt.legend(names[0:8])    "
   ]
  },
  {
   "cell_type": "markdown",
   "metadata": {
    "colab_type": "text",
    "id": "77ngoRY8K-bQ"
   },
   "source": [
    "Match the solution with coordinate descent (coordinate descent will be addressed in the next lecture)\n",
    "\n"
   ]
  },
  {
   "cell_type": "code",
   "execution_count": 10,
   "metadata": {
    "colab": {
     "base_uri": "https://localhost:8080/",
     "height": 286
    },
    "colab_type": "code",
    "executionInfo": {
     "elapsed": 2027,
     "status": "ok",
     "timestamp": 1589981790873,
     "user": {
      "displayName": "彭廷莹",
      "photoUrl": "https://lh3.googleusercontent.com/a-/AOh14Gg-TVZvcFXv_ddQnFSonh6P-VF0zYaqOPEA1p_l=s64",
      "userId": "00488430844757231586"
     },
     "user_tz": -120
    },
    "id": "jgv5V8lSK-bR",
    "outputId": "e09156ca-82ba-49eb-964b-e12d0d5fa3b5"
   },
   "outputs": [
    {
     "data": {
      "text/plain": [
       "<matplotlib.legend.Legend at 0x7fc565fa2f90>"
      ]
     },
     "execution_count": 10,
     "metadata": {},
     "output_type": "execute_result"
    },
    {
     "data": {
      "image/png": "[encoded data removed]",
      "text/plain": [
       "<Figure size 432x288 with 1 Axes>"
      ]
     },
     "metadata": {
      "needs_background": "light"
     },
     "output_type": "display_data"
    }
   ],
   "source": [
    "n_alphas = 100\n",
    "lam= np.linspace(0.0001, 150, n_alphas)\n",
    "X = np.concatenate((np.ones(Xtrain.shape[0]).reshape(-1,1),Xtrain),axis=1)\n",
    "model_lasso_coef2 = np.zeros((lam.shape[0],9))\n",
    "\n",
    "for i in range(lam.shape[0]):\n",
    "    lam_i = lam[i]\n",
    "    # compute the ridge-regression beta hat estimates:\n",
    "    iden_mat = np.zeros((col_num+1,col_num+1))\n",
    "    np.fill_diagonal(iden_mat,1)\n",
    "    M = np.linalg.pinv(np.transpose(X).dot(X)+lam[i]*iden_mat).dot(np.transpose(X))\n",
    "    # this is just an alternative way of estimating the coefficients of the Ridge regression  \n",
    "    betaHat = M.dot(ytrain.values)\n",
    "    residual = ytrain.values-X.dot(betaHat)\n",
    "    for step in range(50):\n",
    "        for j in range(Xtrain.shape[1]):\n",
    "            # partial residuals\n",
    "            residual = residual+X[:,j]*betaHat[j]\n",
    "            a = 2*np.sum(X[:,j]**2)\n",
    "            # soft-threshold solution\n",
    "            c = 2*np.sum(X[:,j]*residual)\n",
    "            betaHat[j]=(np.abs(c)-lam[i])/a\n",
    "            betaHat[j]=np.sign(c)*np.maximum(betaHat[j],0)\n",
    "            # residuals\n",
    "            residual = residual-X[:,j]*betaHat[j]\n",
    "            \n",
    "    model_lasso_coef2[i,:]=betaHat    \n",
    "            \n",
    "plt.figure()\n",
    "plt.plot(lam,model_lasso_coef2[:,1:-1])\n",
    "# plt.xscale('log')\n",
    "plt.ylim(-0.4,0.8)\n",
    "# plt.xlim(min(lam),2)\n",
    "plt.legend(names[0:8])\n"
   ]
  },
  {
   "cell_type": "code",
   "execution_count": 16,
   "metadata": {
    "colab": {
     "base_uri": "https://localhost:8080/",
     "height": 286
    },
    "colab_type": "code",
    "executionInfo": {
     "elapsed": 696,
     "status": "ok",
     "timestamp": 1589981841434,
     "user": {
      "displayName": "彭廷莹",
      "photoUrl": "https://lh3.googleusercontent.com/a-/AOh14Gg-TVZvcFXv_ddQnFSonh6P-VF0zYaqOPEA1p_l=s64",
      "userId": "00488430844757231586"
     },
     "user_tz": -120
    },
    "id": "dgo_db6gK-bY",
    "outputId": "77751252-3280-402f-c3c6-c166b6db65b4"
   },
   "outputs": [
    {
     "data": {
      "text/plain": [
       "<matplotlib.legend.Legend at 0x7fd14a89b5f8>"
      ]
     },
     "execution_count": 16,
     "metadata": {
      "tags": []
     },
     "output_type": "execute_result"
    },
    {
     "data": {
      "image/png": "[encoded data removed]",
      "text/plain": [
       "<Figure size 432x288 with 1 Axes>"
      ]
     },
     "metadata": {
      "needs_background": "light",
      "tags": []
     },
     "output_type": "display_data"
    }
   ],
   "source": [
    "from sklearn.linear_model import ElasticNet\n",
    "n_alphas = 100\n",
    "lam= np.linspace(0.0001, 250, n_alphas)\n",
    "model_elastic_coef = np.zeros((lam.shape[0],9))\n",
    "sample_num = Xtrain.shape[0]\n",
    "for i in range(lam.shape[0]):\n",
    "    model_elastic = ElasticNet(alpha=lam[i]/(2*np.shape(Xtrain)[0]),l1_ratio=0.5, fit_intercept=True)\n",
    "    model_elastic.fit(Xtrain, ytrain)\n",
    "    #print(model_lasso.coef_)\n",
    "    model_elastic_coef[i,:]=np.concatenate((model_elastic.intercept_.reshape(-1),model_elastic.coef_),axis=0)\n",
    "    \n",
    "    \n",
    "plt.figure()\n",
    "plt.plot(lam,model_elastic_coef[:,1:-1])\n",
    "# plt.xscale('log')\n",
    "plt.ylim(-0.4,0.8)\n",
    "# plt.xlim(min(lam),2)\n",
    "plt.legend(names[0:8])   "
   ]
  },
  {
   "cell_type": "code",
   "execution_count": 11,
   "metadata": {
    "colab": {
     "base_uri": "https://localhost:8080/",
     "height": 68
    },
    "colab_type": "code",
    "executionInfo": {
     "elapsed": 480,
     "status": "ok",
     "timestamp": 1589208321589,
     "user": {
      "displayName": "彭廷莹",
      "photoUrl": "https://lh3.googleusercontent.com/a-/AOh14Gg-TVZvcFXv_ddQnFSonh6P-VF0zYaqOPEA1p_l=s64",
      "userId": "00488430844757231586"
     },
     "user_tz": -120
    },
    "id": "wLUGANeJK-bc",
    "outputId": "451d2529-8021-43dc-b8d8-4364b6ee7d0e"
   },
   "outputs": [
    {
     "name": "stdout",
     "output_type": "stream",
     "text": [
      "optimal ridge regression strength lambda is: 3.03040101010101\n",
      "optimal lasso regression strength lambda is: 0.00010000000000000002\n",
      "optimal elastic regression strength lambda is: 0.00010000000000000002\n"
     ]
    }
   ],
   "source": [
    "from sklearn.linear_model import RidgeCV,LassoCV,ElasticNetCV\n",
    "optim_ridge = RidgeCV(alphas=lam,fit_intercept=True).fit(Xtrain, ytrain)\n",
    "print('optimal ridge regression strength lambda is:', optim_ridge.alpha_)\n",
    "optim_lasso = LassoCV(alphas=lam/(2*np.shape(Xtrain)[0]),fit_intercept=True).fit(Xtrain, ytrain)\n",
    "print('optimal lasso regression strength lambda is:', optim_lasso.alpha_*(2*np.shape(Xtrain)[0]))\n",
    "optim_elastic = ElasticNetCV(alphas=lam/(2*np.shape(Xtrain)[0]),l1_ratio=0.5,fit_intercept=True).fit(Xtrain, ytrain)\n",
    "print('optimal elastic regression strength lambda is:', optim_elastic.alpha_*(2*np.shape(Xtrain)[0]))"
   ]
  },
  {
   "cell_type": "code",
   "execution_count": 0,
   "metadata": {
    "colab": {},
    "colab_type": "code",
    "id": "TmqPYeDuK-bh",
    "outputId": "fc6b9c6b-425e-4d1b-d9a8-bb4c30f4721f"
   },
   "outputs": [
    {
     "name": "stdout",
     "output_type": "stream",
     "text": [
      "$\beta$ coefficients of ridge regression [ 6.51432228e-01  2.87821525e-01 -1.24234687e-01  2.05312946e-01\n",
      "  2.93818300e-01 -2.13083523e-01 -8.83566428e-05  2.32561848e-01]\n",
      "$\beta$ coefficients of lasso regression [ 0.57355878  0.23801083 -0.          0.12819913  0.18821539 -0.\n",
      "  0.          0.08024761]\n",
      "$\beta$ coefficients of elastic regression [ 0.53111185  0.23824439 -0.          0.1338145   0.20202597 -0.\n",
      "  0.          0.09726913]\n"
     ]
    }
   ],
   "source": [
    "print('$\\beta$ coefficients of ridge regression',optim_ridge.coef_)\n",
    "print('$\\beta$ coefficients of lasso regression',optim_lasso.coef_)\n",
    "print('$\\beta$ coefficients of elastic regression',optim_elastic.coef_)"
   ]
  },
  {
   "cell_type": "code",
   "execution_count": 0,
   "metadata": {
    "colab": {
     "base_uri": "https://localhost:8080/",
     "height": 119
    },
    "colab_type": "code",
    "executionInfo": {
     "elapsed": 458,
     "status": "ok",
     "timestamp": 1589208326685,
     "user": {
      "displayName": "彭廷莹",
      "photoUrl": "https://lh3.googleusercontent.com/a-/AOh14Gg-TVZvcFXv_ddQnFSonh6P-VF0zYaqOPEA1p_l=s64",
      "userId": "00488430844757231586"
     },
     "user_tz": -120
    },
    "id": "dXC6vd3bK-bl",
    "outputId": "f28c9d64-1cd2-4aa2-92ee-1b17979c5f87"
   },
   "outputs": [
    {
     "name": "stdout",
     "output_type": "stream",
     "text": [
      "training error of ridge regression: 5.441433144239014\n",
      "training error of lasso regression: 5.4246091528219464\n",
      "training error of elastic regression: 5.424609152769785\n",
      "testing error of ridge regression: 3.884987319854745\n",
      "testing error of lasso regression: 3.9545106324312735\n",
      "testing error of elastic regression: 3.9545138351198137\n"
     ]
    }
   ],
   "source": [
    "print('training error of ridge regression:',np.linalg.norm(np.array(ytrain) - optim_ridge.predict(Xtrain)))\n",
    "print('training error of lasso regression:',np.linalg.norm(np.array(ytrain) - optim_lasso.predict(Xtrain)))\n",
    "print('training error of elastic regression:',np.linalg.norm(np.array(ytrain)-optim_elastic.predict(Xtrain)))\n",
    "print('testing error of ridge regression:',np.linalg.norm(np.array(ytest)-optim_ridge.predict(Xtest)))\n",
    "print('testing error of lasso regression:',np.linalg.norm(np.array(ytest) - optim_lasso.predict(Xtest)))\n",
    "print('testing error of elastic regression:',np.linalg.norm(np.array(ytest)-optim_elastic.predict(Xtest)))"
   ]
  },
  {
   "cell_type": "markdown",
   "metadata": {
    "colab_type": "text",
    "id": "Ild63CwfK-bs"
   },
   "source": [
    "## Exercise 3 (optional): Variance of beta"
   ]
  },
  {
   "cell_type": "markdown",
   "metadata": {
    "colab_type": "text",
    "id": "7X9xm14vK-bt"
   },
   "source": [
    "1. The criterion to minimize in ridge regression is given by\n",
    "$$RSS(\\beta, \\lambda) := (\\mathbf y - \\mathbf X \\beta)^T(\\mathbf y - \\mathbf X \\beta) + \\lambda \\beta^T \\mathbf I \\beta.$$\n",
    "\n",
    "Thus, we obtain the ridge expression as a special case of the generalized Tikhonov, by setting $\\mathbf Q : = \\mathbf I.$\n",
    "\n",
    "2. Taking the derivative and setting it to zero, we have\n",
    "$$ \\frac{\\partial}{\\partial \\beta} ((\\mathbf y - \\mathbf X \\beta)^T(\\mathbf y - \\mathbf X \\beta) + \\lambda \\beta^T \\mathbf Q \\beta) = 0,$$\n",
    "which simplifies to \n",
    "$$ -2 \\mathbf X^T \\mathbf y + 2 \\mathbf X^T \\mathbf X \\beta + 2 \\lambda \\mathbf Q \\beta = 0.$$\n",
    "\n",
    "Factoring $\\beta$, we then obtain,\n",
    "\n",
    "$$(\\mathbf X^T \\mathbf X + \\lambda \\mathbf Q) \\beta = \\mathbf X^T \\mathbf y.$$\n",
    "\n",
    "By assumption, we know that $(\\mathbf X^T \\mathbf X + \\lambda \\mathbf Q)$ is invertible, and thus,\n",
    "$$ \\hat \\beta := (\\mathbf X^T \\mathbf X + \\lambda \\mathbf Q)^{-1} \\mathbf X^T \\mathbf y.$$\n",
    "\n",
    "3. We have $$\\hat {\\mathbf y} = \\mathbf X \\hat \\beta = \\mathbf X (\\mathbf X^T \\mathbf X + \\lambda \\mathbf Q)^{-1} \\mathbf X^T \\mathbf y$$ and thus\n",
    "$$ \\mathbf H_\\lambda = \\mathbf X (\\mathbf X^T \\mathbf X + \\lambda \\mathbf Q)^{-1} \\mathbf X^T.$$\n",
    "\n",
    "4. Here, we need to use the SVD of $\\mathbf X$ given by $\\mathbf U \\mathbf D \\mathbf V^T$ and the eigendecomposition of $\\mathbf X^T \\mathbf X$ given by $\\mathbf V \\mathbf D^2 \\mathbf V^T.$ Note that\n",
    "$$ \\mathbf X^T \\mathbf X = \\mathbf V \\mathbf D \\mathbf U^T \\mathbf U \\mathbf D \\mathbf V^T = \\mathbf V \\mathbf D^2 \\mathbf V^T,$$\n",
    "and\n",
    "$$ (\\mathbf X^T \\mathbf X)^{-1} = \\mathbf V \\mathbf D^{-2} \\mathbf V^T.$$\n",
    "\n",
    "Then the hat matrix can be expressed as follows,\n",
    "\n",
    "$$\\mathbf H_\\lambda = \\mathbf U \\mathbf D \\mathbf V^T (\\mathbf V \\mathbf D^2 \\mathbf V^T + \\lambda \\mathbf I)^{-1} \\mathbf V \\mathbf D \\mathbf U^T = \\mathbf U \\mathbf D \\mathbf V^T \\mathbf V (\\mathbf D^2 + \\lambda \\mathbf I)^{-1} \\mathbf V^T \\mathbf V \\mathbf D \\mathbf U^T = \\mathbf U \\mathbf D (\\mathbf D^2 + \\lambda \\mathbf I)^{-1} \\mathbf D \\mathbf U^T,$$\n",
    "\n",
    "since $\\mathbf V \\mathbf D^2 \\mathbf V^T$ and $\\lambda \\mathbf I$ commute and are therefore simultaneously diagonalizable. Finally, since the trace of a matrix is equal to the sum of its eigenvalues, it readily follows that \n",
    "\n",
    "$$trace(\\mathbf H_\\lambda) = \\sum_{j=1}^p \\frac{d_j^2}{d_j^2 +\\lambda},$$\n",
    "\n",
    "where $d_j$ is the $j$th diagonal entry of $\\mathbf D.$"
   ]
  },
  {
   "cell_type": "code",
   "execution_count": 0,
   "metadata": {
    "colab": {},
    "colab_type": "code",
    "id": "1INIHH0dK-bu"
   },
   "outputs": [],
   "source": []
  }
 ],
 "metadata": {
  "colab": {
   "name": "Sheet04_Pysol.ipynb",
   "provenance": []
  },
  "kernelspec": {
   "display_name": "Python 3",
   "language": "python",
   "name": "python3"
  },
  "language_info": {
   "codemirror_mode": {
    "name": "ipython",
    "version": 3
   },
   "file_extension": ".py",
   "mimetype": "text/x-python",
   "name": "python",
   "nbconvert_exporter": "python",
   "pygments_lexer": "ipython3",
   "version": "3.7.7"
  }
 },
 "nbformat": 4,
 "nbformat_minor": 1
}
