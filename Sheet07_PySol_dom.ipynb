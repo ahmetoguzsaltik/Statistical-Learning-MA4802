{
 "cells": [
  {
   "cell_type": "code",
   "execution_count": 28,
   "metadata": {
    "colab": {
     "base_uri": "https://localhost:8080/",
     "height": 71
    },
    "colab_type": "code",
    "executionInfo": {
     "elapsed": 1805,
     "status": "ok",
     "timestamp": 1592399429741,
     "user": {
      "displayName": "彭廷莹",
      "photoUrl": "https://lh3.googleusercontent.com/a-/AOh14Gg-TVZvcFXv_ddQnFSonh6P-VF0zYaqOPEA1p_l=s64",
      "userId": "00488430844757231586"
     },
     "user_tz": -120
    },
    "id": "nsP20X1tUbNS",
    "outputId": "cb264529-4bbc-4002-b3b3-2f2ed072ff63"
   },
   "outputs": [],
   "source": [
    "import numpy as np\n",
    "import pandas as pd\n",
    "import scipy.io as sio\n",
    "import scipy.special as sspecial\n",
    "import matplotlib.pyplot as plt\n",
    "import seaborn as sns\n",
    "from sklearn import preprocessing"
   ]
  },
  {
   "cell_type": "markdown",
   "metadata": {
    "colab_type": "text",
    "id": "j3UAeOeKUbNm"
   },
   "source": [
    "## Exercise 1"
   ]
  },
  {
   "cell_type": "markdown",
   "metadata": {
    "colab_type": "text",
    "id": "TuBWYu2CUbNs"
   },
   "source": [
    "Read in the data"
   ]
  },
  {
   "cell_type": "code",
   "execution_count": 29,
   "metadata": {
    "colab": {
     "base_uri": "https://localhost:8080/",
     "height": 139
    },
    "colab_type": "code",
    "executionInfo": {
     "elapsed": 42415,
     "status": "ok",
     "timestamp": 1592399474424,
     "user": {
      "displayName": "彭廷莹",
      "photoUrl": "https://lh3.googleusercontent.com/a-/AOh14Gg-TVZvcFXv_ddQnFSonh6P-VF0zYaqOPEA1p_l=s64",
      "userId": "00488430844757231586"
     },
     "user_tz": -120
    },
    "id": "WjwuaDnOXYRd",
    "outputId": "f41825f5-f843-43cc-fd43-83defb56e633"
   },
   "outputs": [
    {
     "ename": "ModuleNotFoundError",
     "evalue": "No module named 'google'",
     "output_type": "error",
     "traceback": [
      "\u001b[0;31m---------------------------------------------------------------------------\u001b[0m",
      "\u001b[0;31mModuleNotFoundError\u001b[0m                       Traceback (most recent call last)",
      "\u001b[0;32m<ipython-input-29-8aa7c49a0a65>\u001b[0m in \u001b[0;36m<module>\u001b[0;34m\u001b[0m\n\u001b[0;32m----> 1\u001b[0;31m \u001b[0;32mfrom\u001b[0m \u001b[0mgoogle\u001b[0m\u001b[0;34m.\u001b[0m\u001b[0mcolab\u001b[0m \u001b[0;32mimport\u001b[0m \u001b[0mdrive\u001b[0m\u001b[0;34m\u001b[0m\u001b[0;34m\u001b[0m\u001b[0m\n\u001b[0m\u001b[1;32m      2\u001b[0m \u001b[0mdrive\u001b[0m\u001b[0;34m.\u001b[0m\u001b[0mmount\u001b[0m\u001b[0;34m(\u001b[0m\u001b[0;34m'/content/drive'\u001b[0m\u001b[0;34m)\u001b[0m\u001b[0;34m\u001b[0m\u001b[0;34m\u001b[0m\u001b[0m\n\u001b[1;32m      3\u001b[0m \u001b[0mget_ipython\u001b[0m\u001b[0;34m(\u001b[0m\u001b[0;34m)\u001b[0m\u001b[0;34m.\u001b[0m\u001b[0mrun_line_magic\u001b[0m\u001b[0;34m(\u001b[0m\u001b[0;34m'cd'\u001b[0m\u001b[0;34m,\u001b[0m \u001b[0;34m\"'/content/drive/My Drive/Colab Notebooks/statisticallearning-2020/Sheet07/Solution'\"\u001b[0m\u001b[0;34m)\u001b[0m\u001b[0;34m\u001b[0m\u001b[0;34m\u001b[0m\u001b[0m\n",
      "\u001b[0;31mModuleNotFoundError\u001b[0m: No module named 'google'"
     ]
    }
   ],
   "source": [
    "from google.colab import drive\n",
    "drive.mount('/content/drive')\n",
    "%cd '/content/drive/My Drive/Colab Notebooks/statisticallearning-2020/Sheet07/Solution'"
   ]
  },
  {
   "cell_type": "code",
   "execution_count": 30,
   "metadata": {
    "colab": {
     "base_uri": "https://localhost:8080/",
     "height": 297
    },
    "colab_type": "code",
    "executionInfo": {
     "elapsed": 3175,
     "status": "ok",
     "timestamp": 1592399480029,
     "user": {
      "displayName": "彭廷莹",
      "photoUrl": "https://lh3.googleusercontent.com/a-/AOh14Gg-TVZvcFXv_ddQnFSonh6P-VF0zYaqOPEA1p_l=s64",
      "userId": "00488430844757231586"
     },
     "user_tz": -120
    },
    "id": "ZR1OZSOAUbNx",
    "outputId": "4e5d0a1a-842f-4c49-a215-cb7cc2884a9d"
   },
   "outputs": [
    {
     "data": {
      "text/html": [
       "<div>\n",
       "<style scoped>\n",
       "    .dataframe tbody tr th:only-of-type {\n",
       "        vertical-align: middle;\n",
       "    }\n",
       "\n",
       "    .dataframe tbody tr th {\n",
       "        vertical-align: top;\n",
       "    }\n",
       "\n",
       "    .dataframe thead th {\n",
       "        text-align: right;\n",
       "    }\n",
       "</style>\n",
       "<table border=\"1\" class=\"dataframe\">\n",
       "  <thead>\n",
       "    <tr style=\"text-align: right;\">\n",
       "      <th></th>\n",
       "      <th>Unnamed: 0</th>\n",
       "      <th>D8S1179</th>\n",
       "      <th>D21S11</th>\n",
       "      <th>D7S820</th>\n",
       "      <th>CSF1PO</th>\n",
       "      <th>D3S1358</th>\n",
       "      <th>TH01</th>\n",
       "      <th>D13S317</th>\n",
       "      <th>D16S539</th>\n",
       "      <th>D2S1338</th>\n",
       "      <th>D19S433</th>\n",
       "      <th>vWA</th>\n",
       "      <th>TPOX</th>\n",
       "      <th>D18S51</th>\n",
       "      <th>D5S818</th>\n",
       "      <th>FGA</th>\n",
       "      <th>population</th>\n",
       "    </tr>\n",
       "  </thead>\n",
       "  <tbody>\n",
       "    <tr>\n",
       "      <th>0</th>\n",
       "      <td>OT07760</td>\n",
       "      <td>21</td>\n",
       "      <td>59.0</td>\n",
       "      <td>17.0</td>\n",
       "      <td>21</td>\n",
       "      <td>34.0</td>\n",
       "      <td>13.0</td>\n",
       "      <td>22</td>\n",
       "      <td>23</td>\n",
       "      <td>41</td>\n",
       "      <td>30.2</td>\n",
       "      <td>33</td>\n",
       "      <td>19</td>\n",
       "      <td>35.0</td>\n",
       "      <td>24</td>\n",
       "      <td>47.0</td>\n",
       "      <td>1</td>\n",
       "    </tr>\n",
       "    <tr>\n",
       "      <th>1</th>\n",
       "      <td>PT84187</td>\n",
       "      <td>29</td>\n",
       "      <td>55.0</td>\n",
       "      <td>20.0</td>\n",
       "      <td>18</td>\n",
       "      <td>33.0</td>\n",
       "      <td>15.3</td>\n",
       "      <td>23</td>\n",
       "      <td>26</td>\n",
       "      <td>38</td>\n",
       "      <td>27.0</td>\n",
       "      <td>36</td>\n",
       "      <td>21</td>\n",
       "      <td>35.0</td>\n",
       "      <td>26</td>\n",
       "      <td>47.0</td>\n",
       "      <td>0</td>\n",
       "    </tr>\n",
       "    <tr>\n",
       "      <th>2</th>\n",
       "      <td>UA16921</td>\n",
       "      <td>22</td>\n",
       "      <td>60.0</td>\n",
       "      <td>19.0</td>\n",
       "      <td>21</td>\n",
       "      <td>32.0</td>\n",
       "      <td>16.0</td>\n",
       "      <td>22</td>\n",
       "      <td>22</td>\n",
       "      <td>46</td>\n",
       "      <td>25.0</td>\n",
       "      <td>33</td>\n",
       "      <td>21</td>\n",
       "      <td>25.0</td>\n",
       "      <td>22</td>\n",
       "      <td>40.0</td>\n",
       "      <td>1</td>\n",
       "    </tr>\n",
       "    <tr>\n",
       "      <th>3</th>\n",
       "      <td>PT83880</td>\n",
       "      <td>26</td>\n",
       "      <td>61.2</td>\n",
       "      <td>17.0</td>\n",
       "      <td>20</td>\n",
       "      <td>31.0</td>\n",
       "      <td>16.0</td>\n",
       "      <td>21</td>\n",
       "      <td>22</td>\n",
       "      <td>44</td>\n",
       "      <td>27.0</td>\n",
       "      <td>35</td>\n",
       "      <td>19</td>\n",
       "      <td>28.0</td>\n",
       "      <td>22</td>\n",
       "      <td>47.0</td>\n",
       "      <td>0</td>\n",
       "    </tr>\n",
       "    <tr>\n",
       "      <th>4</th>\n",
       "      <td>Y6</td>\n",
       "      <td>29</td>\n",
       "      <td>63.2</td>\n",
       "      <td>20.0</td>\n",
       "      <td>24</td>\n",
       "      <td>33.0</td>\n",
       "      <td>15.3</td>\n",
       "      <td>26</td>\n",
       "      <td>24</td>\n",
       "      <td>43</td>\n",
       "      <td>28.0</td>\n",
       "      <td>34</td>\n",
       "      <td>16</td>\n",
       "      <td>28.0</td>\n",
       "      <td>25</td>\n",
       "      <td>43.0</td>\n",
       "      <td>1</td>\n",
       "    </tr>\n",
       "    <tr>\n",
       "      <th>5</th>\n",
       "      <td>Y5</td>\n",
       "      <td>31</td>\n",
       "      <td>58.0</td>\n",
       "      <td>21.0</td>\n",
       "      <td>23</td>\n",
       "      <td>32.0</td>\n",
       "      <td>15.3</td>\n",
       "      <td>24</td>\n",
       "      <td>24</td>\n",
       "      <td>42</td>\n",
       "      <td>28.0</td>\n",
       "      <td>36</td>\n",
       "      <td>18</td>\n",
       "      <td>27.0</td>\n",
       "      <td>21</td>\n",
       "      <td>45.0</td>\n",
       "      <td>1</td>\n",
       "    </tr>\n",
       "    <tr>\n",
       "      <th>6</th>\n",
       "      <td>GT37184</td>\n",
       "      <td>27</td>\n",
       "      <td>56.0</td>\n",
       "      <td>23.0</td>\n",
       "      <td>20</td>\n",
       "      <td>33.0</td>\n",
       "      <td>15.0</td>\n",
       "      <td>26</td>\n",
       "      <td>19</td>\n",
       "      <td>43</td>\n",
       "      <td>28.0</td>\n",
       "      <td>36</td>\n",
       "      <td>20</td>\n",
       "      <td>41.0</td>\n",
       "      <td>22</td>\n",
       "      <td>47.0</td>\n",
       "      <td>0</td>\n",
       "    </tr>\n",
       "    <tr>\n",
       "      <th>7</th>\n",
       "      <td>PT84181</td>\n",
       "      <td>27</td>\n",
       "      <td>66.0</td>\n",
       "      <td>21.0</td>\n",
       "      <td>22</td>\n",
       "      <td>31.0</td>\n",
       "      <td>16.0</td>\n",
       "      <td>23</td>\n",
       "      <td>23</td>\n",
       "      <td>44</td>\n",
       "      <td>30.4</td>\n",
       "      <td>32</td>\n",
       "      <td>16</td>\n",
       "      <td>35.0</td>\n",
       "      <td>24</td>\n",
       "      <td>42.0</td>\n",
       "      <td>0</td>\n",
       "    </tr>\n",
       "  </tbody>\n",
       "</table>\n",
       "</div>"
      ],
      "text/plain": [
       "  Unnamed: 0  D8S1179  D21S11  D7S820  CSF1PO  D3S1358  TH01  D13S317  \\\n",
       "0    OT07760       21    59.0    17.0      21     34.0  13.0       22   \n",
       "1    PT84187       29    55.0    20.0      18     33.0  15.3       23   \n",
       "2    UA16921       22    60.0    19.0      21     32.0  16.0       22   \n",
       "3    PT83880       26    61.2    17.0      20     31.0  16.0       21   \n",
       "4         Y6       29    63.2    20.0      24     33.0  15.3       26   \n",
       "5         Y5       31    58.0    21.0      23     32.0  15.3       24   \n",
       "6    GT37184       27    56.0    23.0      20     33.0  15.0       26   \n",
       "7    PT84181       27    66.0    21.0      22     31.0  16.0       23   \n",
       "\n",
       "   D16S539  D2S1338  D19S433  vWA  TPOX  D18S51  D5S818   FGA  population  \n",
       "0       23       41     30.2   33    19    35.0      24  47.0           1  \n",
       "1       26       38     27.0   36    21    35.0      26  47.0           0  \n",
       "2       22       46     25.0   33    21    25.0      22  40.0           1  \n",
       "3       22       44     27.0   35    19    28.0      22  47.0           0  \n",
       "4       24       43     28.0   34    16    28.0      25  43.0           1  \n",
       "5       24       42     28.0   36    18    27.0      21  45.0           1  \n",
       "6       19       43     28.0   36    20    41.0      22  47.0           0  \n",
       "7       23       44     30.4   32    16    35.0      24  42.0           0  "
      ]
     },
     "execution_count": 30,
     "metadata": {},
     "output_type": "execute_result"
    }
   ],
   "source": [
    "import pandas as pd\n",
    "prac7Train = pd.read_csv('prac7csv/prac7Train.csv')\n",
    "prac7Test = pd.read_csv('prac7csv/prac7Test.csv')\n",
    "\n",
    "population = {'Caucasian': 1,'African American': 0} \n",
    "# traversing through dataframe \n",
    "# famhist column and writing \n",
    "# values where key matches\n",
    "prac7Train.population = [population[item] for item in prac7Train.population] \n",
    "feature_names = np.array(list(prac7Train)[1:16])\n",
    "prac7Train.head(8)\n"
   ]
  },
  {
   "cell_type": "code",
   "execution_count": 31,
   "metadata": {
    "colab": {},
    "colab_type": "code",
    "executionInfo": {
     "elapsed": 870,
     "status": "ok",
     "timestamp": 1592399484020,
     "user": {
      "displayName": "彭廷莹",
      "photoUrl": "https://lh3.googleusercontent.com/a-/AOh14Gg-TVZvcFXv_ddQnFSonh6P-VF0zYaqOPEA1p_l=s64",
      "userId": "00488430844757231586"
     },
     "user_tz": -120
    },
    "id": "PeMD-5nGUbN_"
   },
   "outputs": [],
   "source": [
    "Xtrain = prac7Train.values[:,1:16].astype('float')\n",
    "ytrain = prac7Train.values[:,16]\n",
    "ytrain = ytrain.astype('int')\n",
    "# Xtrain = preprocessing.scale(X_train)\n",
    "\n",
    "prac7Test.population = [population[item] for item in prac7Test.population] \n",
    "Xtest = prac7Test.values[:,1:16].astype('float')\n",
    "ytest = prac7Test.values[:,16]\n",
    "ytest = ytest.astype('int')\n",
    "# Xtest = preprocessing.scale(X_test)  "
   ]
  },
  {
   "cell_type": "code",
   "execution_count": 32,
   "metadata": {
    "colab": {
     "base_uri": "https://localhost:8080/",
     "height": 119
    },
    "colab_type": "code",
    "executionInfo": {
     "elapsed": 702,
     "status": "ok",
     "timestamp": 1592399486338,
     "user": {
      "displayName": "彭廷莹",
      "photoUrl": "https://lh3.googleusercontent.com/a-/AOh14Gg-TVZvcFXv_ddQnFSonh6P-VF0zYaqOPEA1p_l=s64",
      "userId": "00488430844757231586"
     },
     "user_tz": -120
    },
    "id": "KApNn_HUYwrU",
    "outputId": "cba7eb4d-c91e-4c4d-cd69-018fc9077567"
   },
   "outputs": [
    {
     "name": "stdout",
     "output_type": "stream",
     "text": [
      "[26.36103152 59.68166189 19.86074499 21.99426934 31.94326648 15.53753582\n",
      " 22.72206304 22.24355301 41.58452722 27.37535817 33.13467049 18.06590258\n",
      " 31.30544413 23.12893983 44.86532951]\n",
      "[2.37254474 2.56831176 1.95503333 1.96238886 1.57206695 1.8381022\n",
      " 2.17964017 2.05253215 4.00528177 1.83045556 1.99617865 2.24915409\n",
      " 3.47811811 1.70386188 3.07791397]\n"
     ]
    }
   ],
   "source": [
    "Xtrain_mean = np.mean(Xtrain,axis=0)\n",
    "Xtrain_std = np.std(Xtrain,axis = 0)\n",
    "print(Xtrain_mean)\n",
    "print(Xtrain_std)\n",
    "# Scale training data to have zero mean and unit variance (standard derivation)\n",
    "Xtrain = (Xtrain-Xtrain_mean)/Xtrain_std\n",
    "# # Scale testing data using training mean and trainig standard derivation\n",
    "Xtest = (Xtest-Xtrain_mean)/Xtrain_std"
   ]
  },
  {
   "cell_type": "code",
   "execution_count": 33,
   "metadata": {
    "colab": {
     "base_uri": "https://localhost:8080/",
     "height": 102
    },
    "colab_type": "code",
    "executionInfo": {
     "elapsed": 610,
     "status": "ok",
     "timestamp": 1592399489140,
     "user": {
      "displayName": "彭廷莹",
      "photoUrl": "https://lh3.googleusercontent.com/a-/AOh14Gg-TVZvcFXv_ddQnFSonh6P-VF0zYaqOPEA1p_l=s64",
      "userId": "00488430844757231586"
     },
     "user_tz": -120
    },
    "id": "V-ij5YNUgSFm",
    "outputId": "d6228210-21e0-45a9-b94e-9afb58ebd84c"
   },
   "outputs": [
    {
     "name": "stdout",
     "output_type": "stream",
     "text": [
      "[-2.44312689e-16 -2.40749795e-15 -3.20660404e-16 -6.59135274e-16\n",
      " -1.68982943e-15 -8.24555324e-16 -5.49703549e-16  1.42515735e-16\n",
      "  5.16619539e-16 -5.70062940e-16  1.61093679e-15  5.49703549e-16\n",
      "  1.22156344e-15 -1.01796954e-15 -9.67071059e-16]\n",
      "[1. 1. 1. 1. 1. 1. 1. 1. 1. 1. 1. 1. 1. 1. 1.]\n"
     ]
    }
   ],
   "source": [
    "print(np.mean(Xtrain,axis = 0))\n",
    "print(np.std(Xtrain,axis = 0))"
   ]
  },
  {
   "cell_type": "code",
   "execution_count": 34,
   "metadata": {
    "colab": {
     "base_uri": "https://localhost:8080/",
     "height": 119
    },
    "colab_type": "code",
    "executionInfo": {
     "elapsed": 473,
     "status": "ok",
     "timestamp": 1592384975251,
     "user": {
      "displayName": "彭廷莹",
      "photoUrl": "https://lh3.googleusercontent.com/a-/AOh14Gg-TVZvcFXv_ddQnFSonh6P-VF0zYaqOPEA1p_l=s64",
      "userId": "00488430844757231586"
     },
     "user_tz": -120
    },
    "id": "bEbqZJ0dUbOL",
    "outputId": "d1f3cd8e-c9d2-43da-8db1-d916287226cc"
   },
   "outputs": [
    {
     "data": {
      "text/plain": [
       "DecisionTreeClassifier(criterion='entropy')"
      ]
     },
     "execution_count": 34,
     "metadata": {},
     "output_type": "execute_result"
    }
   ],
   "source": [
    "from sklearn.tree import DecisionTreeClassifier\n",
    "from sklearn import preprocessing\n",
    "decision_tree = DecisionTreeClassifier(criterion='entropy', \n",
    "                                       max_depth=None)\n",
    "\n",
    "# fit the model to the training data\n",
    "decision_tree.fit(Xtrain, ytrain)"
   ]
  },
  {
   "cell_type": "code",
   "execution_count": 35,
   "metadata": {
    "colab": {
     "base_uri": "https://localhost:8080/",
     "height": 312
    },
    "colab_type": "code",
    "executionInfo": {
     "elapsed": 989,
     "status": "ok",
     "timestamp": 1592384978913,
     "user": {
      "displayName": "彭廷莹",
      "photoUrl": "https://lh3.googleusercontent.com/a-/AOh14Gg-TVZvcFXv_ddQnFSonh6P-VF0zYaqOPEA1p_l=s64",
      "userId": "00488430844757231586"
     },
     "user_tz": -120
    },
    "id": "XdAlIt11UbOY",
    "outputId": "f332d836-16d9-417a-d8c2-f918bf93e085"
   },
   "outputs": [
    {
     "name": "stderr",
     "output_type": "stream",
     "text": [
      "No handles with labels found to put in legend.\n"
     ]
    },
    {
     "data": {
      "image/png": "[encoded data removed]",
      "text/plain": [
       "<Figure size 432x288 with 1 Axes>"
      ]
     },
     "metadata": {
      "needs_background": "light"
     },
     "output_type": "display_data"
    }
   ],
   "source": [
    "# can look at feature importance for this dataset given the model\n",
    "# normalized total reduction of the criterion (entropy in this case) brought by this feature\n",
    "feature_imp_tree = decision_tree.feature_importances_\n",
    "indices = np.argsort(feature_imp_tree)[::-1]\n",
    "sns.barplot(x=feature_imp_tree[indices], y=feature_names[indices])\n",
    "# Add labels to your graph\n",
    "plt.xlabel('Feature Importance Score')\n",
    "plt.ylabel('Features')\n",
    "plt.title(\"Visualizing Important Features\")\n",
    "plt.legend()\n",
    "plt.show()"
   ]
  },
  {
   "cell_type": "code",
   "execution_count": 36,
   "metadata": {
    "colab": {
     "base_uri": "https://localhost:8080/",
     "height": 34
    },
    "colab_type": "code",
    "executionInfo": {
     "elapsed": 525,
     "status": "ok",
     "timestamp": 1592384988889,
     "user": {
      "displayName": "彭廷莹",
      "photoUrl": "https://lh3.googleusercontent.com/a-/AOh14Gg-TVZvcFXv_ddQnFSonh6P-VF0zYaqOPEA1p_l=s64",
      "userId": "00488430844757231586"
     },
     "user_tz": -120
    },
    "id": "_DkkXVMVUbOc",
    "outputId": "fd63852c-cbb5-4729-f3eb-61225a153f32"
   },
   "outputs": [
    {
     "name": "stdout",
     "output_type": "stream",
     "text": [
      "training accuracy: 1.00 testing accuracy: 0.68\n"
     ]
    }
   ],
   "source": [
    "from sklearn.metrics import accuracy_score\n",
    "\n",
    "\n",
    "\n",
    "train_score = accuracy_score(ytrain, decision_tree.predict(Xtrain))\n",
    "test_score = accuracy_score(ytest, decision_tree.predict(Xtest))\n",
    "print('training accuracy: {:2.2f}'.format(train_score), 'testing accuracy: {:2.2f}'.format(test_score))"
   ]
  },
  {
   "cell_type": "code",
   "execution_count": 37,
   "metadata": {
    "colab": {
     "base_uri": "https://localhost:8080/",
     "height": 282
    },
    "colab_type": "code",
    "executionInfo": {
     "elapsed": 792,
     "status": "ok",
     "timestamp": 1592385038984,
     "user": {
      "displayName": "彭廷莹",
      "photoUrl": "https://lh3.googleusercontent.com/a-/AOh14Gg-TVZvcFXv_ddQnFSonh6P-VF0zYaqOPEA1p_l=s64",
      "userId": "00488430844757231586"
     },
     "user_tz": -120
    },
    "id": "bxPzUVenz5-R",
    "outputId": "985ab72f-9b11-4354-a685-c4925fb0ae0a"
   },
   "outputs": [
    {
     "data": {
      "text/plain": [
       "<matplotlib.legend.Legend at 0x7fa0006fdfd0>"
      ]
     },
     "execution_count": 37,
     "metadata": {},
     "output_type": "execute_result"
    },
    {
     "data": {
      "image/png": "[encoded data removed]",
      "text/plain": [
       "<Figure size 432x288 with 1 Axes>"
      ]
     },
     "metadata": {
      "needs_background": "light"
     },
     "output_type": "display_data"
    }
   ],
   "source": [
    "max_depth_values = np.arange(1,50)\n",
    "train_score = np.zeros(max_depth_values.shape[0])\n",
    "test_score = np.zeros(max_depth_values.shape[0])\n",
    "\n",
    "for i, max_depth in enumerate(max_depth_values):\n",
    "  decision_tree = DecisionTreeClassifier(criterion='entropy', \n",
    "                                       max_depth=max_depth)\n",
    "\n",
    "  # fit the model to the training data\n",
    "  decision_tree.fit(Xtrain, ytrain)\n",
    "  train_score[i] = accuracy_score(ytrain, decision_tree.predict(Xtrain))\n",
    "  test_score[i] = accuracy_score(ytest, decision_tree.predict(Xtest))\n",
    "\n",
    "plt.plot(max_depth_values,train_score,label='training')\n",
    "plt.plot(max_depth_values,test_score,label='testing')\n",
    "plt.legend()"
   ]
  },
  {
   "cell_type": "code",
   "execution_count": 38,
   "metadata": {
    "colab": {
     "base_uri": "https://localhost:8080/",
     "height": 282
    },
    "colab_type": "code",
    "executionInfo": {
     "elapsed": 639,
     "status": "ok",
     "timestamp": 1592385091121,
     "user": {
      "displayName": "彭廷莹",
      "photoUrl": "https://lh3.googleusercontent.com/a-/AOh14Gg-TVZvcFXv_ddQnFSonh6P-VF0zYaqOPEA1p_l=s64",
      "userId": "00488430844757231586"
     },
     "user_tz": -120
    },
    "id": "wNClfGJU2vD6",
    "outputId": "5091a26d-6bdc-4e56-a4cd-6c21a87291fe"
   },
   "outputs": [
    {
     "data": {
      "text/plain": [
       "<matplotlib.legend.Legend at 0x7fa000707b50>"
      ]
     },
     "execution_count": 38,
     "metadata": {},
     "output_type": "execute_result"
    },
    {
     "data": {
      "image/png": "[encoded data removed]",
      "text/plain": [
       "<Figure size 432x288 with 1 Axes>"
      ]
     },
     "metadata": {
      "needs_background": "light"
     },
     "output_type": "display_data"
    }
   ],
   "source": [
    "max_features_values = np.arange(1,16)\n",
    "train_score = np.zeros(max_features_values.shape[0])\n",
    "test_score = np.zeros(max_features_values.shape[0])\n",
    "\n",
    "for i, max_features in enumerate(max_features_values):\n",
    "  decision_tree = DecisionTreeClassifier(criterion='entropy', \n",
    "                                       max_depth=4, max_features=max_features)\n",
    "\n",
    "  # fit the model to the training data\n",
    "  decision_tree.fit(Xtrain, ytrain)\n",
    "  train_score[i] = accuracy_score(ytrain, decision_tree.predict(Xtrain))\n",
    "  test_score[i] = accuracy_score(ytest, decision_tree.predict(Xtest))\n",
    "\n",
    "plt.plot(max_features_values,train_score,label='training')\n",
    "plt.plot(max_features_values,test_score,label='testing')\n",
    "plt.legend()"
   ]
  },
  {
   "cell_type": "markdown",
   "metadata": {
    "colab_type": "text",
    "id": "Hqt6TDRM20oD"
   },
   "source": [
    "## Exercise 2"
   ]
  },
  {
   "cell_type": "code",
   "execution_count": 39,
   "metadata": {
    "colab": {
     "base_uri": "https://localhost:8080/",
     "height": 153
    },
    "colab_type": "code",
    "executionInfo": {
     "elapsed": 944,
     "status": "ok",
     "timestamp": 1592399577531,
     "user": {
      "displayName": "彭廷莹",
      "photoUrl": "https://lh3.googleusercontent.com/a-/AOh14Gg-TVZvcFXv_ddQnFSonh6P-VF0zYaqOPEA1p_l=s64",
      "userId": "00488430844757231586"
     },
     "user_tz": -120
    },
    "id": "NrY-jd9dUbOl",
    "outputId": "9ceb0650-adee-4bbb-e771-444dd042c8fa"
   },
   "outputs": [
    {
     "data": {
      "text/plain": [
       "RandomForestClassifier()"
      ]
     },
     "execution_count": 39,
     "metadata": {},
     "output_type": "execute_result"
    }
   ],
   "source": [
    "from sklearn.ensemble import RandomForestClassifier\n",
    "# initiate a random forest object\n",
    "rfc = RandomForestClassifier(criterion='entropy', \n",
    "                             n_estimators=100,\n",
    "                             max_depth=None, \n",
    "                             bootstrap=True, \n",
    "                             n_jobs=None,\n",
    "                            random_state=0)\n",
    "rfc=RandomForestClassifier(n_estimators=100)\n",
    "# fit the model\n",
    "rfc.fit(Xtrain, ytrain)"
   ]
  },
  {
   "cell_type": "code",
   "execution_count": 40,
   "metadata": {
    "colab": {
     "base_uri": "https://localhost:8080/",
     "height": 34
    },
    "colab_type": "code",
    "executionInfo": {
     "elapsed": 671,
     "status": "ok",
     "timestamp": 1592399598276,
     "user": {
      "displayName": "彭廷莹",
      "photoUrl": "https://lh3.googleusercontent.com/a-/AOh14Gg-TVZvcFXv_ddQnFSonh6P-VF0zYaqOPEA1p_l=s64",
      "userId": "00488430844757231586"
     },
     "user_tz": -120
    },
    "id": "Y7Yixl6XUbOw",
    "outputId": "af0b6fd3-d3f3-48e4-d0f9-28d011d04195"
   },
   "outputs": [
    {
     "name": "stdout",
     "output_type": "stream",
     "text": [
      "training accuracy: 1.00 testing accuracy: 0.79\n"
     ]
    }
   ],
   "source": [
    "from sklearn.metrics import accuracy_score\n",
    "train_score = accuracy_score(ytrain, rfc.predict(Xtrain))\n",
    "test_score = accuracy_score(ytest, rfc.predict(Xtest))\n",
    "print('training accuracy: {:2.2f}'.format(train_score), 'testing accuracy: {:2.2f}'.format(test_score))"
   ]
  },
  {
   "cell_type": "code",
   "execution_count": 41,
   "metadata": {
    "colab": {
     "base_uri": "https://localhost:8080/",
     "height": 282
    },
    "colab_type": "code",
    "executionInfo": {
     "elapsed": 8662,
     "status": "ok",
     "timestamp": 1592399639781,
     "user": {
      "displayName": "彭廷莹",
      "photoUrl": "https://lh3.googleusercontent.com/a-/AOh14Gg-TVZvcFXv_ddQnFSonh6P-VF0zYaqOPEA1p_l=s64",
      "userId": "00488430844757231586"
     },
     "user_tz": -120
    },
    "id": "DKNlgxYs4LX-",
    "outputId": "e4468b7b-b1a9-4c25-b0cf-68cdcadadace"
   },
   "outputs": [
    {
     "data": {
      "text/plain": [
       "<matplotlib.legend.Legend at 0x7fa0011f2d90>"
      ]
     },
     "execution_count": 41,
     "metadata": {},
     "output_type": "execute_result"
    },
    {
     "data": {
      "image/png": "[encoded data removed]",
      "text/plain": [
       "<Figure size 432x288 with 1 Axes>"
      ]
     },
     "metadata": {
      "needs_background": "light"
     },
     "output_type": "display_data"
    }
   ],
   "source": [
    "n_estimators_values = np.arange(1,100)\n",
    "train_score = np.zeros(n_estimators_values.shape[0])\n",
    "test_score = np.zeros(n_estimators_values.shape[0])\n",
    "\n",
    "for i, n_estimators in enumerate(n_estimators_values):\n",
    "  rfc = RandomForestClassifier(n_estimators=n_estimators)\n",
    "\n",
    "  # fit the model to the training data\n",
    "  rfc.fit(Xtrain, ytrain)\n",
    "  train_score[i] = accuracy_score(ytrain, rfc.predict(Xtrain))\n",
    "  test_score[i] = accuracy_score(ytest, rfc.predict(Xtest))\n",
    "\n",
    "plt.plot(n_estimators_values,train_score,label='training')\n",
    "plt.plot(n_estimators_values,test_score,label='testing')\n",
    "plt.legend()"
   ]
  },
  {
   "cell_type": "code",
   "execution_count": 42,
   "metadata": {
    "colab": {
     "base_uri": "https://localhost:8080/",
     "height": 282
    },
    "colab_type": "code",
    "executionInfo": {
     "elapsed": 8319,
     "status": "ok",
     "timestamp": 1592399895919,
     "user": {
      "displayName": "彭廷莹",
      "photoUrl": "https://lh3.googleusercontent.com/a-/AOh14Gg-TVZvcFXv_ddQnFSonh6P-VF0zYaqOPEA1p_l=s64",
      "userId": "00488430844757231586"
     },
     "user_tz": -120
    },
    "id": "EytyD7aWZkDa",
    "outputId": "8a30941c-b6f0-42c8-9c79-d79e5e28b941"
   },
   "outputs": [
    {
     "data": {
      "text/plain": [
       "<matplotlib.legend.Legend at 0x7fa0007d4950>"
      ]
     },
     "execution_count": 42,
     "metadata": {},
     "output_type": "execute_result"
    },
    {
     "data": {
      "image/png": "[encoded data removed]",
      "text/plain": [
       "<Figure size 432x288 with 1 Axes>"
      ]
     },
     "metadata": {
      "needs_background": "light"
     },
     "output_type": "display_data"
    }
   ],
   "source": [
    "max_depth_values = np.arange(1,50)\n",
    "train_score = np.zeros(max_depth_values.shape[0])\n",
    "test_score = np.zeros(max_depth_values.shape[0])\n",
    "\n",
    "for i, max_depth in enumerate(max_depth_values):\n",
    "  rfc = RandomForestClassifier(n_estimators=100, max_depth = max_depth)\n",
    "\n",
    "  # fit the model to the training data\n",
    "  rfc.fit(Xtrain, ytrain)\n",
    "  train_score[i] = accuracy_score(ytrain, rfc.predict(Xtrain))\n",
    "  test_score[i] = accuracy_score(ytest, rfc.predict(Xtest))\n",
    "\n",
    "plt.plot(max_depth_values,train_score,label='training')\n",
    "plt.plot(max_depth_values,test_score,label='testing')\n",
    "plt.legend()"
   ]
  },
  {
   "cell_type": "code",
   "execution_count": null,
   "metadata": {
    "colab": {
     "base_uri": "https://localhost:8080/",
     "height": 282
    },
    "colab_type": "code",
    "executionInfo": {
     "elapsed": 16874,
     "status": "ok",
     "timestamp": 1592385270486,
     "user": {
      "displayName": "彭廷莹",
      "photoUrl": "https://lh3.googleusercontent.com/a-/AOh14Gg-TVZvcFXv_ddQnFSonh6P-VF0zYaqOPEA1p_l=s64",
      "userId": "00488430844757231586"
     },
     "user_tz": -120
    },
    "id": "NVJI0JBW4Bxr",
    "outputId": "19dce400-6061-4a33-8562-65d65dd1f70c"
   },
   "outputs": [],
   "source": [
    "max_samples_values = np.arange(0.01,1,0.01)\n",
    "train_score = np.zeros(max_samples_values.shape[0])\n",
    "test_score = np.zeros(max_samples_values.shape[0])\n",
    "\n",
    "for i, max_samples in enumerate(max_samples_values):\n",
    "  rfc = RandomForestClassifier(n_estimators=100, max_samples = max_samples)\n",
    "\n",
    "  # fit the model to the training data\n",
    "  rfc.fit(Xtrain, ytrain)\n",
    "  train_score[i] = accuracy_score(ytrain, rfc.predict(Xtrain))\n",
    "  test_score[i] = accuracy_score(ytest, rfc.predict(Xtest))\n",
    "\n",
    "plt.plot(max_samples_values,train_score,label='training')\n",
    "plt.plot(max_samples_values,test_score,label='testing')\n",
    "plt.legend()"
   ]
  },
  {
   "cell_type": "code",
   "execution_count": null,
   "metadata": {
    "colab": {
     "base_uri": "https://localhost:8080/",
     "height": 282
    },
    "colab_type": "code",
    "executionInfo": {
     "elapsed": 3621,
     "status": "ok",
     "timestamp": 1592385423687,
     "user": {
      "displayName": "彭廷莹",
      "photoUrl": "https://lh3.googleusercontent.com/a-/AOh14Gg-TVZvcFXv_ddQnFSonh6P-VF0zYaqOPEA1p_l=s64",
      "userId": "00488430844757231586"
     },
     "user_tz": -120
    },
    "id": "WVE3YO6549EQ",
    "outputId": "f8e80945-0740-420f-be02-3dd4b60cc46d"
   },
   "outputs": [
    {
     "data": {
      "text/plain": [
       "<matplotlib.legend.Legend at 0x7f3e810bcb00>"
      ]
     },
     "execution_count": 75,
     "metadata": {
      "tags": []
     },
     "output_type": "execute_result"
    },
    {
     "data": {
      "image/png": "[encoded data removed]",
      "text/plain": [
       "<Figure size 432x288 with 1 Axes>"
      ]
     },
     "metadata": {
      "needs_background": "light",
      "tags": []
     },
     "output_type": "display_data"
    }
   ],
   "source": [
    "max_features_values = np.arange(1,15)\n",
    "train_score = np.zeros(max_features_values.shape[0])\n",
    "test_score = np.zeros(max_features_values.shape[0])\n",
    "\n",
    "for i, max_features in enumerate(max_features_values):\n",
    "  rfc = RandomForestClassifier(n_estimators=100, max_features = max_features)\n",
    "\n",
    "  # fit the model to the training data\n",
    "  rfc.fit(Xtrain, ytrain)\n",
    "  train_score[i] = accuracy_score(ytrain, rfc.predict(Xtrain))\n",
    "  test_score[i] = accuracy_score(ytest, rfc.predict(Xtest))\n",
    "\n",
    "plt.plot(max_features_values,train_score,label='training')\n",
    "plt.plot(max_features_values,test_score,label='testing')\n",
    "plt.legend()"
   ]
  },
  {
   "cell_type": "code",
   "execution_count": null,
   "metadata": {
    "colab": {},
    "colab_type": "code",
    "id": "CmHvUL0P5ovJ"
   },
   "outputs": [],
   "source": []
  }
 ],
 "metadata": {
  "colab": {
   "name": "Sheet07_PySol_dom.ipynb",
   "provenance": []
  },
  "kernelspec": {
   "display_name": "Python 3",
   "language": "python",
   "name": "python3"
  },
  "language_info": {
   "codemirror_mode": {
    "name": "ipython",
    "version": 3
   },
   "file_extension": ".py",
   "mimetype": "text/x-python",
   "name": "python",
   "nbconvert_exporter": "python",
   "pygments_lexer": "ipython3",
   "version": "3.7.7"
  }
 },
 "nbformat": 4,
 "nbformat_minor": 1
}
