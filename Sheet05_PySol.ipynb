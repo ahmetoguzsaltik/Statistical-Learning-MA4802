{
 "cells": [
  {
   "cell_type": "markdown",
   "metadata": {
    "colab_type": "text",
    "id": "H-jh5Gu6QDpm"
   },
   "source": [
    "# Sheet 5: Solution"
   ]
  },
  {
   "cell_type": "code",
   "execution_count": 3,
   "metadata": {
    "colab": {},
    "colab_type": "code",
    "id": "qhUOyY4RQDpo"
   },
   "outputs": [],
   "source": [
    "%matplotlib inline \n",
    "import matplotlib\n",
    "import matplotlib.pyplot as plt\n",
    "import numpy as np\n",
    "import pandas as pd"
   ]
  },
  {
   "cell_type": "markdown",
   "metadata": {
    "colab_type": "text",
    "id": "PIuFGFCLQDpv"
   },
   "source": [
    "## Exercise 1"
   ]
  },
  {
   "cell_type": "markdown",
   "metadata": {
    "colab_type": "text",
    "id": "QGsX-g51QDpw"
   },
   "source": [
    "(a) See e.g. Lecture Slide for the proof.\n",
    "\n",
    "\\begin{eqnarray*}\n",
    "\\mathcal{1}(\\theta)&=&\n",
    "\\sum_{i=1}^N\\sum_{k=1}^K 1_{y_i=k} (\\log \\mathcal{N}(x_i|\\mu_k,\\Sigma_k) + \\log\\pi_k)\\\\\n",
    "&=&\\sum_{k=1}^K \\left(\\sum_{i | y_i=k} \\log \\mathcal{N}(x_i|\\mu_k,\\Sigma_k)\\right) + \\sum_{k=1}^K N_k\\log\\pi_{k}\n",
    "%+ \\sum_{i=1}^N\\log\\pi_{y_i}\n",
    "\\end{eqnarray*}\n",
    "where:\n",
    "$$\n",
    "N_k = \\sum_{i=1}^{N} \\mathbb{1}(y_i=k)\n",
    "$$\n",
    "We take the partial derivative of the above function:\n",
    "$$\n",
    "\\frac{\\partial l(\\theta)}{\\partial \\hat{\\pi_k}}=0\\space \\text{subject to} \\sum_{k=1}^K \\hat{\\pi_k} =1.\n",
    "$$\n",
    "With Lagrange multiplier \n",
    "$$\n",
    "\\mathcal{L}(\\pi_k,\\lambda)=\\sum_kN_k\\log\\pi_k-\\lambda(\\sum_k\\pi_k-1)\n",
    "$$\n",
    "$$\n",
    "\\frac{\\partial}{\\partial{\\pi_k}}\\sum_kN_k\\log\\pi_k=\\lambda\\frac{\\partial}{\\partial{\\pi_k}}(\\sum_k\\pi_k-1)\n",
    "$$\n",
    "$$\n",
    "\\frac{N_k}{\\pi_k}=\\lambda \\forall k\\in{1,...,K}\n",
    "$$\n",
    ", we get:\n",
    "$$\n",
    "\\hat{\\pi_k}=\\frac{N_k}{N}\n",
    "$$\n",
    "Similarly, we set \n",
    "\n",
    "$$\n",
    "\\frac{\\partial l(\\theta)}{\\partial \\hat{\\mu_k}}=0 =>\\hat\\mu_k  = \\frac{1}{N_k} \\sum_{i=1}^{N} \\mathbb{1}(y_i=k) x_i\n",
    "$$\n",
    "$$\n",
    "\\frac{\\partial l(\\theta)}{\\partial \\hat{\\sigma_k}}=0 =>\\hat\\Sigma_k = \\frac{1}{N_k} \\sum_{i=1}^{N} (x_i - \\hat\\mu_k)(x_i - \\hat\\mu_k)^T \\mathbb{1}(y_i=k)\n",
    "$$\n",
    "\n",
    "\n",
    "Clearly, these are closed-form solutions, which are easy to compute.\n",
    "\n",
    "(b) GDA models the full probability distribution $P(y,x)$ of output $G$ and features $X$. Linear regression for classification (a more advanced version will be logistic regression) only models $P(g|x)$, that is, assumes the values of the features $X$ to be given. The former is able can be used to sample the complete data (generative model), while the latter is not able to do so (discriminative model). \n",
    "\n",
    "If the data is Gaussian distributed, the stronger restriction of GDA will allow to obtain a lower variance in the predicition error (better performance) given the same amount of training data. If the data is not Gaussian, the higher flexibility of the logit regression will usually allow to obtain better results. There would be many further issues to mention here, one of the most important is that GDA can be easily adapted to the unsupervised case, whereas logit regression cannot."
   ]
  },
  {
   "cell_type": "markdown",
   "metadata": {
    "colab_type": "text",
    "id": "mhVkWeUyQ3Qy"
   },
   "source": [
    "## Exercise 2"
   ]
  },
  {
   "cell_type": "code",
   "execution_count": 4,
   "metadata": {
    "colab": {},
    "colab_type": "code",
    "id": "qMdab1YnQDpw"
   },
   "outputs": [],
   "source": [
    "def dataset_fixed_cov():\n",
    "    '''Generate 2 Gaussians samples with the same covariance matrix'''\n",
    "    n, dim = 300, 2\n",
    "    np.random.seed(0)\n",
    "    C = np.array([[0., -0.25], [0.83, 0.23]])\n",
    "    X = np.r_[np.dot(np.random.randn(n, dim), C),\n",
    "              np.dot(np.random.randn(n, dim), C) + np.array([1, 1])]\n",
    "    y = np.hstack((np.zeros(n), np.ones(n)))\n",
    "    return X, y\n",
    "\n",
    "def dataset_varying_cov():\n",
    "    '''Generate 2 Gaussians samples with different covariance matrix'''\n",
    "    n, dim = 300, 2\n",
    "    np.random.seed(0)\n",
    "    C = np.array([[0., -0.25], [0.83, 0.23]])\n",
    "    X = np.r_[np.dot(np.random.randn(n, dim), C),\n",
    "              np.dot(np.random.randn(n, dim), np.transpose(C)) + np.array([1, 1])]\n",
    "    y = np.hstack((np.zeros(n), np.ones(n)))\n",
    "    return X, y\n"
   ]
  },
  {
   "cell_type": "code",
   "execution_count": 6,
   "metadata": {
    "colab": {
     "base_uri": "https://localhost:8080/",
     "height": 85
    },
    "colab_type": "code",
    "executionInfo": {
     "elapsed": 1009,
     "status": "ok",
     "timestamp": 1591186765330,
     "user": {
      "displayName": "彭廷莹",
      "photoUrl": "https://lh3.googleusercontent.com/a-/AOh14Gg-TVZvcFXv_ddQnFSonh6P-VF0zYaqOPEA1p_l=s64",
      "userId": "00488430844757231586"
     },
     "user_tz": -120
    },
    "id": "C9DROLpiGAAM",
    "outputId": "77d2d009-87d5-4625-e3a4-9848186d8620"
   },
   "outputs": [
    {
     "name": "stdout",
     "output_type": "stream",
     "text": [
      "sigma1\n",
      " [[0.6889 0.1909]\n",
      " [0.1909 0.1154]]\n",
      "sigma2\n",
      " [[ 0.0625 -0.0575]\n",
      " [-0.0575  0.7418]]\n"
     ]
    }
   ],
   "source": [
    "C1 = np.array([[0., -0.25], [0.83, 0.23]])\n",
    "sigma1 = np.transpose(C1).dot(C1)\n",
    "print('sigma1\\n',sigma1)\n",
    "C2 = np.transpose(C1)\n",
    "sigma2 = np.transpose(C2).dot(C2)\n",
    "print('sigma2\\n',sigma2)"
   ]
  },
  {
   "cell_type": "code",
   "execution_count": 7,
   "metadata": {
    "colab": {},
    "colab_type": "code",
    "id": "A1Hm_FG2QDp0"
   },
   "outputs": [],
   "source": [
    "X,y = dataset_varying_cov()"
   ]
  },
  {
   "cell_type": "code",
   "execution_count": 8,
   "metadata": {
    "colab": {
     "base_uri": "https://localhost:8080/",
     "height": 282
    },
    "colab_type": "code",
    "executionInfo": {
     "elapsed": 1119,
     "status": "ok",
     "timestamp": 1591186078473,
     "user": {
      "displayName": "彭廷莹",
      "photoUrl": "https://lh3.googleusercontent.com/a-/AOh14Gg-TVZvcFXv_ddQnFSonh6P-VF0zYaqOPEA1p_l=s64",
      "userId": "00488430844757231586"
     },
     "user_tz": -120
    },
    "id": "1TbZyAjJQDp3",
    "outputId": "88997021-a0e1-4e4b-cc8f-07a47eda6582"
   },
   "outputs": [
    {
     "data": {
      "text/plain": [
       "[<matplotlib.lines.Line2D at 0x7f91e2b1e750>]"
      ]
     },
     "execution_count": 8,
     "metadata": {},
     "output_type": "execute_result"
    },
    {
     "data": {
      "image/png": "[encoded data removed]",
      "text/plain": [
       "<Figure size 432x288 with 1 Axes>"
      ]
     },
     "metadata": {
      "needs_background": "light"
     },
     "output_type": "display_data"
    }
   ],
   "source": [
    "plt.plot(X[y==0,0],X[y==0,1],'r*')\n",
    "plt.plot(X[y==1,0],X[y==1,1],'b*')"
   ]
  },
  {
   "cell_type": "code",
   "execution_count": 9,
   "metadata": {
    "colab": {},
    "colab_type": "code",
    "id": "p-fOPWWFQDp8"
   },
   "outputs": [],
   "source": [
    "from matplotlib import colors\n",
    "# Colormap\n",
    "cmap = colors.LinearSegmentedColormap(\n",
    "    'red_blue_classes',\n",
    "    {'red': [(0, 1, 1), (1, 0.7, 0.7)],\n",
    "     'green': [(0, 0.7, 0.7), (1, 0.7, 0.7)],\n",
    "     'blue': [(0, 0.7, 0.7), (1, 1, 1)]})\n",
    "plt.cm.register_cmap(cmap=cmap)\n",
    "\n",
    "def plot_data(lda, X, y, y_pred, fig_index):\n",
    "    splot = plt.subplot(2, 2, fig_index)\n",
    "    if fig_index == 1:\n",
    "        plt.title('Linear Discriminant Analysis')\n",
    "        plt.ylabel('Data with\\n fixed covariance')\n",
    "    elif fig_index == 2:\n",
    "        plt.title('Quadratic Discriminant Analysis')\n",
    "    elif fig_index == 3:\n",
    "        plt.ylabel('Data with\\n varying covariances')\n",
    "\n",
    "    tp = (y == y_pred)  # True Positive\n",
    "    tp0, tp1 = tp[y == 0], tp[y == 1]\n",
    "    X0, X1 = X[y == 0], X[y == 1]\n",
    "    X0_tp, X0_fp = X0[tp0], X0[~tp0]\n",
    "    X1_tp, X1_fp = X1[tp1], X1[~tp1]\n",
    "\n",
    "    # class 0: dots\n",
    "    plt.scatter(X0_tp[:, 0], X0_tp[:, 1], marker='.', color='red')\n",
    "    plt.scatter(X0_fp[:, 0], X0_fp[:, 1], marker='x',\n",
    "                s=20, color='#990000')  # dark red\n",
    "\n",
    "    # class 1: dots\n",
    "    plt.scatter(X1_tp[:, 0], X1_tp[:, 1], marker='.', color='blue')\n",
    "    plt.scatter(X1_fp[:, 0], X1_fp[:, 1], marker='x',\n",
    "                s=20, color='#000099')  # dark blue\n",
    "\n",
    "    # class 0 and 1 : areas\n",
    "    nx, ny = 200, 100\n",
    "    x_min, x_max = plt.xlim()\n",
    "    y_min, y_max = plt.ylim()\n",
    "    xx, yy = np.meshgrid(np.linspace(x_min, x_max, nx),\n",
    "                         np.linspace(y_min, y_max, ny))\n",
    "    Z = lda.predict_proba(np.c_[xx.ravel(), yy.ravel()])\n",
    "    Z = Z[:, 1].reshape(xx.shape)\n",
    "    plt.pcolormesh(xx, yy, Z, cmap='red_blue_classes',\n",
    "                   norm=colors.Normalize(0., 1.), zorder=0)\n",
    "    plt.contour(xx, yy, Z, [0.5], linewidths=2., colors='white')\n",
    "\n",
    "    # means\n",
    "    plt.plot(lda.means_[0][0], lda.means_[0][1],\n",
    "             '*', color='yellow', markersize=15, markeredgecolor='grey')\n",
    "    plt.plot(lda.means_[1][0], lda.means_[1][1],\n",
    "             '*', color='yellow', markersize=15, markeredgecolor='grey')\n",
    "\n",
    "    return splot"
   ]
  },
  {
   "cell_type": "code",
   "execution_count": 10,
   "metadata": {
    "colab": {
     "base_uri": "https://localhost:8080/",
     "height": 163
    },
    "colab_type": "code",
    "executionInfo": {
     "elapsed": 1407,
     "status": "ok",
     "timestamp": 1590568549933,
     "user": {
      "displayName": "彭廷莹",
      "photoUrl": "https://lh3.googleusercontent.com/a-/AOh14Gg-TVZvcFXv_ddQnFSonh6P-VF0zYaqOPEA1p_l=s64",
      "userId": "00488430844757231586"
     },
     "user_tz": -120
    },
    "id": "YQRbwhe-QDp_",
    "outputId": "8bad1550-dbd4-4822-d794-05d7fed84ee7"
   },
   "outputs": [
    {
     "data": {
      "image/png": "[encoded data removed]",
      "text/plain": [
       "<Figure size 432x288 with 2 Axes>"
      ]
     },
     "metadata": {
      "needs_background": "light"
     },
     "output_type": "display_data"
    }
   ],
   "source": [
    "from sklearn.discriminant_analysis import LinearDiscriminantAnalysis\n",
    "from sklearn.discriminant_analysis import QuadraticDiscriminantAnalysis\n",
    "# Linear Discriminant Analysis\n",
    "lda = LinearDiscriminantAnalysis(solver=\"svd\", store_covariance=True)\n",
    "y_pred = lda.fit(X, y).predict(X)\n",
    "splot = plot_data(lda, X, y, y_pred, fig_index= 1)\n",
    "\n",
    "qda = QuadraticDiscriminantAnalysis(store_covariance=True)\n",
    "y_pred = qda.fit(X, y).predict(X)\n",
    "splot = plot_data(qda, X, y, y_pred, fig_index= 2)"
   ]
  },
  {
   "cell_type": "markdown",
   "metadata": {
    "colab_type": "text",
    "id": "M_VjT-KURiWq"
   },
   "source": [
    "## Exercise 3"
   ]
  },
  {
   "cell_type": "code",
   "execution_count": null,
   "metadata": {
    "colab": {},
    "colab_type": "code",
    "id": "zGtqd6GqQDqD"
   },
   "outputs": [],
   "source": [
    "from sklearn.datasets import load_wine\n",
    "from sklearn.model_selection import train_test_split\n",
    "features, target = load_wine(return_X_y=True)\n",
    "# Make a train/test split using 30% test size\n",
    "RANDOM_STATE=40\n",
    "Xtrain, Xtest, ytrain, ytest = train_test_split(features, target,\n",
    "                                                    test_size=0.30,\n",
    "                                                    random_state=RANDOM_STATE)"
   ]
  },
  {
   "cell_type": "code",
   "execution_count": null,
   "metadata": {
    "colab": {},
    "colab_type": "code",
    "id": "ox6jVgD_QDqO"
   },
   "outputs": [],
   "source": [
    "Xtrain_mean = np.mean(Xtrain)\n",
    "Xtrain_std = np.std(Xtrain)\n",
    "# Scale training data to have zero mean and unit variance (standard derivation)\n",
    "Xtrain = (Xtrain-Xtrain_mean)/Xtrain_std\n",
    "\n",
    "# Scale testing data using training mean and trainig standard derivation\n",
    "Xtest = (Xtest-Xtrain_mean)/Xtrain_std"
   ]
  },
  {
   "cell_type": "code",
   "execution_count": null,
   "metadata": {
    "colab": {},
    "colab_type": "code",
    "id": "WiQ1w689QDqT"
   },
   "outputs": [],
   "source": [
    "lda = LinearDiscriminantAnalysis(solver=\"svd\", store_covariance=True)\n",
    "fit_lda = lda.fit(Xtrain, ytrain)\n",
    "X_lda = fit_lda.transform(Xtrain)"
   ]
  },
  {
   "cell_type": "code",
   "execution_count": null,
   "metadata": {
    "colab": {
     "base_uri": "https://localhost:8080/",
     "height": 282
    },
    "colab_type": "code",
    "executionInfo": {
     "elapsed": 991,
     "status": "ok",
     "timestamp": 1590568581236,
     "user": {
      "displayName": "彭廷莹",
      "photoUrl": "https://lh3.googleusercontent.com/a-/AOh14Gg-TVZvcFXv_ddQnFSonh6P-VF0zYaqOPEA1p_l=s64",
      "userId": "00488430844757231586"
     },
     "user_tz": -120
    },
    "id": "DUfCzxRuQDqb",
    "outputId": "c6d68fe2-271e-4266-f5e0-c8220a1e67fb"
   },
   "outputs": [
    {
     "data": {
      "text/plain": [
       "[<matplotlib.lines.Line2D at 0x7f6655e5fc88>]"
      ]
     },
     "execution_count": 15,
     "metadata": {
      "tags": []
     },
     "output_type": "execute_result"
    },
    {
     "data": {
      "image/png": "[encoded data removed]",
      "text/plain": [
       "<Figure size 432x288 with 1 Axes>"
      ]
     },
     "metadata": {
      "needs_background": "light",
      "tags": []
     },
     "output_type": "display_data"
    }
   ],
   "source": [
    "plt.plot(X_lda[ytrain==0,0],X_lda[ytrain==0,1],'r*') # make a scatterplot\n",
    "plt.plot(X_lda[ytrain==1,0],X_lda[ytrain==1,1],'bo') # make a scatterplot\n",
    "plt.plot(X_lda[ytrain==2,0],X_lda[ytrain==2,1],'g+') # make a scatterplot"
   ]
  },
  {
   "cell_type": "code",
   "execution_count": null,
   "metadata": {
    "colab": {},
    "colab_type": "code",
    "id": "1OS24NT6QDqe"
   },
   "outputs": [],
   "source": [
    "from sklearn.decomposition import PCA\n",
    "pca = PCA(n_components=2)\n",
    "X_pca = pca.fit(Xtrain).transform(Xtrain)"
   ]
  },
  {
   "cell_type": "code",
   "execution_count": null,
   "metadata": {
    "colab": {
     "base_uri": "https://localhost:8080/",
     "height": 282
    },
    "colab_type": "code",
    "executionInfo": {
     "elapsed": 855,
     "status": "ok",
     "timestamp": 1590568588718,
     "user": {
      "displayName": "彭廷莹",
      "photoUrl": "https://lh3.googleusercontent.com/a-/AOh14Gg-TVZvcFXv_ddQnFSonh6P-VF0zYaqOPEA1p_l=s64",
      "userId": "00488430844757231586"
     },
     "user_tz": -120
    },
    "id": "JcEMnfqGQDqi",
    "outputId": "3c967336-b227-4091-9607-b8194f4e2a21"
   },
   "outputs": [
    {
     "data": {
      "text/plain": [
       "[<matplotlib.lines.Line2D at 0x7f6655948860>]"
      ]
     },
     "execution_count": 17,
     "metadata": {
      "tags": []
     },
     "output_type": "execute_result"
    },
    {
     "data": {
      "image/png": "[encoded data removed]",
      "text/plain": [
       "<Figure size 432x288 with 1 Axes>"
      ]
     },
     "metadata": {
      "needs_background": "light",
      "tags": []
     },
     "output_type": "display_data"
    }
   ],
   "source": [
    "plt.plot(X_pca[ytrain==0,0],X_pca[ytrain==0,1],'r*') # make a scatterplot\n",
    "plt.plot(X_pca[ytrain==1,0],X_pca[ytrain==1,1],'bo') # make a scatterplot\n",
    "plt.plot(X_pca[ytrain==2,0],X_pca[ytrain==2,1],'g+') # make a scatterplot"
   ]
  },
  {
   "cell_type": "markdown",
   "metadata": {
    "colab_type": "text",
    "id": "94wtaJhXQDqn"
   },
   "source": [
    "The purpose of linear discriminant analysis (LDA) in this example is to find the linear combinations of the original variables (the 13 chemical concentrations here) that gives the best possible separation between the groups (wine cultivars here) in our data set. Linear discriminant analysis is also known as “canonical discriminant analysis”, or simply “discriminant analysis”.\n",
    "\n",
    "If we want to separate the wines by cultivar, the wines come from three different cultivars, so the number of groups $G=3$, and the number of variables is 13 (13 chemicals’ concentrations; $p=13$). The maximum number of useful discriminant functions that can separate the wines by cultivar is the minimum of $G−1$\n",
    "and $p$, and so in this case it is the minimum of 2 and 13, which is 2. Thus, we can find at most 2 useful discriminant functions to separate the wines by cultivar, using the 13 chemical concentration variables.\n",
    "For futher explanation, please refer to http://multivariatestatsjl.readthedocs.io/en/latest/mclda.html"
   ]
  },
  {
   "cell_type": "code",
   "execution_count": null,
   "metadata": {
    "colab": {},
    "colab_type": "code",
    "id": "4L2NJjQXQDqo"
   },
   "outputs": [],
   "source": []
  }
 ],
 "metadata": {
  "colab": {
   "name": "Sheet05_PySol.ipynb",
   "provenance": []
  },
  "kernelspec": {
   "display_name": "Python 3",
   "language": "python",
   "name": "python3"
  },
  "language_info": {
   "codemirror_mode": {
    "name": "ipython",
    "version": 3
   },
   "file_extension": ".py",
   "mimetype": "text/x-python",
   "name": "python",
   "nbconvert_exporter": "python",
   "pygments_lexer": "ipython3",
   "version": "3.7.7"
  }
 },
 "nbformat": 4,
 "nbformat_minor": 1
}
